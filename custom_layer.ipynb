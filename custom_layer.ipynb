{
  "cells": [
    {
      "cell_type": "code",
      "execution_count": 1,
      "metadata": {
        "id": "c2qjwvrNZefw"
      },
      "outputs": [],
      "source": [
        "!pip install torchviz==0.0.3 -q"
      ]
    },
    {
      "cell_type": "code",
      "execution_count": 2,
      "metadata": {
        "id": "qyJcKF57ZRK8"
      },
      "outputs": [],
      "source": [
        "# Required imports\n",
        "import torch\n",
        "import torch.nn as nn\n",
        "import numpy as np\n",
        "import matplotlib.pyplot as plt\n",
        "from sklearn.datasets import make_regression\n",
        "from sklearn import metrics\n",
        "from torchviz import make_dot\n",
        "import math"
      ]
    },
    {
      "cell_type": "markdown",
      "metadata": {
        "id": "1J02mV0tZRK-"
      },
      "source": [
        "#### Load dataset"
      ]
    },
    {
      "cell_type": "code",
      "execution_count": 3,
      "metadata": {
        "colab": {
          "base_uri": "https://localhost:8080/"
        },
        "id": "ckP1r7t1mxrK",
        "outputId": "eaae9a26-89ff-4a0c-a255-ef6a497d3203"
      },
      "outputs": [
        {
          "output_type": "execute_result",
          "data": {
            "text/plain": [
              "(array([[-0.90802408,  1.46564877, -1.4123037 ],\n",
              "        [-0.54438272, -1.15099358,  0.11092259],\n",
              "        [ 0.24196227, -1.72491783, -1.91328024],\n",
              "        [ 0.37569802, -0.29169375, -0.60063869],\n",
              "        [ 1.52302986, -0.23413696, -0.23415337],\n",
              "        [ 0.54256004, -0.46572975, -0.46341769],\n",
              "        [ 0.49671415,  0.64768854, -0.1382643 ],\n",
              "        [-0.56228753,  0.31424733, -1.01283112],\n",
              "        [ 1.57921282, -0.46947439,  0.76743473],\n",
              "        [-0.2257763 , -1.42474819,  0.0675282 ]]),\n",
              " array([-106.40638687,  -46.41270092,  -88.70824211,   -4.29054154,\n",
              "          91.04704754,   11.04262105,   35.80536172,  -79.21856515,\n",
              "         136.10440487,  -29.86346474]))"
            ]
          },
          "metadata": {},
          "execution_count": 3
        }
      ],
      "source": [
        "# Load dataset\n",
        "X, y = make_regression(n_samples=10, n_features=3, n_informative=3, random_state=42)\n",
        "X, y"
      ]
    },
    {
      "cell_type": "code",
      "execution_count": 4,
      "metadata": {
        "colab": {
          "base_uri": "https://localhost:8080/"
        },
        "id": "KCMQmmizSNBA",
        "outputId": "e35c1bab-9e08-4703-ca2e-e0c65e887e63"
      },
      "outputs": [
        {
          "output_type": "execute_result",
          "data": {
            "text/plain": [
              "array([[ -9.1,  14.7, -14.1],\n",
              "       [ -5.4, -11.5,   1.1],\n",
              "       [  2.4, -17.2, -19.1],\n",
              "       [  3.8,  -2.9,  -6. ],\n",
              "       [ 15.2,  -2.3,  -2.3],\n",
              "       [  5.4,  -4.7,  -4.6],\n",
              "       [  5. ,   6.5,  -1.4],\n",
              "       [ -5.6,   3.1, -10.1],\n",
              "       [ 15.8,  -4.7,   7.7],\n",
              "       [ -2.3, -14.2,   0.7]])"
            ]
          },
          "metadata": {},
          "execution_count": 4
        }
      ],
      "source": [
        "X = 10 * X.round(2)\n",
        "X"
      ]
    },
    {
      "cell_type": "markdown",
      "metadata": {
        "id": "z1mRRZD1SNBB"
      },
      "source": [
        "# Custom Layer (Standardization)\n",
        "- Standardization = (x - mean(x)) / std(x)\n",
        "- It sets mean to 0 and std to 1"
      ]
    },
    {
      "cell_type": "markdown",
      "metadata": {
        "id": "c5jEPy4MSNBB"
      },
      "source": [
        "#### Custom Layer"
      ]
    },
    {
      "cell_type": "code",
      "execution_count": 5,
      "metadata": {
        "id": "CXcar5zsSNBC"
      },
      "outputs": [],
      "source": [
        "class StandardizedLayer(nn.Module):\n",
        "    def __init__(self, size_in, size_out):\n",
        "        super().__init__()\n",
        "        self.size_in, self.size_out = size_in, size_out\n",
        "\n",
        "        # For Back propogation\n",
        "        weights = torch.Tensor(size_out, size_in)\n",
        "        self.weights = nn.Parameter(weights)\n",
        "        bias = torch.Tensor(size_out)\n",
        "        self.bias = nn.Parameter(bias)\n",
        "\n",
        "        # initialize weights and bias\n",
        "        nn.init.kaiming_uniform_(self.weights, a=math.sqrt(5)) # weight init\n",
        "        fan_in, _ = nn.init._calculate_fan_in_and_fan_out(self.weights)\n",
        "        bound = 1/math.sqrt(fan_in)\n",
        "        nn.init.uniform_(self.bias, -bound, bound) # bias in\n",
        "\n",
        "    def forward(self, x):\n",
        "        z = (x - torch.mean(x)) / torch.std(x)\n",
        "        return z\n",
        "\n",
        "standlayer = StandardizedLayer(3, 3)"
      ]
    },
    {
      "cell_type": "markdown",
      "metadata": {
        "id": "53XsbJNySNBC"
      },
      "source": [
        "#### Convert to pytorch tensor"
      ]
    },
    {
      "cell_type": "code",
      "execution_count": 6,
      "metadata": {
        "id": "Oj1lsGOKSNBD"
      },
      "outputs": [],
      "source": [
        "Xt = torch.tensor(X, dtype=torch.float32)\n",
        "yt = torch.tensor(y, dtype=torch.float32).view(-1, 1)"
      ]
    },
    {
      "cell_type": "markdown",
      "metadata": {
        "id": "htim5hiMSNBE"
      },
      "source": [
        "#### Standardized the data with custom layer"
      ]
    },
    {
      "cell_type": "code",
      "execution_count": 7,
      "metadata": {
        "colab": {
          "base_uri": "https://localhost:8080/"
        },
        "id": "Cvyz3FUhSNBE",
        "outputId": "2c8bd6bf-e7fd-40be-a0e2-991625045770"
      },
      "outputs": [
        {
          "output_type": "execute_result",
          "data": {
            "text/plain": [
              "tensor([[-0.8040,  1.8425, -1.3599],\n",
              "        [-0.3925, -1.0708,  0.3303],\n",
              "        [ 0.4748, -1.7047, -1.9159],\n",
              "        [ 0.6305, -0.1145, -0.4592],\n",
              "        [ 1.8981, -0.0478, -0.0478],\n",
              "        [ 0.8084, -0.3147, -0.3036],\n",
              "        [ 0.7639,  0.9307,  0.0523],\n",
              "        [-0.4148,  0.5527, -0.9152],\n",
              "        [ 1.9649, -0.3147,  1.0642],\n",
              "        [-0.0478, -1.3711,  0.2858]])"
            ]
          },
          "metadata": {},
          "execution_count": 7
        }
      ],
      "source": [
        "X_stand = standlayer(Xt)\n",
        "X_stand"
      ]
    },
    {
      "cell_type": "markdown",
      "metadata": {
        "id": "-3mMCZ8vZRLD"
      },
      "source": [
        "#### Create neural network model"
      ]
    },
    {
      "cell_type": "code",
      "execution_count": 8,
      "metadata": {
        "colab": {
          "base_uri": "https://localhost:8080/"
        },
        "id": "gbrn12XDZRLD",
        "outputId": "12a1fa6f-2661-47d6-c458-cff106a4c878"
      },
      "outputs": [
        {
          "output_type": "execute_result",
          "data": {
            "text/plain": [
              "Sequential(\n",
              "  (0): StandardizedLayer()\n",
              "  (1): Linear(in_features=3, out_features=1, bias=True)\n",
              ")"
            ]
          },
          "metadata": {},
          "execution_count": 8
        }
      ],
      "source": [
        "model = nn.Sequential(\n",
        "    StandardizedLayer(3, 3),\n",
        "    nn.Linear(3, 1)\n",
        ")\n",
        "\n",
        "model"
      ]
    },
    {
      "cell_type": "markdown",
      "metadata": {
        "id": "iq9rGIDHotFB"
      },
      "source": [
        "#### Visualize computation graph (before training)"
      ]
    },
    {
      "cell_type": "code",
      "execution_count": 9,
      "metadata": {
        "colab": {
          "base_uri": "https://localhost:8080/",
          "height": 396
        },
        "id": "MQCdOZFrbgEQ",
        "outputId": "abb1a6e6-3f67-41f9-9d95-000e0ab5c92e"
      },
      "outputs": [
        {
          "output_type": "execute_result",
          "data": {
            "image/svg+xml": "<?xml version=\"1.0\" encoding=\"UTF-8\" standalone=\"no\"?>\n<!DOCTYPE svg PUBLIC \"-//W3C//DTD SVG 1.1//EN\"\n \"http://www.w3.org/Graphics/SVG/1.1/DTD/svg11.dtd\">\n<!-- Generated by graphviz version 2.43.0 (0)\n -->\n<!-- Title: %3 Pages: 1 -->\n<svg width=\"216pt\" height=\"281pt\"\n viewBox=\"0.00 0.00 216.00 281.00\" xmlns=\"http://www.w3.org/2000/svg\" xmlns:xlink=\"http://www.w3.org/1999/xlink\">\n<g id=\"graph0\" class=\"graph\" transform=\"scale(1 1) rotate(0) translate(4 277)\">\n<title>%3</title>\n<polygon fill=\"white\" stroke=\"transparent\" points=\"-4,4 -4,-277 212,-277 212,4 -4,4\"/>\n<!-- 137711547398288 -->\n<g id=\"node1\" class=\"node\">\n<title>137711547398288</title>\n<polygon fill=\"#caff70\" stroke=\"black\" points=\"136,-31 71,-31 71,0 136,0 136,-31\"/>\n<text text-anchor=\"middle\" x=\"103.5\" y=\"-7\" font-family=\"monospace\" font-size=\"10.00\"> (10, 1)</text>\n</g>\n<!-- 137707680930240 -->\n<g id=\"node2\" class=\"node\">\n<title>137707680930240</title>\n<polygon fill=\"lightgrey\" stroke=\"black\" points=\"154,-86 53,-86 53,-67 154,-67 154,-86\"/>\n<text text-anchor=\"middle\" x=\"103.5\" y=\"-74\" font-family=\"monospace\" font-size=\"10.00\">AddmmBackward0</text>\n</g>\n<!-- 137707680930240&#45;&gt;137711547398288 -->\n<g id=\"edge6\" class=\"edge\">\n<title>137707680930240&#45;&gt;137711547398288</title>\n<path fill=\"none\" stroke=\"black\" d=\"M103.5,-66.79C103.5,-60.07 103.5,-50.4 103.5,-41.34\"/>\n<polygon fill=\"black\" stroke=\"black\" points=\"107,-41.19 103.5,-31.19 100,-41.19 107,-41.19\"/>\n</g>\n<!-- 137707680930192 -->\n<g id=\"node3\" class=\"node\">\n<title>137707680930192</title>\n<polygon fill=\"lightgrey\" stroke=\"black\" points=\"101,-141 0,-141 0,-122 101,-122 101,-141\"/>\n<text text-anchor=\"middle\" x=\"50.5\" y=\"-129\" font-family=\"monospace\" font-size=\"10.00\">AccumulateGrad</text>\n</g>\n<!-- 137707680930192&#45;&gt;137707680930240 -->\n<g id=\"edge1\" class=\"edge\">\n<title>137707680930192&#45;&gt;137707680930240</title>\n<path fill=\"none\" stroke=\"black\" d=\"M59.25,-121.75C66.97,-114.03 78.4,-102.6 87.72,-93.28\"/>\n<polygon fill=\"black\" stroke=\"black\" points=\"90.31,-95.64 94.91,-86.09 85.36,-90.69 90.31,-95.64\"/>\n</g>\n<!-- 137707681023760 -->\n<g id=\"node4\" class=\"node\">\n<title>137707681023760</title>\n<polygon fill=\"lightblue\" stroke=\"black\" points=\"77.5,-207 23.5,-207 23.5,-177 77.5,-177 77.5,-207\"/>\n<text text-anchor=\"middle\" x=\"50.5\" y=\"-195\" font-family=\"monospace\" font-size=\"10.00\">1.bias</text>\n<text text-anchor=\"middle\" x=\"50.5\" y=\"-184\" font-family=\"monospace\" font-size=\"10.00\"> (1)</text>\n</g>\n<!-- 137707681023760&#45;&gt;137707680930192 -->\n<g id=\"edge2\" class=\"edge\">\n<title>137707681023760&#45;&gt;137707680930192</title>\n<path fill=\"none\" stroke=\"black\" d=\"M50.5,-176.84C50.5,-169.21 50.5,-159.7 50.5,-151.45\"/>\n<polygon fill=\"black\" stroke=\"black\" points=\"54,-151.27 50.5,-141.27 47,-151.27 54,-151.27\"/>\n</g>\n<!-- 137707680939312 -->\n<g id=\"node5\" class=\"node\">\n<title>137707680939312</title>\n<polygon fill=\"lightgrey\" stroke=\"black\" points=\"196,-141 119,-141 119,-122 196,-122 196,-141\"/>\n<text text-anchor=\"middle\" x=\"157.5\" y=\"-129\" font-family=\"monospace\" font-size=\"10.00\">TBackward0</text>\n</g>\n<!-- 137707680939312&#45;&gt;137707680930240 -->\n<g id=\"edge3\" class=\"edge\">\n<title>137707680939312&#45;&gt;137707680930240</title>\n<path fill=\"none\" stroke=\"black\" d=\"M148.58,-121.75C140.72,-114.03 129.07,-102.6 119.58,-93.28\"/>\n<polygon fill=\"black\" stroke=\"black\" points=\"121.84,-90.6 112.25,-86.09 116.94,-95.59 121.84,-90.6\"/>\n</g>\n<!-- 137707680934416 -->\n<g id=\"node6\" class=\"node\">\n<title>137707680934416</title>\n<polygon fill=\"lightgrey\" stroke=\"black\" points=\"208,-201.5 107,-201.5 107,-182.5 208,-182.5 208,-201.5\"/>\n<text text-anchor=\"middle\" x=\"157.5\" y=\"-189.5\" font-family=\"monospace\" font-size=\"10.00\">AccumulateGrad</text>\n</g>\n<!-- 137707680934416&#45;&gt;137707680939312 -->\n<g id=\"edge4\" class=\"edge\">\n<title>137707680934416&#45;&gt;137707680939312</title>\n<path fill=\"none\" stroke=\"black\" d=\"M157.5,-182.37C157.5,-174.25 157.5,-161.81 157.5,-151.39\"/>\n<polygon fill=\"black\" stroke=\"black\" points=\"161,-151.17 157.5,-141.17 154,-151.17 161,-151.17\"/>\n</g>\n<!-- 137707681024048 -->\n<g id=\"node7\" class=\"node\">\n<title>137707681024048</title>\n<polygon fill=\"lightblue\" stroke=\"black\" points=\"190,-273 125,-273 125,-243 190,-243 190,-273\"/>\n<text text-anchor=\"middle\" x=\"157.5\" y=\"-261\" font-family=\"monospace\" font-size=\"10.00\">1.weight</text>\n<text text-anchor=\"middle\" x=\"157.5\" y=\"-250\" font-family=\"monospace\" font-size=\"10.00\"> (1, 3)</text>\n</g>\n<!-- 137707681024048&#45;&gt;137707680934416 -->\n<g id=\"edge5\" class=\"edge\">\n<title>137707681024048&#45;&gt;137707680934416</title>\n<path fill=\"none\" stroke=\"black\" d=\"M157.5,-242.8C157.5,-233.7 157.5,-221.79 157.5,-211.9\"/>\n<polygon fill=\"black\" stroke=\"black\" points=\"161,-211.84 157.5,-201.84 154,-211.84 161,-211.84\"/>\n</g>\n</g>\n</svg>\n",
            "text/plain": [
              "<graphviz.graphs.Digraph at 0x7d3e916a5790>"
            ]
          },
          "metadata": {},
          "execution_count": 9
        }
      ],
      "source": [
        "ypred = model(Xt)\n",
        "make_dot(ypred, params=dict(model.named_parameters()))"
      ]
    },
    {
      "cell_type": "markdown",
      "metadata": {
        "id": "dj5O-vqtZRLD"
      },
      "source": [
        "#### Setting Parameters"
      ]
    },
    {
      "cell_type": "code",
      "execution_count": 10,
      "metadata": {
        "id": "E8oQzxCnZRLE"
      },
      "outputs": [],
      "source": [
        "learningRate = 0.001\n",
        "lossfunc = nn.MSELoss()\n",
        "optimizer = torch.optim.SGD(model.parameters(), lr=learningRate,)"
      ]
    },
    {
      "cell_type": "markdown",
      "metadata": {
        "id": "YYW9Dp6IZRLE"
      },
      "source": [
        "#### Training Neural Network"
      ]
    },
    {
      "cell_type": "code",
      "execution_count": 11,
      "metadata": {
        "colab": {
          "base_uri": "https://localhost:8080/"
        },
        "id": "xFOjHKESZRLE",
        "outputId": "4f8f7aab-6e13-47c1-9f70-7a2d40c9c317"
      },
      "outputs": [
        {
          "output_type": "stream",
          "name": "stdout",
          "text": [
            "Epoch: 0; Loss: 5788.4814\n",
            "Epoch: 250; Loss: 2119.5183\n",
            "Epoch: 500; Loss: 828.6149\n",
            "Epoch: 750; Loss: 349.6100\n",
            "Epoch: 1000; Loss: 162.2982\n",
            "Epoch: 1250; Loss: 84.3585\n",
            "Epoch: 1500; Loss: 49.2042\n",
            "Epoch: 1750; Loss: 31.6551\n",
            "Epoch: 2000; Loss: 21.8543\n",
            "Epoch: 2250; Loss: 15.7806\n",
            "Epoch: 2500; Loss: 11.6991\n",
            "Epoch: 2750; Loss: 8.8028\n",
            "Epoch: 3000; Loss: 6.6781\n",
            "Epoch: 3250; Loss: 5.0894\n",
            "Epoch: 3500; Loss: 3.8888\n",
            "Epoch: 3750; Loss: 2.9763\n",
            "Epoch: 4000; Loss: 2.2806\n",
            "Epoch: 4250; Loss: 1.7492\n",
            "Epoch: 4500; Loss: 1.3430\n",
            "Epoch: 4750; Loss: 1.0324\n"
          ]
        }
      ],
      "source": [
        "epochs = 5000\n",
        "losses = torch.zeros(epochs)\n",
        "\n",
        "for epoch in range(epochs):\n",
        "    # Forward propagation\n",
        "    ypred = model(Xt)\n",
        "    loss = lossfunc(ypred, yt)\n",
        "\n",
        "    # Backward propagation\n",
        "    optimizer.zero_grad()\n",
        "    loss.backward()\n",
        "    optimizer.step()\n",
        "\n",
        "    # Record the loss\n",
        "    losses[epoch] = loss.detach()\n",
        "\n",
        "    if epoch % 250 == 0:\n",
        "        print(f'Epoch: {epoch}; Loss: {loss.item():.4f}')"
      ]
    },
    {
      "cell_type": "code",
      "execution_count": 12,
      "metadata": {
        "colab": {
          "base_uri": "https://localhost:8080/"
        },
        "id": "OwI7X4BYZRLE",
        "outputId": "d576f94c-cd2d-47ac-9c9f-f3b5878b2393"
      },
      "outputs": [
        {
          "output_type": "execute_result",
          "data": {
            "text/plain": [
              "tensor([[-106.0442],\n",
              "        [ -44.5415],\n",
              "        [ -89.9590],\n",
              "        [  -4.0314],\n",
              "        [  90.2340],\n",
              "        [  10.8705],\n",
              "        [  36.2581],\n",
              "        [ -78.5664],\n",
              "        [ 136.4266],\n",
              "        [ -28.7382]], grad_fn=<AddmmBackward0>)"
            ]
          },
          "metadata": {},
          "execution_count": 12
        }
      ],
      "source": [
        "ypred"
      ]
    },
    {
      "cell_type": "code",
      "execution_count": 13,
      "metadata": {
        "colab": {
          "base_uri": "https://localhost:8080/",
          "height": 396
        },
        "id": "enCbsYgMpIFh",
        "outputId": "840a1f45-6424-4aaa-f20e-a4922d8d6fc7"
      },
      "outputs": [
        {
          "output_type": "execute_result",
          "data": {
            "image/svg+xml": "<?xml version=\"1.0\" encoding=\"UTF-8\" standalone=\"no\"?>\n<!DOCTYPE svg PUBLIC \"-//W3C//DTD SVG 1.1//EN\"\n \"http://www.w3.org/Graphics/SVG/1.1/DTD/svg11.dtd\">\n<!-- Generated by graphviz version 2.43.0 (0)\n -->\n<!-- Title: %3 Pages: 1 -->\n<svg width=\"216pt\" height=\"281pt\"\n viewBox=\"0.00 0.00 216.00 281.00\" xmlns=\"http://www.w3.org/2000/svg\" xmlns:xlink=\"http://www.w3.org/1999/xlink\">\n<g id=\"graph0\" class=\"graph\" transform=\"scale(1 1) rotate(0) translate(4 277)\">\n<title>%3</title>\n<polygon fill=\"white\" stroke=\"transparent\" points=\"-4,4 -4,-277 212,-277 212,4 -4,4\"/>\n<!-- 137707524695888 -->\n<g id=\"node1\" class=\"node\">\n<title>137707524695888</title>\n<polygon fill=\"#caff70\" stroke=\"black\" points=\"136,-31 71,-31 71,0 136,0 136,-31\"/>\n<text text-anchor=\"middle\" x=\"103.5\" y=\"-7\" font-family=\"monospace\" font-size=\"10.00\"> (10, 1)</text>\n</g>\n<!-- 137707522469088 -->\n<g id=\"node2\" class=\"node\">\n<title>137707522469088</title>\n<polygon fill=\"lightgrey\" stroke=\"black\" points=\"154,-86 53,-86 53,-67 154,-67 154,-86\"/>\n<text text-anchor=\"middle\" x=\"103.5\" y=\"-74\" font-family=\"monospace\" font-size=\"10.00\">AddmmBackward0</text>\n</g>\n<!-- 137707522469088&#45;&gt;137707524695888 -->\n<g id=\"edge6\" class=\"edge\">\n<title>137707522469088&#45;&gt;137707524695888</title>\n<path fill=\"none\" stroke=\"black\" d=\"M103.5,-66.79C103.5,-60.07 103.5,-50.4 103.5,-41.34\"/>\n<polygon fill=\"black\" stroke=\"black\" points=\"107,-41.19 103.5,-31.19 100,-41.19 107,-41.19\"/>\n</g>\n<!-- 137707522468992 -->\n<g id=\"node3\" class=\"node\">\n<title>137707522468992</title>\n<polygon fill=\"lightgrey\" stroke=\"black\" points=\"101,-141 0,-141 0,-122 101,-122 101,-141\"/>\n<text text-anchor=\"middle\" x=\"50.5\" y=\"-129\" font-family=\"monospace\" font-size=\"10.00\">AccumulateGrad</text>\n</g>\n<!-- 137707522468992&#45;&gt;137707522469088 -->\n<g id=\"edge1\" class=\"edge\">\n<title>137707522468992&#45;&gt;137707522469088</title>\n<path fill=\"none\" stroke=\"black\" d=\"M59.25,-121.75C66.97,-114.03 78.4,-102.6 87.72,-93.28\"/>\n<polygon fill=\"black\" stroke=\"black\" points=\"90.31,-95.64 94.91,-86.09 85.36,-90.69 90.31,-95.64\"/>\n</g>\n<!-- 137707681023760 -->\n<g id=\"node4\" class=\"node\">\n<title>137707681023760</title>\n<polygon fill=\"lightblue\" stroke=\"black\" points=\"77.5,-207 23.5,-207 23.5,-177 77.5,-177 77.5,-207\"/>\n<text text-anchor=\"middle\" x=\"50.5\" y=\"-195\" font-family=\"monospace\" font-size=\"10.00\">1.bias</text>\n<text text-anchor=\"middle\" x=\"50.5\" y=\"-184\" font-family=\"monospace\" font-size=\"10.00\"> (1)</text>\n</g>\n<!-- 137707681023760&#45;&gt;137707522468992 -->\n<g id=\"edge2\" class=\"edge\">\n<title>137707681023760&#45;&gt;137707522468992</title>\n<path fill=\"none\" stroke=\"black\" d=\"M50.5,-176.84C50.5,-169.21 50.5,-159.7 50.5,-151.45\"/>\n<polygon fill=\"black\" stroke=\"black\" points=\"54,-151.27 50.5,-141.27 47,-151.27 54,-151.27\"/>\n</g>\n<!-- 137707522468896 -->\n<g id=\"node5\" class=\"node\">\n<title>137707522468896</title>\n<polygon fill=\"lightgrey\" stroke=\"black\" points=\"196,-141 119,-141 119,-122 196,-122 196,-141\"/>\n<text text-anchor=\"middle\" x=\"157.5\" y=\"-129\" font-family=\"monospace\" font-size=\"10.00\">TBackward0</text>\n</g>\n<!-- 137707522468896&#45;&gt;137707522469088 -->\n<g id=\"edge3\" class=\"edge\">\n<title>137707522468896&#45;&gt;137707522469088</title>\n<path fill=\"none\" stroke=\"black\" d=\"M148.58,-121.75C140.72,-114.03 129.07,-102.6 119.58,-93.28\"/>\n<polygon fill=\"black\" stroke=\"black\" points=\"121.84,-90.6 112.25,-86.09 116.94,-95.59 121.84,-90.6\"/>\n</g>\n<!-- 137707522465728 -->\n<g id=\"node6\" class=\"node\">\n<title>137707522465728</title>\n<polygon fill=\"lightgrey\" stroke=\"black\" points=\"208,-201.5 107,-201.5 107,-182.5 208,-182.5 208,-201.5\"/>\n<text text-anchor=\"middle\" x=\"157.5\" y=\"-189.5\" font-family=\"monospace\" font-size=\"10.00\">AccumulateGrad</text>\n</g>\n<!-- 137707522465728&#45;&gt;137707522468896 -->\n<g id=\"edge4\" class=\"edge\">\n<title>137707522465728&#45;&gt;137707522468896</title>\n<path fill=\"none\" stroke=\"black\" d=\"M157.5,-182.37C157.5,-174.25 157.5,-161.81 157.5,-151.39\"/>\n<polygon fill=\"black\" stroke=\"black\" points=\"161,-151.17 157.5,-141.17 154,-151.17 161,-151.17\"/>\n</g>\n<!-- 137707681024048 -->\n<g id=\"node7\" class=\"node\">\n<title>137707681024048</title>\n<polygon fill=\"lightblue\" stroke=\"black\" points=\"190,-273 125,-273 125,-243 190,-243 190,-273\"/>\n<text text-anchor=\"middle\" x=\"157.5\" y=\"-261\" font-family=\"monospace\" font-size=\"10.00\">1.weight</text>\n<text text-anchor=\"middle\" x=\"157.5\" y=\"-250\" font-family=\"monospace\" font-size=\"10.00\"> (1, 3)</text>\n</g>\n<!-- 137707681024048&#45;&gt;137707522465728 -->\n<g id=\"edge5\" class=\"edge\">\n<title>137707681024048&#45;&gt;137707522465728</title>\n<path fill=\"none\" stroke=\"black\" d=\"M157.5,-242.8C157.5,-233.7 157.5,-221.79 157.5,-211.9\"/>\n<polygon fill=\"black\" stroke=\"black\" points=\"161,-211.84 157.5,-201.84 154,-211.84 161,-211.84\"/>\n</g>\n</g>\n</svg>\n",
            "text/plain": [
              "<graphviz.graphs.Digraph at 0x7d3e87f7a450>"
            ]
          },
          "metadata": {},
          "execution_count": 13
        }
      ],
      "source": [
        "# Visualize computation graph (after training)\n",
        "make_dot(ypred, params=dict(model.named_parameters()))"
      ]
    },
    {
      "cell_type": "markdown",
      "metadata": {
        "id": "ALHgJqqzmxrN"
      },
      "source": [
        "#### Loss vs Epoch"
      ]
    },
    {
      "cell_type": "code",
      "execution_count": 14,
      "metadata": {
        "colab": {
          "base_uri": "https://localhost:8080/",
          "height": 570
        },
        "id": "xiNyNmcwZRLF",
        "outputId": "7f019cca-d558-4be1-a22d-6d30351dac95"
      },
      "outputs": [
        {
          "output_type": "display_data",
          "data": {
            "text/plain": [
              "<Figure size 1200x600 with 1 Axes>"
            ],
            "image/png": "[encoded data removed]"
          },
          "metadata": {}
        }
      ],
      "source": [
        "plt.figure(figsize=(12, 6))\n",
        "plt.plot(np.arange(epochs), losses.detach(), 'm', lw=3)\n",
        "plt.xlabel('Epochs', fontsize=15)\n",
        "plt.ylabel('Loss', fontsize=15)\n",
        "plt.title('Loss vs. Epochs')\n",
        "plt.show()"
      ]
    },
    {
      "cell_type": "markdown",
      "metadata": {
        "id": "tF2V3f99mxrN"
      },
      "source": [
        "#### Weights and Bias of training model"
      ]
    },
    {
      "cell_type": "code",
      "execution_count": 15,
      "metadata": {
        "colab": {
          "base_uri": "https://localhost:8080/"
        },
        "id": "6zLbGybdmxrN",
        "outputId": "b8ab764d-48fd-49e8-8b1e-a9ba561b3a8d"
      },
      "outputs": [
        {
          "output_type": "stream",
          "name": "stdout",
          "text": [
            "Trained Weight: [[-0.228198    0.23583724 -0.27492806]\n",
            " [ 0.45496947 -0.4530791  -0.22450463]\n",
            " [ 0.02599271 -0.2186707   0.30107364]]\n",
            "Trained Bias: [0.05826747 0.01758072 0.03923667]\n"
          ]
        }
      ],
      "source": [
        "# We have only 1 layer\n",
        "print(f\"Trained Weight: {model[0].weights.detach().numpy()}\")\n",
        "print(f\"Trained Bias: {model[0].bias.detach().numpy()}\")"
      ]
    },
    {
      "cell_type": "code",
      "execution_count": 15,
      "metadata": {
        "id": "UHv131fHmxrO"
      },
      "outputs": [],
      "source": []
    }
  ],
  "metadata": {
    "colab": {
      "provenance": []
    },
    "kernelspec": {
      "display_name": "Python 3",
      "language": "python",
      "name": "python3"
    },
    "language_info": {
      "codemirror_mode": {
        "name": "ipython",
        "version": 3
      },
      "file_extension": ".py",
      "mimetype": "text/x-python",
      "name": "python",
      "nbconvert_exporter": "python",
      "pygments_lexer": "ipython3",
      "version": "3.9.21"
    }
  },
  "nbformat": 4,
  "nbformat_minor": 0
}