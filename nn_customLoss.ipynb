{
 "cells": [
  {
   "cell_type": "code",
   "execution_count": 1,
   "metadata": {},
   "outputs": [],
   "source": [
    "import torch\n",
    "import torch.nn as nn\n",
    "import numpy as np\n",
    "import pandas as pd\n",
    "import matplotlib.pyplot as plt\n",
    "from sklearn.datasets import make_regression"
   ]
  },
  {
   "cell_type": "code",
   "execution_count": null,
   "metadata": {},
   "outputs": [
    {
     "data": {
      "text/html": [
       "<div>\n",
       "<style scoped>\n",
       "    .dataframe tbody tr th:only-of-type {\n",
       "        vertical-align: middle;\n",
       "    }\n",
       "\n",
       "    .dataframe tbody tr th {\n",
       "        vertical-align: top;\n",
       "    }\n",
       "\n",
       "    .dataframe thead th {\n",
       "        text-align: right;\n",
       "    }\n",
       "</style>\n",
       "<table border=\"1\" class=\"dataframe\">\n",
       "  <thead>\n",
       "    <tr style=\"text-align: right;\">\n",
       "      <th></th>\n",
       "      <th>Feature</th>\n",
       "      <th>Target</th>\n",
       "    </tr>\n",
       "  </thead>\n",
       "  <tbody>\n",
       "    <tr>\n",
       "      <th>0</th>\n",
       "      <td>0.196861</td>\n",
       "      <td>2.774252</td>\n",
       "    </tr>\n",
       "    <tr>\n",
       "      <th>1</th>\n",
       "      <td>-1.220844</td>\n",
       "      <td>-17.204645</td>\n",
       "    </tr>\n",
       "    <tr>\n",
       "      <th>2</th>\n",
       "      <td>1.523030</td>\n",
       "      <td>21.463180</td>\n",
       "    </tr>\n",
       "    <tr>\n",
       "      <th>3</th>\n",
       "      <td>-1.412304</td>\n",
       "      <td>-19.902780</td>\n",
       "    </tr>\n",
       "    <tr>\n",
       "      <th>4</th>\n",
       "      <td>1.465649</td>\n",
       "      <td>20.654542</td>\n",
       "    </tr>\n",
       "  </tbody>\n",
       "</table>\n",
       "</div>"
      ],
      "text/plain": [
       "    Feature     Target\n",
       "0  0.196861   2.774252\n",
       "1 -1.220844 -17.204645\n",
       "2  1.523030  21.463180\n",
       "3 -1.412304 -19.902780\n",
       "4  1.465649  20.654542"
      ]
     },
     "execution_count": 2,
     "metadata": {},
     "output_type": "execute_result"
    }
   ],
   "source": [
    "# Load dataset\n",
    "data = make_regression(n_samples=50, n_features=1, n_informative=1, random_state=42)\n",
    "\n",
    "# Reshape y to make it 2D before using np.hstack\n",
    "result = np.hstack((data[0], data[1].reshape(-1, 1)))\n",
    "\n",
    "# Convert to DataFrame and set column names\n",
    "df = pd.DataFrame(result, columns=['Feature', 'Target'])\n",
    "\n",
    "# Display the DataFrame\n",
    "df.head()"
   ]
  },
  {
   "cell_type": "code",
   "execution_count": 9,
   "metadata": {},
   "outputs": [
    {
     "data": {
      "text/plain": [
       "array([[ 0.19686124],\n",
       "       [-1.22084365],\n",
       "       [ 1.52302986],\n",
       "       [-1.4123037 ],\n",
       "       [ 1.46564877]])"
      ]
     },
     "execution_count": 9,
     "metadata": {},
     "output_type": "execute_result"
    }
   ],
   "source": [
    "X = df['Feature'].values.reshape(-1, 1)\n",
    "X[:5]"
   ]
  },
  {
   "cell_type": "code",
   "execution_count": 12,
   "metadata": {},
   "outputs": [
    {
     "data": {
      "text/plain": [
       "array([[  2.77425171],\n",
       "       [-17.20464452],\n",
       "       [ 21.46318021],\n",
       "       [-19.90278045],\n",
       "       [ 20.65454168]])"
      ]
     },
     "execution_count": 12,
     "metadata": {},
     "output_type": "execute_result"
    }
   ],
   "source": [
    "y = df['Target'].values.reshape(-1, 1)\n",
    "y[:5]"
   ]
  },
  {
   "cell_type": "markdown",
   "metadata": {},
   "source": [
    "#### Visualize data"
   ]
  },
  {
   "cell_type": "code",
   "execution_count": 13,
   "metadata": {},
   "outputs": [
    {
     "data": {
      "image/png": "[encoded data removed]",
      "text/plain": [
       "<Figure size 1200x600 with 1 Axes>"
      ]
     },
     "metadata": {},
     "output_type": "display_data"
    }
   ],
   "source": [
    "plt.figure(figsize=(12, 6))\n",
    "plt.scatter(X, y, color='b')\n",
    "plt.ylabel('y', fontsize=15)\n",
    "plt.xlabel('X', fontsize=15)\n",
    "plt.title('Training Data')\n",
    "plt.show()"
   ]
  },
  {
   "cell_type": "markdown",
   "metadata": {},
   "source": [
    "#### Transform to tensors"
   ]
  },
  {
   "cell_type": "code",
   "execution_count": 14,
   "metadata": {},
   "outputs": [],
   "source": [
    "X = torch.tensor(X, dtype=torch.float32)\n",
    "y = torch.tensor(y, dtype=torch.float32)"
   ]
  },
  {
   "cell_type": "markdown",
   "metadata": {},
   "source": [
    "#### nn model"
   ]
  },
  {
   "cell_type": "code",
   "execution_count": 15,
   "metadata": {},
   "outputs": [
    {
     "data": {
      "text/plain": [
       "Sequential(\n",
       "  (0): Linear(in_features=1, out_features=1, bias=True)\n",
       ")"
      ]
     },
     "execution_count": 15,
     "metadata": {},
     "output_type": "execute_result"
    }
   ],
   "source": [
    "model = nn.Sequential(\n",
    "    nn.Linear(1, 1)\n",
    ")\n",
    "\n",
    "model"
   ]
  },
  {
   "cell_type": "markdown",
   "metadata": {},
   "source": [
    "## Setting the parameters"
   ]
  },
  {
   "cell_type": "markdown",
   "metadata": {},
   "source": [
    "#### Custom loss function\n",
    "- MSE = (1/n)*SUM((y-y_pred)^2)\n",
    "- MAE = (1/n)*SUM(abs(y-y_pred))\n",
    "    - Our custom loss function = MSE + MAE"
   ]
  },
  {
   "cell_type": "code",
   "execution_count": 16,
   "metadata": {},
   "outputs": [],
   "source": [
    "class Custom_Loss_function(nn.Module):\n",
    "    def __init__(self):\n",
    "        super().__init__()\n",
    "        \n",
    "    def forward(self, ypred, y):\n",
    "        # MSE\n",
    "        MSE = torch.mean((ypred - y)**2)\n",
    "        # MAE\n",
    "        MAE = torch.mean(torch.abs(ypred - y))\n",
    "        \n",
    "        # MSE + MAE\n",
    "        return (MSE + MAE)"
   ]
  },
  {
   "cell_type": "markdown",
   "metadata": {},
   "source": [
    "#### Setting Parameters"
   ]
  },
  {
   "cell_type": "code",
   "execution_count": 17,
   "metadata": {},
   "outputs": [],
   "source": [
    "learningRate = 0.001\n",
    "lossfunc = Custom_Loss_function()\n",
    "optimizer = torch.optim.SGD(model.parameters(), lr=learningRate,)"
   ]
  },
  {
   "cell_type": "markdown",
   "metadata": {},
   "source": [
    "#### Training Neural Network"
   ]
  },
  {
   "cell_type": "code",
   "execution_count": 18,
   "metadata": {},
   "outputs": [
    {
     "name": "stdout",
     "output_type": "stream",
     "text": [
      "Epoch: 0; Loss: 191.0729\n",
      "Epoch: 250; Loss: 75.3290\n",
      "Epoch: 500; Loss: 31.2391\n",
      "Epoch: 750; Loss: 13.5486\n",
      "Epoch: 1000; Loss: 6.0364\n",
      "Epoch: 1250; Loss: 2.7232\n",
      "Epoch: 1500; Loss: 1.2076\n",
      "Epoch: 1750; Loss: 0.4953\n",
      "Epoch: 2000; Loss: 0.1544\n",
      "Epoch: 2250; Loss: 0.0007\n",
      "Epoch: 2500; Loss: 0.0007\n",
      "Epoch: 2750; Loss: 0.0006\n",
      "Epoch: 3000; Loss: 0.0006\n",
      "Epoch: 3250; Loss: 0.0006\n",
      "Epoch: 3500; Loss: 0.0005\n",
      "Epoch: 3750; Loss: 0.0005\n",
      "Epoch: 4000; Loss: 0.0005\n",
      "Epoch: 4250; Loss: 0.0005\n",
      "Epoch: 4500; Loss: 0.0005\n",
      "Epoch: 4750; Loss: 0.0005\n"
     ]
    }
   ],
   "source": [
    "epochs = 5000\n",
    "losses = torch.zeros(epochs)\n",
    "\n",
    "for epoch in range(epochs):\n",
    "    # Forward propagation\n",
    "    ypred = model(X)\n",
    "    loss = lossfunc(ypred, y)\n",
    "\n",
    "    # Backward propagation\n",
    "    optimizer.zero_grad()\n",
    "    loss.backward()\n",
    "    optimizer.step()\n",
    "\n",
    "    # Record the loss\n",
    "    losses[epoch] = loss.detach()\n",
    "\n",
    "    if epoch % 250 == 0:\n",
    "        print(f'Epoch: {epoch}; Loss: {loss.item():.4f}')"
   ]
  },
  {
   "cell_type": "code",
   "execution_count": 19,
   "metadata": {},
   "outputs": [
    {
     "data": {
      "text/plain": [
       "tensor([[  2.7747],\n",
       "        [-17.2040],\n",
       "        [ 21.4635],\n",
       "        [-19.9021],\n",
       "        [ 20.6549],\n",
       "        [  3.4103],\n",
       "        [ -3.2990],\n",
       "        [ -8.4789],\n",
       "        [ 26.1034],\n",
       "        [  7.6464],\n",
       "        [  1.5637],\n",
       "        [  4.4290],\n",
       "        [-18.7167],\n",
       "        [-26.9621],\n",
       "        [-24.8448],\n",
       "        [ 10.4072],\n",
       "        [-12.7957],\n",
       "        [-16.2197],\n",
       "        [ -3.1812],\n",
       "        [ -4.1101],\n",
       "        [ -8.4639],\n",
       "        [  9.1279],\n",
       "        [-14.9051],\n",
       "        [ -6.4910],\n",
       "        [  0.9521],\n",
       "        [ -7.9234],\n",
       "        [ -1.6293],\n",
       "        [ -1.9480],\n",
       "        [ -6.5627],\n",
       "        [-27.6158],\n",
       "        [  4.8429],\n",
       "        [-10.1438],\n",
       "        [  5.2950],\n",
       "        [ -3.2993],\n",
       "        [ -0.1897],\n",
       "        [  2.9439],\n",
       "        [ 11.5921],\n",
       "        [  2.4155],\n",
       "        [-14.2726],\n",
       "        [ -6.5301],\n",
       "        [ -4.2427],\n",
       "        [ 10.8154],\n",
       "        [ 14.8978],\n",
       "        [-20.0775],\n",
       "        [ -6.6155],\n",
       "        [ 22.2553],\n",
       "        [ -7.6711],\n",
       "        [  7.0004],\n",
       "        [-20.8353],\n",
       "        [-24.3076]], grad_fn=<AddmmBackward0>)"
      ]
     },
     "execution_count": 19,
     "metadata": {},
     "output_type": "execute_result"
    }
   ],
   "source": [
    "ypred"
   ]
  },
  {
   "cell_type": "markdown",
   "metadata": {},
   "source": [
    "#### Loss vs Epoch"
   ]
  },
  {
   "cell_type": "code",
   "execution_count": 20,
   "metadata": {},
   "outputs": [
    {
     "data": {
      "image/png": "[encoded data removed]",
      "text/plain": [
       "<Figure size 1200x600 with 1 Axes>"
      ]
     },
     "metadata": {},
     "output_type": "display_data"
    }
   ],
   "source": [
    "plt.figure(figsize=(12, 6))\n",
    "plt.plot(np.arange(epochs), losses.detach(), 'm', lw=3)\n",
    "plt.xlabel('Epochs', fontsize=15)\n",
    "plt.ylabel('Loss', fontsize=15)\n",
    "plt.title('Loss vs. Epochs')\n",
    "plt.show()"
   ]
  },
  {
   "cell_type": "markdown",
   "metadata": {},
   "source": [
    "#### Weights and Bias of training model"
   ]
  },
  {
   "cell_type": "code",
   "execution_count": 21,
   "metadata": {},
   "outputs": [
    {
     "name": "stdout",
     "output_type": "stream",
     "text": [
      "Trained Weight: [[14.092546]]\n",
      "Trained Bias: [-0.00049888]\n"
     ]
    }
   ],
   "source": [
    "# We have only 1 layer\n",
    "print(f\"Trained Weight: {model[0].weight.detach().numpy()}\")\n",
    "print(f\"Trained Bias: {model[0].bias.detach().numpy()}\")"
   ]
  },
  {
   "cell_type": "markdown",
   "metadata": {},
   "source": [
    "#### Create test data"
   ]
  },
  {
   "cell_type": "code",
   "execution_count": 22,
   "metadata": {},
   "outputs": [],
   "source": [
    "test_data = np.linspace(-3, 3, 50).reshape(-1, 1)\n",
    "X_test = torch.tensor(test_data, dtype=torch.float32)\n",
    "y_test = model(X_test)"
   ]
  },
  {
   "cell_type": "code",
   "execution_count": 24,
   "metadata": {},
   "outputs": [
    {
     "data": {
      "image/png": "[encoded data removed]",
      "text/plain": [
       "<Figure size 1200x600 with 1 Axes>"
      ]
     },
     "metadata": {},
     "output_type": "display_data"
    }
   ],
   "source": [
    "# Plot predictions\n",
    "plt.figure(figsize=(12, 6))\n",
    "plt.scatter(X, y, label='Training Data')\n",
    "plt.plot(X_test, y_test.detach(), 'r', label='Predicted Line')\n",
    "plt.legend(fontsize=15)\n",
    "plt.xlabel('X', fontsize=15)\n",
    "plt.ylabel('y', fontsize=15)\n",
    "plt.title('Model Fit')\n",
    "plt.show()"
   ]
  },
  {
   "cell_type": "markdown",
   "metadata": {},
   "source": [
    "#### Performance"
   ]
  },
  {
   "cell_type": "code",
   "execution_count": 25,
   "metadata": {},
   "outputs": [
    {
     "name": "stdout",
     "output_type": "stream",
     "text": [
      "Training Data RMSE: 29.0559\n",
      "Training Data MAE: 22.9581\n",
      "Training Data R²: -3.9761\n"
     ]
    }
   ],
   "source": [
    "from sklearn import metrics\n",
    "print(f'Training Data RMSE: {np.sqrt(metrics.mean_squared_error(y.detach().numpy(), y_test.detach().numpy())):.4f}')\n",
    "print(f'Training Data MAE: {metrics.mean_absolute_error(y.detach().numpy(), y_test.detach().numpy()):.4f}')\n",
    "print(f'Training Data R²: {metrics.r2_score(y.detach().numpy(), y_test.detach().numpy()):.4f}')"
   ]
  },
  {
   "cell_type": "code",
   "execution_count": null,
   "metadata": {},
   "outputs": [],
   "source": []
  }
 ],
 "metadata": {
  "kernelspec": {
   "display_name": "Python 3",
   "language": "python",
   "name": "python3"
  },
  "language_info": {
   "codemirror_mode": {
    "name": "ipython",
    "version": 3
   },
   "file_extension": ".py",
   "mimetype": "text/x-python",
   "name": "python",
   "nbconvert_exporter": "python",
   "pygments_lexer": "ipython3",
   "version": "3.9.21"
  }
 },
 "nbformat": 4,
 "nbformat_minor": 2
}
