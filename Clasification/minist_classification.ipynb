{
 "cells": [
  {
   "cell_type": "code",
   "execution_count": 1,
   "metadata": {},
   "outputs": [],
   "source": [
    "import torch\n",
    "import torch.nn as nn\n",
    "import torch.nn.functional as F\n",
    "import numpy as np\n",
    "import pandas as pd\n",
    "import matplotlib.pyplot as plt\n",
    "from torch.utils.data import DataLoader, TensorDataset\n",
    "from sklearn.model_selection import train_test_split\n"
   ]
  },
  {
   "cell_type": "markdown",
   "metadata": {},
   "source": [
    "#### Check the availability of GPU"
   ]
  },
  {
   "cell_type": "code",
   "execution_count": 2,
   "metadata": {},
   "outputs": [
    {
     "data": {
      "text/plain": [
       "False"
      ]
     },
     "execution_count": 2,
     "metadata": {},
     "output_type": "execute_result"
    }
   ],
   "source": [
    "torch.cuda.is_available()"
   ]
  },
  {
   "cell_type": "code",
   "execution_count": 3,
   "metadata": {},
   "outputs": [
    {
     "data": {
      "text/plain": [
       "device(type='cpu')"
      ]
     },
     "execution_count": 3,
     "metadata": {},
     "output_type": "execute_result"
    }
   ],
   "source": [
    "device = torch.device('cuda:0' if torch.cuda.is_available() else 'cpu')\n",
    "device"
   ]
  },
  {
   "cell_type": "markdown",
   "metadata": {},
   "source": [
    "#### Load dataset"
   ]
  },
  {
   "cell_type": "code",
   "execution_count": 4,
   "metadata": {},
   "outputs": [
    {
     "data": {
      "text/plain": [
       "(   label  1x1  1x2  1x3  1x4  1x5  1x6  1x7  1x8  1x9  ...  28x19  28x20  \\\n",
       " 0      5    0    0    0    0    0    0    0    0    0  ...      0      0   \n",
       " 1      0    0    0    0    0    0    0    0    0    0  ...      0      0   \n",
       " 2      4    0    0    0    0    0    0    0    0    0  ...      0      0   \n",
       " 3      1    0    0    0    0    0    0    0    0    0  ...      0      0   \n",
       " 4      9    0    0    0    0    0    0    0    0    0  ...      0      0   \n",
       " \n",
       "    28x21  28x22  28x23  28x24  28x25  28x26  28x27  28x28  \n",
       " 0      0      0      0      0      0      0      0      0  \n",
       " 1      0      0      0      0      0      0      0      0  \n",
       " 2      0      0      0      0      0      0      0      0  \n",
       " 3      0      0      0      0      0      0      0      0  \n",
       " 4      0      0      0      0      0      0      0      0  \n",
       " \n",
       " [5 rows x 785 columns],\n",
       " pandas.core.frame.DataFrame,\n",
       " (60000, 785))"
      ]
     },
     "execution_count": 4,
     "metadata": {},
     "output_type": "execute_result"
    }
   ],
   "source": [
    "data = pd.read_csv('mnist_train.csv')\n",
    "data.head(), type(data), data.shape"
   ]
  },
  {
   "cell_type": "markdown",
   "metadata": {},
   "source": [
    "#### MNIST dataset\n",
    "- Contains images of handwritten digits (0-9)\n",
    "- size of each image is 28 x 28 (pixels) and is gray scale\n",
    "    - So the input features = 1 x 28 x 28 = 784 pixels\n",
    "    - the classes (0-9) = 10 classes"
   ]
  },
  {
   "cell_type": "markdown",
   "metadata": {},
   "source": [
    "#### Transform data to numpy"
   ]
  },
  {
   "cell_type": "code",
   "execution_count": 5,
   "metadata": {},
   "outputs": [],
   "source": [
    "data = np.array(data)"
   ]
  },
  {
   "cell_type": "code",
   "execution_count": 6,
   "metadata": {},
   "outputs": [
    {
     "data": {
      "text/plain": [
       "((60000, 784), (60000,), numpy.ndarray, numpy.ndarray)"
      ]
     },
     "execution_count": 6,
     "metadata": {},
     "output_type": "execute_result"
    }
   ],
   "source": [
    "X = data[:, 1:]\n",
    "y = data[:, 0]\n",
    "\n",
    "X.shape, y.shape, type(X), type(y)"
   ]
  },
  {
   "cell_type": "markdown",
   "metadata": {},
   "source": [
    "#### Train test split"
   ]
  },
  {
   "cell_type": "code",
   "execution_count": 7,
   "metadata": {},
   "outputs": [],
   "source": [
    "X_train, X_test, y_train, y_test = train_test_split(X, y, test_size=0.2, random_state=42)"
   ]
  },
  {
   "cell_type": "markdown",
   "metadata": {},
   "source": [
    "#### Convert to tensor"
   ]
  },
  {
   "cell_type": "code",
   "execution_count": 8,
   "metadata": {},
   "outputs": [],
   "source": [
    "X_t = torch.tensor(X_train, dtype=torch.float32)\n",
    "y_t = torch.tensor(y_train, dtype=torch.long)\n",
    "\n",
    "X_train = X_t\n",
    "y_train = y_t\n",
    "X_test = torch.tensor(X_test, dtype=torch.float32)\n",
    "y_test = torch.tensor(y_test, dtype=torch.long)"
   ]
  },
  {
   "cell_type": "markdown",
   "metadata": {},
   "source": [
    "#### Normalize the data"
   ]
  },
  {
   "cell_type": "code",
   "execution_count": 9,
   "metadata": {},
   "outputs": [],
   "source": [
    "X_train = X_train/torch.max(X_train)\n",
    "X_test = X_test/torch.max(X_test)"
   ]
  },
  {
   "cell_type": "markdown",
   "metadata": {},
   "source": [
    "#### Convert to pytorch dataset"
   ]
  },
  {
   "cell_type": "code",
   "execution_count": 10,
   "metadata": {},
   "outputs": [],
   "source": [
    "X_train = TensorDataset(X_train, y_train)\n",
    "X_test = TensorDataset(X_test, y_test)"
   ]
  },
  {
   "cell_type": "markdown",
   "metadata": {},
   "source": [
    "#### Move data into dataloader objects"
   ]
  },
  {
   "cell_type": "code",
   "execution_count": 11,
   "metadata": {},
   "outputs": [],
   "source": [
    "batchSize = 32\n",
    "train_loader = DataLoader(X_train, batch_size=batchSize, shuffle=True, drop_last=True)\n",
    "test_loader = DataLoader(X_test, batch_size=X_test.tensors[0].shape[0])"
   ]
  },
  {
   "cell_type": "code",
   "execution_count": 12,
   "metadata": {},
   "outputs": [
    {
     "name": "stdout",
     "output_type": "stream",
     "text": [
      "torch.Size([32, 784]) torch.Size([32])\n"
     ]
    }
   ],
   "source": [
    "for X, y in train_loader:\n",
    "    print(X.shape, y.shape)\n",
    "    break"
   ]
  },
  {
   "cell_type": "markdown",
   "metadata": {},
   "source": [
    "#### Visualize"
   ]
  },
  {
   "cell_type": "code",
   "execution_count": 13,
   "metadata": {},
   "outputs": [
    {
     "data": {
      "image/png": "[encoded data removed]",
      "text/plain": [
       "<Figure size 1200x200 with 12 Axes>"
      ]
     },
     "metadata": {},
     "output_type": "display_data"
    }
   ],
   "source": [
    "fig, axs = plt.subplots(1, 12,figsize=(12,2))\n",
    "for i in range(12):\n",
    "    axs[i].imshow(X_t[i,:].view(28, 28).detach(), cmap='gray')\n",
    "    axs[i].set_xticks([])\n",
    "    axs[i].set_yticks([])\n",
    "plt.suptitle('Data images')\n",
    "plt.show()"
   ]
  },
  {
   "cell_type": "markdown",
   "metadata": {},
   "source": [
    "#### Create neural network"
   ]
  },
  {
   "cell_type": "code",
   "execution_count": 14,
   "metadata": {},
   "outputs": [],
   "source": [
    "class NN_Classifier(nn.Module):\n",
    "    def __init__(self):\n",
    "        super().__init__()\n",
    "        self.input = nn.Linear(784, 64)\n",
    "        self.fc1 = nn.Linear(64, 32)\n",
    "        self.fc2 = nn.Linear(32, 32)\n",
    "        \n",
    "        # classification or output layer\n",
    "        self.output = nn.Linear(32, 10)\n",
    "    # Forward pass\n",
    "    def forward(self, x):\n",
    "        x = self.input(x)\n",
    "        x = self.fc1(x)\n",
    "        x = F.relu(x)\n",
    "        x = self.fc2(x)\n",
    "        x = F.relu(x)\n",
    "        # output layer\n",
    "        x = self.output(x)\n",
    "        \n",
    "        return x\n",
    "model = NN_Classifier()"
   ]
  },
  {
   "cell_type": "markdown",
   "metadata": {},
   "source": [
    "#### Train Model"
   ]
  },
  {
   "cell_type": "code",
   "execution_count": 15,
   "metadata": {},
   "outputs": [
    {
     "data": {
      "text/plain": [
       "NN_Classifier(\n",
       "  (input): Linear(in_features=784, out_features=64, bias=True)\n",
       "  (fc1): Linear(in_features=64, out_features=32, bias=True)\n",
       "  (fc2): Linear(in_features=32, out_features=32, bias=True)\n",
       "  (output): Linear(in_features=32, out_features=10, bias=True)\n",
       ")"
      ]
     },
     "execution_count": 15,
     "metadata": {},
     "output_type": "execute_result"
    }
   ],
   "source": [
    "learningRate = 0.01\n",
    "momentum = 0.9\n",
    "lossfc = nn.CrossEntropyLoss()\n",
    "optimizer = torch.optim.SGD(model.parameters(), momentum=momentum, lr=learningRate)\n",
    "\n",
    "model.to(device)"
   ]
  },
  {
   "cell_type": "code",
   "execution_count": 16,
   "metadata": {},
   "outputs": [
    {
     "name": "stdout",
     "output_type": "stream",
     "text": [
      " epochs : 0  loss :  0.27\n",
      " epochs : 10  loss :  0.17\n",
      " epochs : 20  loss :  0.07\n",
      " epochs : 30  loss :  0.00\n",
      " epochs : 40  loss :  0.01\n",
      " epochs : 50  loss :  0.13\n",
      " epochs : 60  loss :  0.16\n",
      " epochs : 70  loss :  0.00\n",
      " epochs : 80  loss :  0.02\n",
      " epochs : 90  loss :  0.01\n",
      " epochs : 100  loss :  0.13\n",
      " epochs : 110  loss :  0.03\n",
      " epochs : 120  loss :  0.00\n",
      " epochs : 130  loss :  0.00\n",
      " epochs : 140  loss :  0.00\n",
      " epochs : 150  loss :  0.01\n",
      " epochs : 160  loss :  0.00\n",
      " epochs : 170  loss :  0.00\n",
      " epochs : 180  loss :  0.01\n",
      " epochs : 190  loss :  0.01\n",
      " epochs : 200  loss :  0.11\n",
      " epochs : 210  loss :  0.14\n",
      " epochs : 220  loss :  0.01\n",
      " epochs : 230  loss :  0.04\n",
      " epochs : 240  loss :  0.03\n"
     ]
    }
   ],
   "source": [
    "epochs = 250\n",
    "losses    = torch.zeros(epochs)\n",
    "trainAcc  = []\n",
    "testAcc   = []\n",
    "\n",
    "for epoch in range(epochs):\n",
    "    model.train()\n",
    "    # Loop for training in batches\n",
    "    batchAcc  = []\n",
    "    batchLoss = []\n",
    "    for X,y in train_loader:\n",
    "        X = X.to(device) # Placing features on device\n",
    "        y = y.to(device) # placing labels on device\n",
    "        ypred = model(X)\n",
    "        loss = lossfc(ypred,y)\n",
    "        # Backpropagation\n",
    "        optimizer.zero_grad()\n",
    "        loss.backward()\n",
    "        optimizer.step()\n",
    "        # Append batchloss\n",
    "        batchLoss.append(loss.item())\n",
    "        ypred = ypred.cpu() # Back to cpu\n",
    "        y = y.cpu()\n",
    "        # compute batch accuracy\n",
    "        acc = 100 * torch.mean((torch.argmax(ypred, dim=1) == y).float())\n",
    "        batchAcc.append(acc)\n",
    "    # Average training accuracy (Outside the batchloop)\n",
    "    trainAcc.append(np.mean(batchAcc))\n",
    "    # Losses through epochs\n",
    "    losses[epoch] = np.mean(batchLoss)\n",
    "    \n",
    "    \n",
    "    # TESTING the model\n",
    "    model.eval()\n",
    "    X,y = next(iter(test_loader))\n",
    "    X = X.to(device)\n",
    "    y = y.to(device)\n",
    "    with torch.no_grad(): #This step  Deactivating autogradient\n",
    "        ypred = model(X)\n",
    "        ypred = ypred.cpu()\n",
    "        y = y.cpu()\n",
    "        # Appending test accuracy\n",
    "        testAcc.append(100 * torch.mean((torch.argmax(ypred,dim=1)==y).float()))\n",
    "        if (epoch % 10) == 0:\n",
    "            print(f' epochs : {epoch}  loss : {loss : 2.2f}')\n",
    "\n"
   ]
  },
  {
   "cell_type": "markdown",
   "metadata": {},
   "source": [
    "# Visualizing the Loss and Accuracies"
   ]
  },
  {
   "cell_type": "code",
   "execution_count": 17,
   "metadata": {},
   "outputs": [
    {
     "data": {
      "image/png": "[encoded data removed]",
      "text/plain": [
       "<Figure size 1800x600 with 2 Axes>"
      ]
     },
     "metadata": {},
     "output_type": "display_data"
    }
   ],
   "source": [
    "fig,ax = plt.subplots(1,2,figsize=(18,6))\n",
    "\n",
    "ax[0].plot(losses, 'g', lw = 3, label = 'Train')\n",
    "ax[0].set_xlabel('Epochs', fontsize = 15)\n",
    "ax[0].set_ylabel('Loss', fontsize = 15)\n",
    "ax[0].legend(fontsize = 15)\n",
    "ax[0].set_title('Training Loss', fontsize = 15)\n",
    "\n",
    "ax[1].plot(trainAcc, label ='Train', lw = 3)\n",
    "ax[1].plot(testAcc, label ='Test', lw = 3)\n",
    "ax[1].set_xlabel('Epochs', fontsize = 15)\n",
    "ax[1].set_ylabel('Accuracy (%)', fontsize = 15)\n",
    "ax[1].set_ylim([10,110])\n",
    "ax[1].set_title(f'Train Accuracy: {trainAcc[-1]:.2f}% \\n Test Accuracy: {testAcc[-1]:.2f}%', fontsize = 15)\n",
    "ax[1].legend(fontsize = 15)\n",
    "\n",
    "plt.show()"
   ]
  },
  {
   "cell_type": "code",
   "execution_count": 33,
   "metadata": {},
   "outputs": [
    {
     "data": {
      "text/plain": [
       "tensor([[-32.2840,  14.8702,  -3.5003,  ...,  70.7842,   3.2119,  20.0739],\n",
       "        [ 28.9827,  43.5031,  11.9296,  ...,   5.3587,  45.0040,  21.9867],\n",
       "        [ -9.1698, -29.6571,   6.9728,  ..., -37.6591,  66.5169, -13.8933],\n",
       "        ...,\n",
       "        [-31.9442, -11.1652, -13.2676,  ...,  13.1051,   0.4264,  26.0461],\n",
       "        [-19.7785,   7.8153,  -5.2616,  ...,  34.1863,   0.3480,  14.6345],\n",
       "        [ -3.9428,  -1.1619,  14.5034,  ...,   3.1694,  -2.2870,  -5.3581]],\n",
       "       grad_fn=<AddmmBackward0>)"
      ]
     },
     "execution_count": 33,
     "metadata": {},
     "output_type": "execute_result"
    }
   ],
   "source": [
    "ypred_1 = model(X)\n",
    "ypred_1"
   ]
  },
  {
   "cell_type": "markdown",
   "metadata": {},
   "source": [
    "#### Save the model (Method 1)"
   ]
  },
  {
   "cell_type": "code",
   "execution_count": 30,
   "metadata": {},
   "outputs": [],
   "source": [
    "torch.save(model.state_dict(), 'nn_mnist_classification.pt')"
   ]
  },
  {
   "cell_type": "markdown",
   "metadata": {},
   "source": [
    "#### Load the saved model"
   ]
  },
  {
   "cell_type": "code",
   "execution_count": 34,
   "metadata": {},
   "outputs": [
    {
     "name": "stderr",
     "output_type": "stream",
     "text": [
      "C:\\Users\\divya\\AppData\\Local\\Temp\\ipykernel_15908\\2984902057.py:1: FutureWarning: You are using `torch.load` with `weights_only=False` (the current default value), which uses the default pickle module implicitly. It is possible to construct malicious pickle data which will execute arbitrary code during unpickling (See https://github.com/pytorch/pytorch/blob/main/SECURITY.md#untrusted-models for more details). In a future release, the default value for `weights_only` will be flipped to `True`. This limits the functions that could be executed during unpickling. Arbitrary objects will no longer be allowed to be loaded via this mode unless they are explicitly allowlisted by the user via `torch.serialization.add_safe_globals`. We recommend you start setting `weights_only=True` for any use case where you don't have full control of the loaded file. Please open an issue on GitHub for any issues related to this experimental feature.\n",
      "  model.load_state_dict(torch.load('nn_mnist_classification.pt'))\n"
     ]
    },
    {
     "data": {
      "text/plain": [
       "<All keys matched successfully>"
      ]
     },
     "execution_count": 34,
     "metadata": {},
     "output_type": "execute_result"
    }
   ],
   "source": [
    "model.load_state_dict(torch.load('nn_mnist_classification.pt'))"
   ]
  },
  {
   "cell_type": "markdown",
   "metadata": {},
   "source": [
    "#### Test loaded model"
   ]
  },
  {
   "cell_type": "code",
   "execution_count": 35,
   "metadata": {},
   "outputs": [
    {
     "name": "stdout",
     "output_type": "stream",
     "text": [
      "tensor([[0., 0., 0.,  ..., 0., 0., 0.],\n",
      "        [0., 0., 0.,  ..., 0., 0., 0.],\n",
      "        [0., 0., 0.,  ..., 0., 0., 0.],\n",
      "        ...,\n",
      "        [0., 0., 0.,  ..., 0., 0., 0.],\n",
      "        [0., 0., 0.,  ..., 0., 0., 0.],\n",
      "        [0., 0., 0.,  ..., 0., 0., 0.]]) tensor([7, 3, 8,  ..., 9, 7, 2])\n",
      "tensor(95.9417)\n"
     ]
    }
   ],
   "source": [
    "model.to(device)\n",
    "X, y = next(iter(test_loader))\n",
    "X = X.to(device)\n",
    "y = y.to(device)\n",
    "\n",
    "print(X, y)\n",
    "with torch.no_grad(): #This step  Deactivating autogradient\n",
    "    ypred = model(X)\n",
    "    ypred = ypred.cpu()\n",
    "    y = y.cpu()\n",
    "acc = 100 * torch.mean((torch.argmax(ypred,dim=1)==y).float())\n",
    "print(acc)"
   ]
  },
  {
   "cell_type": "markdown",
   "metadata": {},
   "source": [
    "#### Save the model (Method 2)"
   ]
  },
  {
   "cell_type": "code",
   "execution_count": 36,
   "metadata": {},
   "outputs": [],
   "source": [
    "NewModel = NN_Classifier()"
   ]
  },
  {
   "cell_type": "markdown",
   "metadata": {},
   "source": [
    "#### Transfer weights of the trained model to new model"
   ]
  },
  {
   "cell_type": "code",
   "execution_count": 37,
   "metadata": {},
   "outputs": [
    {
     "name": "stderr",
     "output_type": "stream",
     "text": [
      "C:\\Users\\divya\\AppData\\Local\\Temp\\ipykernel_15908\\2399522477.py:1: FutureWarning: You are using `torch.load` with `weights_only=False` (the current default value), which uses the default pickle module implicitly. It is possible to construct malicious pickle data which will execute arbitrary code during unpickling (See https://github.com/pytorch/pytorch/blob/main/SECURITY.md#untrusted-models for more details). In a future release, the default value for `weights_only` will be flipped to `True`. This limits the functions that could be executed during unpickling. Arbitrary objects will no longer be allowed to be loaded via this mode unless they are explicitly allowlisted by the user via `torch.serialization.add_safe_globals`. We recommend you start setting `weights_only=True` for any use case where you don't have full control of the loaded file. Please open an issue on GitHub for any issues related to this experimental feature.\n",
      "  NewModel.load_state_dict(torch.load('nn_mnist_classification.pt'))\n"
     ]
    },
    {
     "data": {
      "text/plain": [
       "<All keys matched successfully>"
      ]
     },
     "execution_count": 37,
     "metadata": {},
     "output_type": "execute_result"
    }
   ],
   "source": [
    "NewModel.load_state_dict(torch.load('nn_mnist_classification.pt'))"
   ]
  },
  {
   "cell_type": "code",
   "execution_count": 38,
   "metadata": {},
   "outputs": [
    {
     "data": {
      "text/plain": [
       "tensor(95.9417)"
      ]
     },
     "execution_count": 38,
     "metadata": {},
     "output_type": "execute_result"
    }
   ],
   "source": [
    "NewModel.to(device)\n",
    "X, y = next(iter(test_loader))\n",
    "X = X.to(device)\n",
    "y = y.to(device)\n",
    "\n",
    "with torch.no_grad(): #This step  Deactivating autogradient\n",
    "    ypred = NewModel(X)\n",
    "    ypred = ypred.cpu()\n",
    "    y = y.cpu()\n",
    "    # Appending test accuracy\n",
    "acc = 100 * torch.mean((torch.argmax(ypred,dim=1)==y).float())\n",
    "acc"
   ]
  },
  {
   "cell_type": "code",
   "execution_count": null,
   "metadata": {},
   "outputs": [],
   "source": []
  },
  {
   "cell_type": "code",
   "execution_count": null,
   "metadata": {},
   "outputs": [],
   "source": []
  }
 ],
 "metadata": {
  "kernelspec": {
   "display_name": "Python 3",
   "language": "python",
   "name": "python3"
  },
  "language_info": {
   "codemirror_mode": {
    "name": "ipython",
    "version": 3
   },
   "file_extension": ".py",
   "mimetype": "text/x-python",
   "name": "python",
   "nbconvert_exporter": "python",
   "pygments_lexer": "ipython3",
   "version": "3.9.21"
  }
 },
 "nbformat": 4,
 "nbformat_minor": 2
}
