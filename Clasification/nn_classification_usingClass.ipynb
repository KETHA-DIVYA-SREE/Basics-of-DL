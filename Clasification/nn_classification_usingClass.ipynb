{
  "cells": [
    {
      "cell_type": "code",
      "execution_count": 1,
      "metadata": {
        "id": "O7BXRcdUjN6n"
      },
      "outputs": [],
      "source": [
        "!pip install torchviz==0.0.3 -q"
      ]
    },
    {
      "cell_type": "code",
      "execution_count": 2,
      "metadata": {
        "id": "7P146sp3jN6o"
      },
      "outputs": [],
      "source": [
        "import torch\n",
        "import torch.nn as nn\n",
        "import torch.nn.functional as F\n",
        "from torch.utils.data import dataloader, TensorDataset\n",
        "from sklearn.model_selection import train_test_split\n",
        "import numpy as np\n",
        "import pandas as pd\n",
        "import matplotlib.pyplot as plt\n",
        "import seaborn as sns\n",
        "from torchviz import make_dot"
      ]
    },
    {
      "cell_type": "markdown",
      "metadata": {
        "id": "2m2nZQcRjN6p"
      },
      "source": [
        "#### Load dataset"
      ]
    },
    {
      "cell_type": "code",
      "execution_count": 3,
      "metadata": {
        "colab": {
          "base_uri": "https://localhost:8080/"
        },
        "id": "9wLhqNWkjN6r",
        "outputId": "387a187a-cd8b-455b-d734-79020f20a662"
      },
      "outputs": [
        {
          "output_type": "execute_result",
          "data": {
            "text/plain": [
              "(   sepal_length  sepal_width  petal_length  petal_width species\n",
              " 0           5.1          3.5           1.4          0.2  setosa\n",
              " 1           4.9          3.0           1.4          0.2  setosa\n",
              " 2           4.7          3.2           1.3          0.2  setosa\n",
              " 3           4.6          3.1           1.5          0.2  setosa\n",
              " 4           5.0          3.6           1.4          0.2  setosa,\n",
              " array(['setosa', 'versicolor', 'virginica'], dtype=object),\n",
              " pandas.core.frame.DataFrame)"
            ]
          },
          "metadata": {},
          "execution_count": 3
        }
      ],
      "source": [
        "iris = sns.load_dataset('iris')\n",
        "iris.head(), iris.species.unique(), type(iris)"
      ]
    },
    {
      "cell_type": "code",
      "execution_count": 4,
      "metadata": {
        "colab": {
          "base_uri": "https://localhost:8080/"
        },
        "id": "1n50Z1I2jN6s",
        "outputId": "ffc7af0d-f4ef-47d9-94c8-9a45556ee150"
      },
      "outputs": [
        {
          "output_type": "execute_result",
          "data": {
            "text/plain": [
              "(array([[5.1, 3.5, 1.4, 0.2],\n",
              "        [4.9, 3. , 1.4, 0.2],\n",
              "        [4.7, 3.2, 1.3, 0.2],\n",
              "        [4.6, 3.1, 1.5, 0.2],\n",
              "        [5. , 3.6, 1.4, 0.2],\n",
              "        [5.4, 3.9, 1.7, 0.4],\n",
              "        [4.6, 3.4, 1.4, 0.3],\n",
              "        [5. , 3.4, 1.5, 0.2],\n",
              "        [4.4, 2.9, 1.4, 0.2],\n",
              "        [4.9, 3.1, 1.5, 0.1],\n",
              "        [5.4, 3.7, 1.5, 0.2],\n",
              "        [4.8, 3.4, 1.6, 0.2],\n",
              "        [4.8, 3. , 1.4, 0.1],\n",
              "        [4.3, 3. , 1.1, 0.1],\n",
              "        [5.8, 4. , 1.2, 0.2],\n",
              "        [5.7, 4.4, 1.5, 0.4],\n",
              "        [5.4, 3.9, 1.3, 0.4],\n",
              "        [5.1, 3.5, 1.4, 0.3],\n",
              "        [5.7, 3.8, 1.7, 0.3],\n",
              "        [5.1, 3.8, 1.5, 0.3],\n",
              "        [5.4, 3.4, 1.7, 0.2],\n",
              "        [5.1, 3.7, 1.5, 0.4],\n",
              "        [4.6, 3.6, 1. , 0.2],\n",
              "        [5.1, 3.3, 1.7, 0.5],\n",
              "        [4.8, 3.4, 1.9, 0.2],\n",
              "        [5. , 3. , 1.6, 0.2],\n",
              "        [5. , 3.4, 1.6, 0.4],\n",
              "        [5.2, 3.5, 1.5, 0.2],\n",
              "        [5.2, 3.4, 1.4, 0.2],\n",
              "        [4.7, 3.2, 1.6, 0.2],\n",
              "        [4.8, 3.1, 1.6, 0.2],\n",
              "        [5.4, 3.4, 1.5, 0.4],\n",
              "        [5.2, 4.1, 1.5, 0.1],\n",
              "        [5.5, 4.2, 1.4, 0.2],\n",
              "        [4.9, 3.1, 1.5, 0.2],\n",
              "        [5. , 3.2, 1.2, 0.2],\n",
              "        [5.5, 3.5, 1.3, 0.2],\n",
              "        [4.9, 3.6, 1.4, 0.1],\n",
              "        [4.4, 3. , 1.3, 0.2],\n",
              "        [5.1, 3.4, 1.5, 0.2],\n",
              "        [5. , 3.5, 1.3, 0.3],\n",
              "        [4.5, 2.3, 1.3, 0.3],\n",
              "        [4.4, 3.2, 1.3, 0.2],\n",
              "        [5. , 3.5, 1.6, 0.6],\n",
              "        [5.1, 3.8, 1.9, 0.4],\n",
              "        [4.8, 3. , 1.4, 0.3],\n",
              "        [5.1, 3.8, 1.6, 0.2],\n",
              "        [4.6, 3.2, 1.4, 0.2],\n",
              "        [5.3, 3.7, 1.5, 0.2],\n",
              "        [5. , 3.3, 1.4, 0.2],\n",
              "        [7. , 3.2, 4.7, 1.4],\n",
              "        [6.4, 3.2, 4.5, 1.5],\n",
              "        [6.9, 3.1, 4.9, 1.5],\n",
              "        [5.5, 2.3, 4. , 1.3],\n",
              "        [6.5, 2.8, 4.6, 1.5],\n",
              "        [5.7, 2.8, 4.5, 1.3],\n",
              "        [6.3, 3.3, 4.7, 1.6],\n",
              "        [4.9, 2.4, 3.3, 1. ],\n",
              "        [6.6, 2.9, 4.6, 1.3],\n",
              "        [5.2, 2.7, 3.9, 1.4],\n",
              "        [5. , 2. , 3.5, 1. ],\n",
              "        [5.9, 3. , 4.2, 1.5],\n",
              "        [6. , 2.2, 4. , 1. ],\n",
              "        [6.1, 2.9, 4.7, 1.4],\n",
              "        [5.6, 2.9, 3.6, 1.3],\n",
              "        [6.7, 3.1, 4.4, 1.4],\n",
              "        [5.6, 3. , 4.5, 1.5],\n",
              "        [5.8, 2.7, 4.1, 1. ],\n",
              "        [6.2, 2.2, 4.5, 1.5],\n",
              "        [5.6, 2.5, 3.9, 1.1],\n",
              "        [5.9, 3.2, 4.8, 1.8],\n",
              "        [6.1, 2.8, 4. , 1.3],\n",
              "        [6.3, 2.5, 4.9, 1.5],\n",
              "        [6.1, 2.8, 4.7, 1.2],\n",
              "        [6.4, 2.9, 4.3, 1.3],\n",
              "        [6.6, 3. , 4.4, 1.4],\n",
              "        [6.8, 2.8, 4.8, 1.4],\n",
              "        [6.7, 3. , 5. , 1.7],\n",
              "        [6. , 2.9, 4.5, 1.5],\n",
              "        [5.7, 2.6, 3.5, 1. ],\n",
              "        [5.5, 2.4, 3.8, 1.1],\n",
              "        [5.5, 2.4, 3.7, 1. ],\n",
              "        [5.8, 2.7, 3.9, 1.2],\n",
              "        [6. , 2.7, 5.1, 1.6],\n",
              "        [5.4, 3. , 4.5, 1.5],\n",
              "        [6. , 3.4, 4.5, 1.6],\n",
              "        [6.7, 3.1, 4.7, 1.5],\n",
              "        [6.3, 2.3, 4.4, 1.3],\n",
              "        [5.6, 3. , 4.1, 1.3],\n",
              "        [5.5, 2.5, 4. , 1.3],\n",
              "        [5.5, 2.6, 4.4, 1.2],\n",
              "        [6.1, 3. , 4.6, 1.4],\n",
              "        [5.8, 2.6, 4. , 1.2],\n",
              "        [5. , 2.3, 3.3, 1. ],\n",
              "        [5.6, 2.7, 4.2, 1.3],\n",
              "        [5.7, 3. , 4.2, 1.2],\n",
              "        [5.7, 2.9, 4.2, 1.3],\n",
              "        [6.2, 2.9, 4.3, 1.3],\n",
              "        [5.1, 2.5, 3. , 1.1],\n",
              "        [5.7, 2.8, 4.1, 1.3],\n",
              "        [6.3, 3.3, 6. , 2.5],\n",
              "        [5.8, 2.7, 5.1, 1.9],\n",
              "        [7.1, 3. , 5.9, 2.1],\n",
              "        [6.3, 2.9, 5.6, 1.8],\n",
              "        [6.5, 3. , 5.8, 2.2],\n",
              "        [7.6, 3. , 6.6, 2.1],\n",
              "        [4.9, 2.5, 4.5, 1.7],\n",
              "        [7.3, 2.9, 6.3, 1.8],\n",
              "        [6.7, 2.5, 5.8, 1.8],\n",
              "        [7.2, 3.6, 6.1, 2.5],\n",
              "        [6.5, 3.2, 5.1, 2. ],\n",
              "        [6.4, 2.7, 5.3, 1.9],\n",
              "        [6.8, 3. , 5.5, 2.1],\n",
              "        [5.7, 2.5, 5. , 2. ],\n",
              "        [5.8, 2.8, 5.1, 2.4],\n",
              "        [6.4, 3.2, 5.3, 2.3],\n",
              "        [6.5, 3. , 5.5, 1.8],\n",
              "        [7.7, 3.8, 6.7, 2.2],\n",
              "        [7.7, 2.6, 6.9, 2.3],\n",
              "        [6. , 2.2, 5. , 1.5],\n",
              "        [6.9, 3.2, 5.7, 2.3],\n",
              "        [5.6, 2.8, 4.9, 2. ],\n",
              "        [7.7, 2.8, 6.7, 2. ],\n",
              "        [6.3, 2.7, 4.9, 1.8],\n",
              "        [6.7, 3.3, 5.7, 2.1],\n",
              "        [7.2, 3.2, 6. , 1.8],\n",
              "        [6.2, 2.8, 4.8, 1.8],\n",
              "        [6.1, 3. , 4.9, 1.8],\n",
              "        [6.4, 2.8, 5.6, 2.1],\n",
              "        [7.2, 3. , 5.8, 1.6],\n",
              "        [7.4, 2.8, 6.1, 1.9],\n",
              "        [7.9, 3.8, 6.4, 2. ],\n",
              "        [6.4, 2.8, 5.6, 2.2],\n",
              "        [6.3, 2.8, 5.1, 1.5],\n",
              "        [6.1, 2.6, 5.6, 1.4],\n",
              "        [7.7, 3. , 6.1, 2.3],\n",
              "        [6.3, 3.4, 5.6, 2.4],\n",
              "        [6.4, 3.1, 5.5, 1.8],\n",
              "        [6. , 3. , 4.8, 1.8],\n",
              "        [6.9, 3.1, 5.4, 2.1],\n",
              "        [6.7, 3.1, 5.6, 2.4],\n",
              "        [6.9, 3.1, 5.1, 2.3],\n",
              "        [5.8, 2.7, 5.1, 1.9],\n",
              "        [6.8, 3.2, 5.9, 2.3],\n",
              "        [6.7, 3.3, 5.7, 2.5],\n",
              "        [6.7, 3. , 5.2, 2.3],\n",
              "        [6.3, 2.5, 5. , 1.9],\n",
              "        [6.5, 3. , 5.2, 2. ],\n",
              "        [6.2, 3.4, 5.4, 2.3],\n",
              "        [5.9, 3. , 5.1, 1.8]]),\n",
              " array(['setosa', 'setosa', 'setosa', 'setosa', 'setosa', 'setosa',\n",
              "        'setosa', 'setosa', 'setosa', 'setosa', 'setosa', 'setosa',\n",
              "        'setosa', 'setosa', 'setosa', 'setosa', 'setosa', 'setosa',\n",
              "        'setosa', 'setosa', 'setosa', 'setosa', 'setosa', 'setosa',\n",
              "        'setosa', 'setosa', 'setosa', 'setosa', 'setosa', 'setosa',\n",
              "        'setosa', 'setosa', 'setosa', 'setosa', 'setosa', 'setosa',\n",
              "        'setosa', 'setosa', 'setosa', 'setosa', 'setosa', 'setosa',\n",
              "        'setosa', 'setosa', 'setosa', 'setosa', 'setosa', 'setosa',\n",
              "        'setosa', 'setosa', 'versicolor', 'versicolor', 'versicolor',\n",
              "        'versicolor', 'versicolor', 'versicolor', 'versicolor',\n",
              "        'versicolor', 'versicolor', 'versicolor', 'versicolor',\n",
              "        'versicolor', 'versicolor', 'versicolor', 'versicolor',\n",
              "        'versicolor', 'versicolor', 'versicolor', 'versicolor',\n",
              "        'versicolor', 'versicolor', 'versicolor', 'versicolor',\n",
              "        'versicolor', 'versicolor', 'versicolor', 'versicolor',\n",
              "        'versicolor', 'versicolor', 'versicolor', 'versicolor',\n",
              "        'versicolor', 'versicolor', 'versicolor', 'versicolor',\n",
              "        'versicolor', 'versicolor', 'versicolor', 'versicolor',\n",
              "        'versicolor', 'versicolor', 'versicolor', 'versicolor',\n",
              "        'versicolor', 'versicolor', 'versicolor', 'versicolor',\n",
              "        'versicolor', 'versicolor', 'versicolor', 'virginica', 'virginica',\n",
              "        'virginica', 'virginica', 'virginica', 'virginica', 'virginica',\n",
              "        'virginica', 'virginica', 'virginica', 'virginica', 'virginica',\n",
              "        'virginica', 'virginica', 'virginica', 'virginica', 'virginica',\n",
              "        'virginica', 'virginica', 'virginica', 'virginica', 'virginica',\n",
              "        'virginica', 'virginica', 'virginica', 'virginica', 'virginica',\n",
              "        'virginica', 'virginica', 'virginica', 'virginica', 'virginica',\n",
              "        'virginica', 'virginica', 'virginica', 'virginica', 'virginica',\n",
              "        'virginica', 'virginica', 'virginica', 'virginica', 'virginica',\n",
              "        'virginica', 'virginica', 'virginica', 'virginica', 'virginica',\n",
              "        'virginica', 'virginica', 'virginica'], dtype=object),\n",
              " array(['setosa', 'versicolor', 'virginica'], dtype=object),\n",
              " numpy.ndarray,\n",
              " numpy.ndarray)"
            ]
          },
          "metadata": {},
          "execution_count": 4
        }
      ],
      "source": [
        "X = iris.iloc[:, :-1].values\n",
        "y = iris.iloc[:, -1].values\n",
        "unique_clsses = iris.iloc[:, -1].unique()\n",
        "X, y, unique_clsses, type(X), type(y)\n",
        "\n",
        "# iris.values"
      ]
    },
    {
      "cell_type": "code",
      "execution_count": 5,
      "metadata": {
        "colab": {
          "base_uri": "https://localhost:8080/"
        },
        "id": "oY5GC8hmglzQ",
        "outputId": "979ca49e-6d23-4237-b2e7-745f9ed757c5"
      },
      "outputs": [
        {
          "output_type": "execute_result",
          "data": {
            "text/plain": [
              "(array([[5.1, 3.5, 1.4, 0.2],\n",
              "        [4.9, 3. , 1.4, 0.2],\n",
              "        [4.7, 3.2, 1.3, 0.2],\n",
              "        [4.6, 3.1, 1.5, 0.2],\n",
              "        [5. , 3.6, 1.4, 0.2],\n",
              "        [5.4, 3.9, 1.7, 0.4],\n",
              "        [4.6, 3.4, 1.4, 0.3],\n",
              "        [5. , 3.4, 1.5, 0.2],\n",
              "        [4.4, 2.9, 1.4, 0.2],\n",
              "        [4.9, 3.1, 1.5, 0.1],\n",
              "        [5.4, 3.7, 1.5, 0.2],\n",
              "        [4.8, 3.4, 1.6, 0.2],\n",
              "        [4.8, 3. , 1.4, 0.1],\n",
              "        [4.3, 3. , 1.1, 0.1],\n",
              "        [5.8, 4. , 1.2, 0.2],\n",
              "        [5.7, 4.4, 1.5, 0.4],\n",
              "        [5.4, 3.9, 1.3, 0.4],\n",
              "        [5.1, 3.5, 1.4, 0.3],\n",
              "        [5.7, 3.8, 1.7, 0.3],\n",
              "        [5.1, 3.8, 1.5, 0.3],\n",
              "        [5.4, 3.4, 1.7, 0.2],\n",
              "        [5.1, 3.7, 1.5, 0.4],\n",
              "        [4.6, 3.6, 1. , 0.2],\n",
              "        [5.1, 3.3, 1.7, 0.5],\n",
              "        [4.8, 3.4, 1.9, 0.2],\n",
              "        [5. , 3. , 1.6, 0.2],\n",
              "        [5. , 3.4, 1.6, 0.4],\n",
              "        [5.2, 3.5, 1.5, 0.2],\n",
              "        [5.2, 3.4, 1.4, 0.2],\n",
              "        [4.7, 3.2, 1.6, 0.2],\n",
              "        [4.8, 3.1, 1.6, 0.2],\n",
              "        [5.4, 3.4, 1.5, 0.4],\n",
              "        [5.2, 4.1, 1.5, 0.1],\n",
              "        [5.5, 4.2, 1.4, 0.2],\n",
              "        [4.9, 3.1, 1.5, 0.2],\n",
              "        [5. , 3.2, 1.2, 0.2],\n",
              "        [5.5, 3.5, 1.3, 0.2],\n",
              "        [4.9, 3.6, 1.4, 0.1],\n",
              "        [4.4, 3. , 1.3, 0.2],\n",
              "        [5.1, 3.4, 1.5, 0.2],\n",
              "        [5. , 3.5, 1.3, 0.3],\n",
              "        [4.5, 2.3, 1.3, 0.3],\n",
              "        [4.4, 3.2, 1.3, 0.2],\n",
              "        [5. , 3.5, 1.6, 0.6],\n",
              "        [5.1, 3.8, 1.9, 0.4],\n",
              "        [4.8, 3. , 1.4, 0.3],\n",
              "        [5.1, 3.8, 1.6, 0.2],\n",
              "        [4.6, 3.2, 1.4, 0.2],\n",
              "        [5.3, 3.7, 1.5, 0.2],\n",
              "        [5. , 3.3, 1.4, 0.2],\n",
              "        [7. , 3.2, 4.7, 1.4],\n",
              "        [6.4, 3.2, 4.5, 1.5],\n",
              "        [6.9, 3.1, 4.9, 1.5],\n",
              "        [5.5, 2.3, 4. , 1.3],\n",
              "        [6.5, 2.8, 4.6, 1.5],\n",
              "        [5.7, 2.8, 4.5, 1.3],\n",
              "        [6.3, 3.3, 4.7, 1.6],\n",
              "        [4.9, 2.4, 3.3, 1. ],\n",
              "        [6.6, 2.9, 4.6, 1.3],\n",
              "        [5.2, 2.7, 3.9, 1.4],\n",
              "        [5. , 2. , 3.5, 1. ],\n",
              "        [5.9, 3. , 4.2, 1.5],\n",
              "        [6. , 2.2, 4. , 1. ],\n",
              "        [6.1, 2.9, 4.7, 1.4],\n",
              "        [5.6, 2.9, 3.6, 1.3],\n",
              "        [6.7, 3.1, 4.4, 1.4],\n",
              "        [5.6, 3. , 4.5, 1.5],\n",
              "        [5.8, 2.7, 4.1, 1. ],\n",
              "        [6.2, 2.2, 4.5, 1.5],\n",
              "        [5.6, 2.5, 3.9, 1.1],\n",
              "        [5.9, 3.2, 4.8, 1.8],\n",
              "        [6.1, 2.8, 4. , 1.3],\n",
              "        [6.3, 2.5, 4.9, 1.5],\n",
              "        [6.1, 2.8, 4.7, 1.2],\n",
              "        [6.4, 2.9, 4.3, 1.3],\n",
              "        [6.6, 3. , 4.4, 1.4],\n",
              "        [6.8, 2.8, 4.8, 1.4],\n",
              "        [6.7, 3. , 5. , 1.7],\n",
              "        [6. , 2.9, 4.5, 1.5],\n",
              "        [5.7, 2.6, 3.5, 1. ],\n",
              "        [5.5, 2.4, 3.8, 1.1],\n",
              "        [5.5, 2.4, 3.7, 1. ],\n",
              "        [5.8, 2.7, 3.9, 1.2],\n",
              "        [6. , 2.7, 5.1, 1.6],\n",
              "        [5.4, 3. , 4.5, 1.5],\n",
              "        [6. , 3.4, 4.5, 1.6],\n",
              "        [6.7, 3.1, 4.7, 1.5],\n",
              "        [6.3, 2.3, 4.4, 1.3],\n",
              "        [5.6, 3. , 4.1, 1.3],\n",
              "        [5.5, 2.5, 4. , 1.3],\n",
              "        [5.5, 2.6, 4.4, 1.2],\n",
              "        [6.1, 3. , 4.6, 1.4],\n",
              "        [5.8, 2.6, 4. , 1.2],\n",
              "        [5. , 2.3, 3.3, 1. ],\n",
              "        [5.6, 2.7, 4.2, 1.3],\n",
              "        [5.7, 3. , 4.2, 1.2],\n",
              "        [5.7, 2.9, 4.2, 1.3],\n",
              "        [6.2, 2.9, 4.3, 1.3],\n",
              "        [5.1, 2.5, 3. , 1.1],\n",
              "        [5.7, 2.8, 4.1, 1.3],\n",
              "        [6.3, 3.3, 6. , 2.5],\n",
              "        [5.8, 2.7, 5.1, 1.9],\n",
              "        [7.1, 3. , 5.9, 2.1],\n",
              "        [6.3, 2.9, 5.6, 1.8],\n",
              "        [6.5, 3. , 5.8, 2.2],\n",
              "        [7.6, 3. , 6.6, 2.1],\n",
              "        [4.9, 2.5, 4.5, 1.7],\n",
              "        [7.3, 2.9, 6.3, 1.8],\n",
              "        [6.7, 2.5, 5.8, 1.8],\n",
              "        [7.2, 3.6, 6.1, 2.5],\n",
              "        [6.5, 3.2, 5.1, 2. ],\n",
              "        [6.4, 2.7, 5.3, 1.9],\n",
              "        [6.8, 3. , 5.5, 2.1],\n",
              "        [5.7, 2.5, 5. , 2. ],\n",
              "        [5.8, 2.8, 5.1, 2.4],\n",
              "        [6.4, 3.2, 5.3, 2.3],\n",
              "        [6.5, 3. , 5.5, 1.8],\n",
              "        [7.7, 3.8, 6.7, 2.2],\n",
              "        [7.7, 2.6, 6.9, 2.3],\n",
              "        [6. , 2.2, 5. , 1.5],\n",
              "        [6.9, 3.2, 5.7, 2.3],\n",
              "        [5.6, 2.8, 4.9, 2. ],\n",
              "        [7.7, 2.8, 6.7, 2. ],\n",
              "        [6.3, 2.7, 4.9, 1.8],\n",
              "        [6.7, 3.3, 5.7, 2.1],\n",
              "        [7.2, 3.2, 6. , 1.8],\n",
              "        [6.2, 2.8, 4.8, 1.8],\n",
              "        [6.1, 3. , 4.9, 1.8],\n",
              "        [6.4, 2.8, 5.6, 2.1],\n",
              "        [7.2, 3. , 5.8, 1.6],\n",
              "        [7.4, 2.8, 6.1, 1.9],\n",
              "        [7.9, 3.8, 6.4, 2. ],\n",
              "        [6.4, 2.8, 5.6, 2.2],\n",
              "        [6.3, 2.8, 5.1, 1.5],\n",
              "        [6.1, 2.6, 5.6, 1.4],\n",
              "        [7.7, 3. , 6.1, 2.3],\n",
              "        [6.3, 3.4, 5.6, 2.4],\n",
              "        [6.4, 3.1, 5.5, 1.8],\n",
              "        [6. , 3. , 4.8, 1.8],\n",
              "        [6.9, 3.1, 5.4, 2.1],\n",
              "        [6.7, 3.1, 5.6, 2.4],\n",
              "        [6.9, 3.1, 5.1, 2.3],\n",
              "        [5.8, 2.7, 5.1, 1.9],\n",
              "        [6.8, 3.2, 5.9, 2.3],\n",
              "        [6.7, 3.3, 5.7, 2.5],\n",
              "        [6.7, 3. , 5.2, 2.3],\n",
              "        [6.3, 2.5, 5. , 1.9],\n",
              "        [6.5, 3. , 5.2, 2. ],\n",
              "        [6.2, 3.4, 5.4, 2.3],\n",
              "        [5.9, 3. , 5.1, 1.8]]),\n",
              " array([0, 0, 0, 0, 0, 0, 0, 0, 0, 0, 0, 0, 0, 0, 0, 0, 0, 0, 0, 0, 0, 0,\n",
              "        0, 0, 0, 0, 0, 0, 0, 0, 0, 0, 0, 0, 0, 0, 0, 0, 0, 0, 0, 0, 0, 0,\n",
              "        0, 0, 0, 0, 0, 0, 1, 1, 1, 1, 1, 1, 1, 1, 1, 1, 1, 1, 1, 1, 1, 1,\n",
              "        1, 1, 1, 1, 1, 1, 1, 1, 1, 1, 1, 1, 1, 1, 1, 1, 1, 1, 1, 1, 1, 1,\n",
              "        1, 1, 1, 1, 1, 1, 1, 1, 1, 1, 1, 1, 2, 2, 2, 2, 2, 2, 2, 2, 2, 2,\n",
              "        2, 2, 2, 2, 2, 2, 2, 2, 2, 2, 2, 2, 2, 2, 2, 2, 2, 2, 2, 2, 2, 2,\n",
              "        2, 2, 2, 2, 2, 2, 2, 2, 2, 2, 2, 2, 2, 2, 2, 2, 2, 2]))"
            ]
          },
          "metadata": {},
          "execution_count": 5
        }
      ],
      "source": [
        "for i in range(len(unique_clsses)):\n",
        "    y[iris.species == unique_clsses[i]] = i\n",
        "y = y.astype(int)\n",
        "X, y"
      ]
    },
    {
      "cell_type": "code",
      "execution_count": 6,
      "metadata": {
        "colab": {
          "base_uri": "https://localhost:8080/"
        },
        "id": "-BJDnNg_glzR",
        "outputId": "f80fe42f-145c-46db-fbd1-a2768df01d75"
      },
      "outputs": [
        {
          "output_type": "execute_result",
          "data": {
            "text/plain": [
              "((150, 4), (150,))"
            ]
          },
          "metadata": {},
          "execution_count": 6
        }
      ],
      "source": [
        "X.shape, y.shape"
      ]
    },
    {
      "cell_type": "markdown",
      "metadata": {
        "id": "7FJBD3LMjN6v"
      },
      "source": [
        "#### Train test split"
      ]
    },
    {
      "cell_type": "code",
      "execution_count": 7,
      "metadata": {
        "colab": {
          "base_uri": "https://localhost:8080/"
        },
        "id": "15oWGzhsjN6v",
        "outputId": "b0403b8a-5e22-44a0-cb0d-77dc53a8a7de"
      },
      "outputs": [
        {
          "output_type": "execute_result",
          "data": {
            "text/plain": [
              "((120, 4), (30, 4), (120,), (30,))"
            ]
          },
          "metadata": {},
          "execution_count": 7
        }
      ],
      "source": [
        "X_train, X_test, y_train, y_test = train_test_split(X, y, test_size=0.2, random_state=42)\n",
        "X_train.shape, X_test.shape, y_train.shape, y_test.shape"
      ]
    },
    {
      "cell_type": "markdown",
      "metadata": {
        "id": "5WuqW2kCjN6w"
      },
      "source": [
        "#### Transform to pytorch"
      ]
    },
    {
      "cell_type": "code",
      "execution_count": 8,
      "metadata": {
        "id": "8nuYSEsNjN6w"
      },
      "outputs": [],
      "source": [
        "X_train = torch.tensor(X_train, dtype=torch.float32)\n",
        "X_test = torch.tensor(X_test, dtype=torch.float32)\n",
        "y_train = torch.tensor(y_train, dtype=torch.long)\n",
        "y_test = torch.tensor(y_test, dtype=torch.long)"
      ]
    },
    {
      "cell_type": "code",
      "execution_count": 8,
      "metadata": {
        "id": "LJIr0PbijEv8"
      },
      "outputs": [],
      "source": []
    },
    {
      "cell_type": "markdown",
      "metadata": {
        "id": "82RnLIiujN6w"
      },
      "source": [
        "#### Create Neural Network"
      ]
    },
    {
      "cell_type": "code",
      "execution_count": 9,
      "metadata": {
        "id": "7sLz2nUzjN6w"
      },
      "outputs": [],
      "source": [
        "class NN_Classifier(nn.Module):\n",
        "    def __init__(self):\n",
        "        super().__init__()\n",
        "\n",
        "        self.input = nn.Linear(4, 32)\n",
        "        self.fc = nn.Linear(32, 32)\n",
        "\n",
        "        # Classification or output layer\n",
        "        self.output = nn.Linear(32, 3)\n",
        "\n",
        "    # Forward pass\n",
        "    def forward(self, x):\n",
        "        # pass data through input layer\n",
        "        x = self.input(x)\n",
        "        # hidden layer\n",
        "        x = self.fc(x)\n",
        "        # apply ReLU activation\n",
        "        x = F.relu(x)\n",
        "\n",
        "        # output layer\n",
        "        x = self.output(x)\n",
        "        # x = torch.sigmoid # using cross entropy loss (so not binary)\n",
        "        return x\n",
        "\n",
        "model = NN_Classifier()"
      ]
    },
    {
      "cell_type": "markdown",
      "metadata": {
        "id": "Vq6Tsj8CjN6x"
      },
      "source": [
        "#### Visualize computation graph (before training)"
      ]
    },
    {
      "cell_type": "code",
      "execution_count": 10,
      "metadata": {
        "colab": {
          "base_uri": "https://localhost:8080/",
          "height": 660
        },
        "id": "OcN5e_eHjN6x",
        "outputId": "790277ab-d64a-4da3-91eb-2c1ec98585f7"
      },
      "outputs": [
        {
          "output_type": "execute_result",
          "data": {
            "image/svg+xml": "<?xml version=\"1.0\" encoding=\"UTF-8\" standalone=\"no\"?>\n<!DOCTYPE svg PUBLIC \"-//W3C//DTD SVG 1.1//EN\"\n \"http://www.w3.org/Graphics/SVG/1.1/DTD/svg11.dtd\">\n<!-- Generated by graphviz version 2.43.0 (0)\n -->\n<!-- Title: %3 Pages: 1 -->\n<svg width=\"479pt\" height=\"479pt\"\n viewBox=\"0.00 0.00 479.00 479.00\" xmlns=\"http://www.w3.org/2000/svg\" xmlns:xlink=\"http://www.w3.org/1999/xlink\">\n<g id=\"graph0\" class=\"graph\" transform=\"scale(1 1) rotate(0) translate(4 475)\">\n<title>%3</title>\n<polygon fill=\"white\" stroke=\"transparent\" points=\"-4,4 -4,-475 475,-475 475,4 -4,4\"/>\n<!-- 133658541557136 -->\n<g id=\"node1\" class=\"node\">\n<title>133658541557136</title>\n<polygon fill=\"#caff70\" stroke=\"black\" points=\"274,-31 203,-31 203,0 274,0 274,-31\"/>\n<text text-anchor=\"middle\" x=\"238.5\" y=\"-7\" font-family=\"monospace\" font-size=\"10.00\"> (120, 3)</text>\n</g>\n<!-- 133658546493024 -->\n<g id=\"node2\" class=\"node\">\n<title>133658546493024</title>\n<polygon fill=\"lightgrey\" stroke=\"black\" points=\"289,-86 188,-86 188,-67 289,-67 289,-86\"/>\n<text text-anchor=\"middle\" x=\"238.5\" y=\"-74\" font-family=\"monospace\" font-size=\"10.00\">AddmmBackward0</text>\n</g>\n<!-- 133658546493024&#45;&gt;133658541557136 -->\n<g id=\"edge19\" class=\"edge\">\n<title>133658546493024&#45;&gt;133658541557136</title>\n<path fill=\"none\" stroke=\"black\" d=\"M238.5,-66.79C238.5,-60.07 238.5,-50.4 238.5,-41.34\"/>\n<polygon fill=\"black\" stroke=\"black\" points=\"242,-41.19 238.5,-31.19 235,-41.19 242,-41.19\"/>\n</g>\n<!-- 133658546492640 -->\n<g id=\"node3\" class=\"node\">\n<title>133658546492640</title>\n<polygon fill=\"lightgrey\" stroke=\"black\" points=\"173,-141 72,-141 72,-122 173,-122 173,-141\"/>\n<text text-anchor=\"middle\" x=\"122.5\" y=\"-129\" font-family=\"monospace\" font-size=\"10.00\">AccumulateGrad</text>\n</g>\n<!-- 133658546492640&#45;&gt;133658546493024 -->\n<g id=\"edge1\" class=\"edge\">\n<title>133658546492640&#45;&gt;133658546493024</title>\n<path fill=\"none\" stroke=\"black\" d=\"M141.14,-121.98C159.8,-113.46 188.75,-100.23 210.24,-90.41\"/>\n<polygon fill=\"black\" stroke=\"black\" points=\"211.88,-93.51 219.52,-86.17 208.97,-87.14 211.88,-93.51\"/>\n</g>\n<!-- 133658541565776 -->\n<g id=\"node4\" class=\"node\">\n<title>133658541565776</title>\n<polygon fill=\"lightblue\" stroke=\"black\" points=\"164,-207 81,-207 81,-177 164,-177 164,-207\"/>\n<text text-anchor=\"middle\" x=\"122.5\" y=\"-195\" font-family=\"monospace\" font-size=\"10.00\">output.bias</text>\n<text text-anchor=\"middle\" x=\"122.5\" y=\"-184\" font-family=\"monospace\" font-size=\"10.00\"> (3)</text>\n</g>\n<!-- 133658541565776&#45;&gt;133658546492640 -->\n<g id=\"edge2\" class=\"edge\">\n<title>133658541565776&#45;&gt;133658546492640</title>\n<path fill=\"none\" stroke=\"black\" d=\"M122.5,-176.84C122.5,-169.21 122.5,-159.7 122.5,-151.45\"/>\n<polygon fill=\"black\" stroke=\"black\" points=\"126,-151.27 122.5,-141.27 119,-151.27 126,-151.27\"/>\n</g>\n<!-- 133658546493072 -->\n<g id=\"node5\" class=\"node\">\n<title>133658546493072</title>\n<polygon fill=\"lightgrey\" stroke=\"black\" points=\"286,-141 191,-141 191,-122 286,-122 286,-141\"/>\n<text text-anchor=\"middle\" x=\"238.5\" y=\"-129\" font-family=\"monospace\" font-size=\"10.00\">ReluBackward0</text>\n</g>\n<!-- 133658546493072&#45;&gt;133658546493024 -->\n<g id=\"edge3\" class=\"edge\">\n<title>133658546493072&#45;&gt;133658546493024</title>\n<path fill=\"none\" stroke=\"black\" d=\"M238.5,-121.75C238.5,-114.8 238.5,-104.85 238.5,-96.13\"/>\n<polygon fill=\"black\" stroke=\"black\" points=\"242,-96.09 238.5,-86.09 235,-96.09 242,-96.09\"/>\n</g>\n<!-- 133658546492928 -->\n<g id=\"node6\" class=\"node\">\n<title>133658546492928</title>\n<polygon fill=\"lightgrey\" stroke=\"black\" points=\"286,-201.5 185,-201.5 185,-182.5 286,-182.5 286,-201.5\"/>\n<text text-anchor=\"middle\" x=\"235.5\" y=\"-189.5\" font-family=\"monospace\" font-size=\"10.00\">AddmmBackward0</text>\n</g>\n<!-- 133658546492928&#45;&gt;133658546493072 -->\n<g id=\"edge4\" class=\"edge\">\n<title>133658546492928&#45;&gt;133658546493072</title>\n<path fill=\"none\" stroke=\"black\" d=\"M235.94,-182.37C236.36,-174.25 237,-161.81 237.53,-151.39\"/>\n<polygon fill=\"black\" stroke=\"black\" points=\"241.04,-151.33 238.06,-141.17 234.05,-150.97 241.04,-151.33\"/>\n</g>\n<!-- 133658546492448 -->\n<g id=\"node7\" class=\"node\">\n<title>133658546492448</title>\n<polygon fill=\"lightgrey\" stroke=\"black\" points=\"101,-267.5 0,-267.5 0,-248.5 101,-248.5 101,-267.5\"/>\n<text text-anchor=\"middle\" x=\"50.5\" y=\"-255.5\" font-family=\"monospace\" font-size=\"10.00\">AccumulateGrad</text>\n</g>\n<!-- 133658546492448&#45;&gt;133658546492928 -->\n<g id=\"edge5\" class=\"edge\">\n<title>133658546492448&#45;&gt;133658546492928</title>\n<path fill=\"none\" stroke=\"black\" d=\"M75.45,-248.37C107.81,-237.17 164.44,-217.58 200.93,-204.96\"/>\n<polygon fill=\"black\" stroke=\"black\" points=\"202.34,-208.17 210.65,-201.6 200.06,-201.56 202.34,-208.17\"/>\n</g>\n<!-- 133658541567504 -->\n<g id=\"node8\" class=\"node\">\n<title>133658541567504</title>\n<polygon fill=\"lightblue\" stroke=\"black\" points=\"59,-339 0,-339 0,-309 59,-309 59,-339\"/>\n<text text-anchor=\"middle\" x=\"29.5\" y=\"-327\" font-family=\"monospace\" font-size=\"10.00\">fc.bias</text>\n<text text-anchor=\"middle\" x=\"29.5\" y=\"-316\" font-family=\"monospace\" font-size=\"10.00\"> (32)</text>\n</g>\n<!-- 133658541567504&#45;&gt;133658546492448 -->\n<g id=\"edge6\" class=\"edge\">\n<title>133658541567504&#45;&gt;133658546492448</title>\n<path fill=\"none\" stroke=\"black\" d=\"M34.16,-308.8C37.18,-299.6 41.14,-287.53 44.4,-277.58\"/>\n<polygon fill=\"black\" stroke=\"black\" points=\"47.81,-278.44 47.6,-267.84 41.15,-276.25 47.81,-278.44\"/>\n</g>\n<!-- 133658546492592 -->\n<g id=\"node9\" class=\"node\">\n<title>133658546492592</title>\n<polygon fill=\"lightgrey\" stroke=\"black\" points=\"263,-267.5 162,-267.5 162,-248.5 263,-248.5 263,-267.5\"/>\n<text text-anchor=\"middle\" x=\"212.5\" y=\"-255.5\" font-family=\"monospace\" font-size=\"10.00\">AddmmBackward0</text>\n</g>\n<!-- 133658546492592&#45;&gt;133658546492928 -->\n<g id=\"edge7\" class=\"edge\">\n<title>133658546492592&#45;&gt;133658546492928</title>\n<path fill=\"none\" stroke=\"black\" d=\"M215.6,-248.37C218.98,-238.97 224.48,-223.67 228.84,-211.53\"/>\n<polygon fill=\"black\" stroke=\"black\" points=\"232.21,-212.5 232.3,-201.91 225.62,-210.13 232.21,-212.5\"/>\n</g>\n<!-- 133658546492784 -->\n<g id=\"node10\" class=\"node\">\n<title>133658546492784</title>\n<polygon fill=\"lightgrey\" stroke=\"black\" points=\"178,-333.5 77,-333.5 77,-314.5 178,-314.5 178,-333.5\"/>\n<text text-anchor=\"middle\" x=\"127.5\" y=\"-321.5\" font-family=\"monospace\" font-size=\"10.00\">AccumulateGrad</text>\n</g>\n<!-- 133658546492784&#45;&gt;133658546492592 -->\n<g id=\"edge8\" class=\"edge\">\n<title>133658546492784&#45;&gt;133658546492592</title>\n<path fill=\"none\" stroke=\"black\" d=\"M138.96,-314.37C152.78,-303.97 176.21,-286.32 192.91,-273.75\"/>\n<polygon fill=\"black\" stroke=\"black\" points=\"195.06,-276.51 200.95,-267.7 190.85,-270.92 195.06,-276.51\"/>\n</g>\n<!-- 133658541568080 -->\n<g id=\"node11\" class=\"node\">\n<title>133658541568080</title>\n<polygon fill=\"lightblue\" stroke=\"black\" points=\"166,-405 89,-405 89,-375 166,-375 166,-405\"/>\n<text text-anchor=\"middle\" x=\"127.5\" y=\"-393\" font-family=\"monospace\" font-size=\"10.00\">input.bias</text>\n<text text-anchor=\"middle\" x=\"127.5\" y=\"-382\" font-family=\"monospace\" font-size=\"10.00\"> (32)</text>\n</g>\n<!-- 133658541568080&#45;&gt;133658546492784 -->\n<g id=\"edge9\" class=\"edge\">\n<title>133658541568080&#45;&gt;133658546492784</title>\n<path fill=\"none\" stroke=\"black\" d=\"M127.5,-374.8C127.5,-365.7 127.5,-353.79 127.5,-343.9\"/>\n<polygon fill=\"black\" stroke=\"black\" points=\"131,-343.84 127.5,-333.84 124,-343.84 131,-343.84\"/>\n</g>\n<!-- 133658546496336 -->\n<g id=\"node12\" class=\"node\">\n<title>133658546496336</title>\n<polygon fill=\"lightgrey\" stroke=\"black\" points=\"273,-333.5 196,-333.5 196,-314.5 273,-314.5 273,-333.5\"/>\n<text text-anchor=\"middle\" x=\"234.5\" y=\"-321.5\" font-family=\"monospace\" font-size=\"10.00\">TBackward0</text>\n</g>\n<!-- 133658546496336&#45;&gt;133658546492592 -->\n<g id=\"edge10\" class=\"edge\">\n<title>133658546496336&#45;&gt;133658546492592</title>\n<path fill=\"none\" stroke=\"black\" d=\"M231.53,-314.37C228.3,-304.97 223.04,-289.67 218.87,-277.53\"/>\n<polygon fill=\"black\" stroke=\"black\" points=\"222.12,-276.22 215.56,-267.91 215.5,-278.5 222.12,-276.22\"/>\n</g>\n<!-- 133658546494608 -->\n<g id=\"node13\" class=\"node\">\n<title>133658546494608</title>\n<polygon fill=\"lightgrey\" stroke=\"black\" points=\"285,-399.5 184,-399.5 184,-380.5 285,-380.5 285,-399.5\"/>\n<text text-anchor=\"middle\" x=\"234.5\" y=\"-387.5\" font-family=\"monospace\" font-size=\"10.00\">AccumulateGrad</text>\n</g>\n<!-- 133658546494608&#45;&gt;133658546496336 -->\n<g id=\"edge11\" class=\"edge\">\n<title>133658546494608&#45;&gt;133658546496336</title>\n<path fill=\"none\" stroke=\"black\" d=\"M234.5,-380.37C234.5,-371.16 234.5,-356.29 234.5,-344.27\"/>\n<polygon fill=\"black\" stroke=\"black\" points=\"238,-343.91 234.5,-333.91 231,-343.91 238,-343.91\"/>\n</g>\n<!-- 133662261594928 -->\n<g id=\"node14\" class=\"node\">\n<title>133662261594928</title>\n<polygon fill=\"lightblue\" stroke=\"black\" points=\"279,-471 190,-471 190,-441 279,-441 279,-471\"/>\n<text text-anchor=\"middle\" x=\"234.5\" y=\"-459\" font-family=\"monospace\" font-size=\"10.00\">input.weight</text>\n<text text-anchor=\"middle\" x=\"234.5\" y=\"-448\" font-family=\"monospace\" font-size=\"10.00\"> (32, 4)</text>\n</g>\n<!-- 133662261594928&#45;&gt;133658546494608 -->\n<g id=\"edge12\" class=\"edge\">\n<title>133662261594928&#45;&gt;133658546494608</title>\n<path fill=\"none\" stroke=\"black\" d=\"M234.5,-440.8C234.5,-431.7 234.5,-419.79 234.5,-409.9\"/>\n<polygon fill=\"black\" stroke=\"black\" points=\"238,-409.84 234.5,-399.84 231,-409.84 238,-409.84\"/>\n</g>\n<!-- 133658546492400 -->\n<g id=\"node15\" class=\"node\">\n<title>133658546492400</title>\n<polygon fill=\"lightgrey\" stroke=\"black\" points=\"358,-267.5 281,-267.5 281,-248.5 358,-248.5 358,-267.5\"/>\n<text text-anchor=\"middle\" x=\"319.5\" y=\"-255.5\" font-family=\"monospace\" font-size=\"10.00\">TBackward0</text>\n</g>\n<!-- 133658546492400&#45;&gt;133658546492928 -->\n<g id=\"edge13\" class=\"edge\">\n<title>133658546492400&#45;&gt;133658546492928</title>\n<path fill=\"none\" stroke=\"black\" d=\"M308.17,-248.37C294.64,-238.06 271.78,-220.65 255.31,-208.09\"/>\n<polygon fill=\"black\" stroke=\"black\" points=\"256.99,-204.98 246.92,-201.7 252.75,-210.54 256.99,-204.98\"/>\n</g>\n<!-- 133658546493120 -->\n<g id=\"node16\" class=\"node\">\n<title>133658546493120</title>\n<polygon fill=\"lightgrey\" stroke=\"black\" points=\"392,-333.5 291,-333.5 291,-314.5 392,-314.5 392,-333.5\"/>\n<text text-anchor=\"middle\" x=\"341.5\" y=\"-321.5\" font-family=\"monospace\" font-size=\"10.00\">AccumulateGrad</text>\n</g>\n<!-- 133658546493120&#45;&gt;133658546492400 -->\n<g id=\"edge14\" class=\"edge\">\n<title>133658546493120&#45;&gt;133658546492400</title>\n<path fill=\"none\" stroke=\"black\" d=\"M338.53,-314.37C335.3,-304.97 330.04,-289.67 325.87,-277.53\"/>\n<polygon fill=\"black\" stroke=\"black\" points=\"329.12,-276.22 322.56,-267.91 322.5,-278.5 329.12,-276.22\"/>\n</g>\n<!-- 133658541566928 -->\n<g id=\"node17\" class=\"node\">\n<title>133658541566928</title>\n<polygon fill=\"lightblue\" stroke=\"black\" points=\"377,-405 306,-405 306,-375 377,-375 377,-405\"/>\n<text text-anchor=\"middle\" x=\"341.5\" y=\"-393\" font-family=\"monospace\" font-size=\"10.00\">fc.weight</text>\n<text text-anchor=\"middle\" x=\"341.5\" y=\"-382\" font-family=\"monospace\" font-size=\"10.00\"> (32, 32)</text>\n</g>\n<!-- 133658541566928&#45;&gt;133658546493120 -->\n<g id=\"edge15\" class=\"edge\">\n<title>133658541566928&#45;&gt;133658546493120</title>\n<path fill=\"none\" stroke=\"black\" d=\"M341.5,-374.8C341.5,-365.7 341.5,-353.79 341.5,-343.9\"/>\n<polygon fill=\"black\" stroke=\"black\" points=\"345,-343.84 341.5,-333.84 338,-343.84 345,-343.84\"/>\n</g>\n<!-- 133658546502864 -->\n<g id=\"node18\" class=\"node\">\n<title>133658546502864</title>\n<polygon fill=\"lightgrey\" stroke=\"black\" points=\"410,-141 333,-141 333,-122 410,-122 410,-141\"/>\n<text text-anchor=\"middle\" x=\"371.5\" y=\"-129\" font-family=\"monospace\" font-size=\"10.00\">TBackward0</text>\n</g>\n<!-- 133658546502864&#45;&gt;133658546493024 -->\n<g id=\"edge16\" class=\"edge\">\n<title>133658546502864&#45;&gt;133658546493024</title>\n<path fill=\"none\" stroke=\"black\" d=\"M350.13,-121.98C328.35,-113.3 294.34,-99.75 269.58,-89.88\"/>\n<polygon fill=\"black\" stroke=\"black\" points=\"270.84,-86.62 260.26,-86.17 268.25,-93.12 270.84,-86.62\"/>\n</g>\n<!-- 133658546496288 -->\n<g id=\"node19\" class=\"node\">\n<title>133658546496288</title>\n<polygon fill=\"lightgrey\" stroke=\"black\" points=\"451,-201.5 350,-201.5 350,-182.5 451,-182.5 451,-201.5\"/>\n<text text-anchor=\"middle\" x=\"400.5\" y=\"-189.5\" font-family=\"monospace\" font-size=\"10.00\">AccumulateGrad</text>\n</g>\n<!-- 133658546496288&#45;&gt;133658546502864 -->\n<g id=\"edge17\" class=\"edge\">\n<title>133658546496288&#45;&gt;133658546502864</title>\n<path fill=\"none\" stroke=\"black\" d=\"M396.22,-182.37C392.07,-173.99 385.63,-161.01 380.37,-150.39\"/>\n<polygon fill=\"black\" stroke=\"black\" points=\"383.37,-148.57 375.8,-141.17 377.1,-151.68 383.37,-148.57\"/>\n</g>\n<!-- 133658541566832 -->\n<g id=\"node20\" class=\"node\">\n<title>133658541566832</title>\n<polygon fill=\"lightblue\" stroke=\"black\" points=\"471,-273 376,-273 376,-243 471,-243 471,-273\"/>\n<text text-anchor=\"middle\" x=\"423.5\" y=\"-261\" font-family=\"monospace\" font-size=\"10.00\">output.weight</text>\n<text text-anchor=\"middle\" x=\"423.5\" y=\"-250\" font-family=\"monospace\" font-size=\"10.00\"> (3, 32)</text>\n</g>\n<!-- 133658541566832&#45;&gt;133658546496288 -->\n<g id=\"edge18\" class=\"edge\">\n<title>133658541566832&#45;&gt;133658546496288</title>\n<path fill=\"none\" stroke=\"black\" d=\"M418.4,-242.8C415.06,-233.5 410.66,-221.27 407.06,-211.26\"/>\n<polygon fill=\"black\" stroke=\"black\" points=\"410.35,-210.07 403.68,-201.84 403.77,-212.44 410.35,-210.07\"/>\n</g>\n</g>\n</svg>\n",
            "text/plain": [
              "<graphviz.graphs.Digraph at 0x798fcdff3690>"
            ]
          },
          "metadata": {},
          "execution_count": 10
        }
      ],
      "source": [
        "ypred = model(X_train)\n",
        "make_dot(ypred, params=dict(model.named_parameters()))"
      ]
    },
    {
      "cell_type": "code",
      "execution_count": 11,
      "metadata": {
        "id": "hoKZeQyLjN6x"
      },
      "outputs": [],
      "source": [
        "learningRate = 0.01\n",
        "lossfunc = nn.CrossEntropyLoss()\n",
        "optimizer = torch.optim.SGD(model.parameters(), lr=learningRate,)"
      ]
    },
    {
      "cell_type": "code",
      "execution_count": 12,
      "metadata": {
        "colab": {
          "base_uri": "https://localhost:8080/"
        },
        "id": "0TYaJVqfjN6x",
        "outputId": "e042d1b8-cee6-4bd9-f8e8-05c98b17286b"
      },
      "outputs": [
        {
          "output_type": "stream",
          "name": "stdout",
          "text": [
            "Epoch: 0; Loss: 1.1932\n",
            "Epoch: 100; Loss: 0.7128\n",
            "Epoch: 200; Loss: 0.4844\n",
            "Epoch: 300; Loss: 0.3792\n",
            "Epoch: 400; Loss: 0.2975\n",
            "Epoch: 500; Loss: 0.2310\n",
            "Epoch: 600; Loss: 0.1830\n",
            "Epoch: 700; Loss: 0.1510\n",
            "Epoch: 800; Loss: 0.1298\n",
            "Epoch: 900; Loss: 0.1153\n",
            "Epoch: 1000; Loss: 0.1050\n",
            "Epoch: 1100; Loss: 0.0974\n",
            "Epoch: 1200; Loss: 0.0917\n",
            "Epoch: 1300; Loss: 0.0873\n",
            "Epoch: 1400; Loss: 0.0839\n",
            "Epoch: 1500; Loss: 0.0811\n",
            "Epoch: 1600; Loss: 0.0787\n",
            "Epoch: 1700; Loss: 0.0768\n",
            "Epoch: 1800; Loss: 0.0752\n",
            "Epoch: 1900; Loss: 0.0738\n",
            "Epoch: 2000; Loss: 0.0725\n",
            "Epoch: 2100; Loss: 0.0715\n",
            "Epoch: 2200; Loss: 0.0705\n",
            "Epoch: 2300; Loss: 0.0697\n",
            "Epoch: 2400; Loss: 0.0690\n",
            "Epoch: 2500; Loss: 0.0683\n",
            "Epoch: 2600; Loss: 0.0677\n",
            "Epoch: 2700; Loss: 0.0671\n",
            "Epoch: 2800; Loss: 0.0666\n",
            "Epoch: 2900; Loss: 0.0662\n",
            "Epoch: 3000; Loss: 0.0658\n",
            "Epoch: 3100; Loss: 0.0654\n",
            "Epoch: 3200; Loss: 0.0650\n",
            "Epoch: 3300; Loss: 0.0646\n",
            "Epoch: 3400; Loss: 0.0643\n",
            "Epoch: 3500; Loss: 0.0640\n"
          ]
        }
      ],
      "source": [
        "epochs = 3501\n",
        "losses = torch.zeros(epochs)\n",
        "\n",
        "for epoch in range(epochs):\n",
        "    # Forward propagation\n",
        "    ypred = model(X_train)\n",
        "    loss = lossfunc(ypred, y_train)\n",
        "    # Record the loss\n",
        "    losses[epoch] = loss.detach()\n",
        "\n",
        "    # Backward propagation\n",
        "    optimizer.zero_grad()\n",
        "    loss.backward()\n",
        "    optimizer.step()\n",
        "\n",
        "\n",
        "    if epoch % 100 == 0:\n",
        "        print(f'Epoch: {epoch}; Loss: {loss.item():.4f}')\n",
        "    accuracy = 100*torch.mean((torch.argmax(ypred, axis=1) == y_train).float())"
      ]
    },
    {
      "cell_type": "code",
      "execution_count": 13,
      "metadata": {
        "colab": {
          "base_uri": "https://localhost:8080/",
          "height": 660
        },
        "id": "OZqOtYqijN6y",
        "outputId": "0017797a-a768-4842-f892-f5f165cc3d9f"
      },
      "outputs": [
        {
          "output_type": "execute_result",
          "data": {
            "image/svg+xml": "<?xml version=\"1.0\" encoding=\"UTF-8\" standalone=\"no\"?>\n<!DOCTYPE svg PUBLIC \"-//W3C//DTD SVG 1.1//EN\"\n \"http://www.w3.org/Graphics/SVG/1.1/DTD/svg11.dtd\">\n<!-- Generated by graphviz version 2.43.0 (0)\n -->\n<!-- Title: %3 Pages: 1 -->\n<svg width=\"479pt\" height=\"479pt\"\n viewBox=\"0.00 0.00 479.00 479.00\" xmlns=\"http://www.w3.org/2000/svg\" xmlns:xlink=\"http://www.w3.org/1999/xlink\">\n<g id=\"graph0\" class=\"graph\" transform=\"scale(1 1) rotate(0) translate(4 475)\">\n<title>%3</title>\n<polygon fill=\"white\" stroke=\"transparent\" points=\"-4,4 -4,-475 475,-475 475,4 -4,4\"/>\n<!-- 133658379827056 -->\n<g id=\"node1\" class=\"node\">\n<title>133658379827056</title>\n<polygon fill=\"#caff70\" stroke=\"black\" points=\"274,-31 203,-31 203,0 274,0 274,-31\"/>\n<text text-anchor=\"middle\" x=\"238.5\" y=\"-7\" font-family=\"monospace\" font-size=\"10.00\"> (120, 3)</text>\n</g>\n<!-- 133658546491008 -->\n<g id=\"node2\" class=\"node\">\n<title>133658546491008</title>\n<polygon fill=\"lightgrey\" stroke=\"black\" points=\"289,-86 188,-86 188,-67 289,-67 289,-86\"/>\n<text text-anchor=\"middle\" x=\"238.5\" y=\"-74\" font-family=\"monospace\" font-size=\"10.00\">AddmmBackward0</text>\n</g>\n<!-- 133658546491008&#45;&gt;133658379827056 -->\n<g id=\"edge19\" class=\"edge\">\n<title>133658546491008&#45;&gt;133658379827056</title>\n<path fill=\"none\" stroke=\"black\" d=\"M238.5,-66.79C238.5,-60.07 238.5,-50.4 238.5,-41.34\"/>\n<polygon fill=\"black\" stroke=\"black\" points=\"242,-41.19 238.5,-31.19 235,-41.19 242,-41.19\"/>\n</g>\n<!-- 133658546500896 -->\n<g id=\"node3\" class=\"node\">\n<title>133658546500896</title>\n<polygon fill=\"lightgrey\" stroke=\"black\" points=\"173,-141 72,-141 72,-122 173,-122 173,-141\"/>\n<text text-anchor=\"middle\" x=\"122.5\" y=\"-129\" font-family=\"monospace\" font-size=\"10.00\">AccumulateGrad</text>\n</g>\n<!-- 133658546500896&#45;&gt;133658546491008 -->\n<g id=\"edge1\" class=\"edge\">\n<title>133658546500896&#45;&gt;133658546491008</title>\n<path fill=\"none\" stroke=\"black\" d=\"M141.14,-121.98C159.8,-113.46 188.75,-100.23 210.24,-90.41\"/>\n<polygon fill=\"black\" stroke=\"black\" points=\"211.88,-93.51 219.52,-86.17 208.97,-87.14 211.88,-93.51\"/>\n</g>\n<!-- 133658541565776 -->\n<g id=\"node4\" class=\"node\">\n<title>133658541565776</title>\n<polygon fill=\"lightblue\" stroke=\"black\" points=\"164,-207 81,-207 81,-177 164,-177 164,-207\"/>\n<text text-anchor=\"middle\" x=\"122.5\" y=\"-195\" font-family=\"monospace\" font-size=\"10.00\">output.bias</text>\n<text text-anchor=\"middle\" x=\"122.5\" y=\"-184\" font-family=\"monospace\" font-size=\"10.00\"> (3)</text>\n</g>\n<!-- 133658541565776&#45;&gt;133658546500896 -->\n<g id=\"edge2\" class=\"edge\">\n<title>133658541565776&#45;&gt;133658546500896</title>\n<path fill=\"none\" stroke=\"black\" d=\"M122.5,-176.84C122.5,-169.21 122.5,-159.7 122.5,-151.45\"/>\n<polygon fill=\"black\" stroke=\"black\" points=\"126,-151.27 122.5,-141.27 119,-151.27 126,-151.27\"/>\n</g>\n<!-- 133658381783136 -->\n<g id=\"node5\" class=\"node\">\n<title>133658381783136</title>\n<polygon fill=\"lightgrey\" stroke=\"black\" points=\"286,-141 191,-141 191,-122 286,-122 286,-141\"/>\n<text text-anchor=\"middle\" x=\"238.5\" y=\"-129\" font-family=\"monospace\" font-size=\"10.00\">ReluBackward0</text>\n</g>\n<!-- 133658381783136&#45;&gt;133658546491008 -->\n<g id=\"edge3\" class=\"edge\">\n<title>133658381783136&#45;&gt;133658546491008</title>\n<path fill=\"none\" stroke=\"black\" d=\"M238.5,-121.75C238.5,-114.8 238.5,-104.85 238.5,-96.13\"/>\n<polygon fill=\"black\" stroke=\"black\" points=\"242,-96.09 238.5,-86.09 235,-96.09 242,-96.09\"/>\n</g>\n<!-- 133658381782848 -->\n<g id=\"node6\" class=\"node\">\n<title>133658381782848</title>\n<polygon fill=\"lightgrey\" stroke=\"black\" points=\"286,-201.5 185,-201.5 185,-182.5 286,-182.5 286,-201.5\"/>\n<text text-anchor=\"middle\" x=\"235.5\" y=\"-189.5\" font-family=\"monospace\" font-size=\"10.00\">AddmmBackward0</text>\n</g>\n<!-- 133658381782848&#45;&gt;133658381783136 -->\n<g id=\"edge4\" class=\"edge\">\n<title>133658381782848&#45;&gt;133658381783136</title>\n<path fill=\"none\" stroke=\"black\" d=\"M235.94,-182.37C236.36,-174.25 237,-161.81 237.53,-151.39\"/>\n<polygon fill=\"black\" stroke=\"black\" points=\"241.04,-151.33 238.06,-141.17 234.05,-150.97 241.04,-151.33\"/>\n</g>\n<!-- 133658381782704 -->\n<g id=\"node7\" class=\"node\">\n<title>133658381782704</title>\n<polygon fill=\"lightgrey\" stroke=\"black\" points=\"101,-267.5 0,-267.5 0,-248.5 101,-248.5 101,-267.5\"/>\n<text text-anchor=\"middle\" x=\"50.5\" y=\"-255.5\" font-family=\"monospace\" font-size=\"10.00\">AccumulateGrad</text>\n</g>\n<!-- 133658381782704&#45;&gt;133658381782848 -->\n<g id=\"edge5\" class=\"edge\">\n<title>133658381782704&#45;&gt;133658381782848</title>\n<path fill=\"none\" stroke=\"black\" d=\"M75.45,-248.37C107.81,-237.17 164.44,-217.58 200.93,-204.96\"/>\n<polygon fill=\"black\" stroke=\"black\" points=\"202.34,-208.17 210.65,-201.6 200.06,-201.56 202.34,-208.17\"/>\n</g>\n<!-- 133658541567504 -->\n<g id=\"node8\" class=\"node\">\n<title>133658541567504</title>\n<polygon fill=\"lightblue\" stroke=\"black\" points=\"59,-339 0,-339 0,-309 59,-309 59,-339\"/>\n<text text-anchor=\"middle\" x=\"29.5\" y=\"-327\" font-family=\"monospace\" font-size=\"10.00\">fc.bias</text>\n<text text-anchor=\"middle\" x=\"29.5\" y=\"-316\" font-family=\"monospace\" font-size=\"10.00\"> (32)</text>\n</g>\n<!-- 133658541567504&#45;&gt;133658381782704 -->\n<g id=\"edge6\" class=\"edge\">\n<title>133658541567504&#45;&gt;133658381782704</title>\n<path fill=\"none\" stroke=\"black\" d=\"M34.16,-308.8C37.18,-299.6 41.14,-287.53 44.4,-277.58\"/>\n<polygon fill=\"black\" stroke=\"black\" points=\"47.81,-278.44 47.6,-267.84 41.15,-276.25 47.81,-278.44\"/>\n</g>\n<!-- 133658381782752 -->\n<g id=\"node9\" class=\"node\">\n<title>133658381782752</title>\n<polygon fill=\"lightgrey\" stroke=\"black\" points=\"263,-267.5 162,-267.5 162,-248.5 263,-248.5 263,-267.5\"/>\n<text text-anchor=\"middle\" x=\"212.5\" y=\"-255.5\" font-family=\"monospace\" font-size=\"10.00\">AddmmBackward0</text>\n</g>\n<!-- 133658381782752&#45;&gt;133658381782848 -->\n<g id=\"edge7\" class=\"edge\">\n<title>133658381782752&#45;&gt;133658381782848</title>\n<path fill=\"none\" stroke=\"black\" d=\"M215.6,-248.37C218.98,-238.97 224.48,-223.67 228.84,-211.53\"/>\n<polygon fill=\"black\" stroke=\"black\" points=\"232.21,-212.5 232.3,-201.91 225.62,-210.13 232.21,-212.5\"/>\n</g>\n<!-- 133658381782608 -->\n<g id=\"node10\" class=\"node\">\n<title>133658381782608</title>\n<polygon fill=\"lightgrey\" stroke=\"black\" points=\"178,-333.5 77,-333.5 77,-314.5 178,-314.5 178,-333.5\"/>\n<text text-anchor=\"middle\" x=\"127.5\" y=\"-321.5\" font-family=\"monospace\" font-size=\"10.00\">AccumulateGrad</text>\n</g>\n<!-- 133658381782608&#45;&gt;133658381782752 -->\n<g id=\"edge8\" class=\"edge\">\n<title>133658381782608&#45;&gt;133658381782752</title>\n<path fill=\"none\" stroke=\"black\" d=\"M138.96,-314.37C152.78,-303.97 176.21,-286.32 192.91,-273.75\"/>\n<polygon fill=\"black\" stroke=\"black\" points=\"195.06,-276.51 200.95,-267.7 190.85,-270.92 195.06,-276.51\"/>\n</g>\n<!-- 133658541568080 -->\n<g id=\"node11\" class=\"node\">\n<title>133658541568080</title>\n<polygon fill=\"lightblue\" stroke=\"black\" points=\"166,-405 89,-405 89,-375 166,-375 166,-405\"/>\n<text text-anchor=\"middle\" x=\"127.5\" y=\"-393\" font-family=\"monospace\" font-size=\"10.00\">input.bias</text>\n<text text-anchor=\"middle\" x=\"127.5\" y=\"-382\" font-family=\"monospace\" font-size=\"10.00\"> (32)</text>\n</g>\n<!-- 133658541568080&#45;&gt;133658381782608 -->\n<g id=\"edge9\" class=\"edge\">\n<title>133658541568080&#45;&gt;133658381782608</title>\n<path fill=\"none\" stroke=\"black\" d=\"M127.5,-374.8C127.5,-365.7 127.5,-353.79 127.5,-343.9\"/>\n<polygon fill=\"black\" stroke=\"black\" points=\"131,-343.84 127.5,-333.84 124,-343.84 131,-343.84\"/>\n</g>\n<!-- 133658381782560 -->\n<g id=\"node12\" class=\"node\">\n<title>133658381782560</title>\n<polygon fill=\"lightgrey\" stroke=\"black\" points=\"273,-333.5 196,-333.5 196,-314.5 273,-314.5 273,-333.5\"/>\n<text text-anchor=\"middle\" x=\"234.5\" y=\"-321.5\" font-family=\"monospace\" font-size=\"10.00\">TBackward0</text>\n</g>\n<!-- 133658381782560&#45;&gt;133658381782752 -->\n<g id=\"edge10\" class=\"edge\">\n<title>133658381782560&#45;&gt;133658381782752</title>\n<path fill=\"none\" stroke=\"black\" d=\"M231.53,-314.37C228.3,-304.97 223.04,-289.67 218.87,-277.53\"/>\n<polygon fill=\"black\" stroke=\"black\" points=\"222.12,-276.22 215.56,-267.91 215.5,-278.5 222.12,-276.22\"/>\n</g>\n<!-- 133658381788464 -->\n<g id=\"node13\" class=\"node\">\n<title>133658381788464</title>\n<polygon fill=\"lightgrey\" stroke=\"black\" points=\"285,-399.5 184,-399.5 184,-380.5 285,-380.5 285,-399.5\"/>\n<text text-anchor=\"middle\" x=\"234.5\" y=\"-387.5\" font-family=\"monospace\" font-size=\"10.00\">AccumulateGrad</text>\n</g>\n<!-- 133658381788464&#45;&gt;133658381782560 -->\n<g id=\"edge11\" class=\"edge\">\n<title>133658381788464&#45;&gt;133658381782560</title>\n<path fill=\"none\" stroke=\"black\" d=\"M234.5,-380.37C234.5,-371.16 234.5,-356.29 234.5,-344.27\"/>\n<polygon fill=\"black\" stroke=\"black\" points=\"238,-343.91 234.5,-333.91 231,-343.91 238,-343.91\"/>\n</g>\n<!-- 133662261594928 -->\n<g id=\"node14\" class=\"node\">\n<title>133662261594928</title>\n<polygon fill=\"lightblue\" stroke=\"black\" points=\"279,-471 190,-471 190,-441 279,-441 279,-471\"/>\n<text text-anchor=\"middle\" x=\"234.5\" y=\"-459\" font-family=\"monospace\" font-size=\"10.00\">input.weight</text>\n<text text-anchor=\"middle\" x=\"234.5\" y=\"-448\" font-family=\"monospace\" font-size=\"10.00\"> (32, 4)</text>\n</g>\n<!-- 133662261594928&#45;&gt;133658381788464 -->\n<g id=\"edge12\" class=\"edge\">\n<title>133662261594928&#45;&gt;133658381788464</title>\n<path fill=\"none\" stroke=\"black\" d=\"M234.5,-440.8C234.5,-431.7 234.5,-419.79 234.5,-409.9\"/>\n<polygon fill=\"black\" stroke=\"black\" points=\"238,-409.84 234.5,-399.84 231,-409.84 238,-409.84\"/>\n</g>\n<!-- 133658381782800 -->\n<g id=\"node15\" class=\"node\">\n<title>133658381782800</title>\n<polygon fill=\"lightgrey\" stroke=\"black\" points=\"358,-267.5 281,-267.5 281,-248.5 358,-248.5 358,-267.5\"/>\n<text text-anchor=\"middle\" x=\"319.5\" y=\"-255.5\" font-family=\"monospace\" font-size=\"10.00\">TBackward0</text>\n</g>\n<!-- 133658381782800&#45;&gt;133658381782848 -->\n<g id=\"edge13\" class=\"edge\">\n<title>133658381782800&#45;&gt;133658381782848</title>\n<path fill=\"none\" stroke=\"black\" d=\"M308.17,-248.37C294.64,-238.06 271.78,-220.65 255.31,-208.09\"/>\n<polygon fill=\"black\" stroke=\"black\" points=\"256.99,-204.98 246.92,-201.7 252.75,-210.54 256.99,-204.98\"/>\n</g>\n<!-- 133658381787888 -->\n<g id=\"node16\" class=\"node\">\n<title>133658381787888</title>\n<polygon fill=\"lightgrey\" stroke=\"black\" points=\"392,-333.5 291,-333.5 291,-314.5 392,-314.5 392,-333.5\"/>\n<text text-anchor=\"middle\" x=\"341.5\" y=\"-321.5\" font-family=\"monospace\" font-size=\"10.00\">AccumulateGrad</text>\n</g>\n<!-- 133658381787888&#45;&gt;133658381782800 -->\n<g id=\"edge14\" class=\"edge\">\n<title>133658381787888&#45;&gt;133658381782800</title>\n<path fill=\"none\" stroke=\"black\" d=\"M338.53,-314.37C335.3,-304.97 330.04,-289.67 325.87,-277.53\"/>\n<polygon fill=\"black\" stroke=\"black\" points=\"329.12,-276.22 322.56,-267.91 322.5,-278.5 329.12,-276.22\"/>\n</g>\n<!-- 133658541566928 -->\n<g id=\"node17\" class=\"node\">\n<title>133658541566928</title>\n<polygon fill=\"lightblue\" stroke=\"black\" points=\"377,-405 306,-405 306,-375 377,-375 377,-405\"/>\n<text text-anchor=\"middle\" x=\"341.5\" y=\"-393\" font-family=\"monospace\" font-size=\"10.00\">fc.weight</text>\n<text text-anchor=\"middle\" x=\"341.5\" y=\"-382\" font-family=\"monospace\" font-size=\"10.00\"> (32, 32)</text>\n</g>\n<!-- 133658541566928&#45;&gt;133658381787888 -->\n<g id=\"edge15\" class=\"edge\">\n<title>133658541566928&#45;&gt;133658381787888</title>\n<path fill=\"none\" stroke=\"black\" d=\"M341.5,-374.8C341.5,-365.7 341.5,-353.79 341.5,-343.9\"/>\n<polygon fill=\"black\" stroke=\"black\" points=\"345,-343.84 341.5,-333.84 338,-343.84 345,-343.84\"/>\n</g>\n<!-- 133658381782992 -->\n<g id=\"node18\" class=\"node\">\n<title>133658381782992</title>\n<polygon fill=\"lightgrey\" stroke=\"black\" points=\"410,-141 333,-141 333,-122 410,-122 410,-141\"/>\n<text text-anchor=\"middle\" x=\"371.5\" y=\"-129\" font-family=\"monospace\" font-size=\"10.00\">TBackward0</text>\n</g>\n<!-- 133658381782992&#45;&gt;133658546491008 -->\n<g id=\"edge16\" class=\"edge\">\n<title>133658381782992&#45;&gt;133658546491008</title>\n<path fill=\"none\" stroke=\"black\" d=\"M350.13,-121.98C328.35,-113.3 294.34,-99.75 269.58,-89.88\"/>\n<polygon fill=\"black\" stroke=\"black\" points=\"270.84,-86.62 260.26,-86.17 268.25,-93.12 270.84,-86.62\"/>\n</g>\n<!-- 133658381788512 -->\n<g id=\"node19\" class=\"node\">\n<title>133658381788512</title>\n<polygon fill=\"lightgrey\" stroke=\"black\" points=\"451,-201.5 350,-201.5 350,-182.5 451,-182.5 451,-201.5\"/>\n<text text-anchor=\"middle\" x=\"400.5\" y=\"-189.5\" font-family=\"monospace\" font-size=\"10.00\">AccumulateGrad</text>\n</g>\n<!-- 133658381788512&#45;&gt;133658381782992 -->\n<g id=\"edge17\" class=\"edge\">\n<title>133658381788512&#45;&gt;133658381782992</title>\n<path fill=\"none\" stroke=\"black\" d=\"M396.22,-182.37C392.07,-173.99 385.63,-161.01 380.37,-150.39\"/>\n<polygon fill=\"black\" stroke=\"black\" points=\"383.37,-148.57 375.8,-141.17 377.1,-151.68 383.37,-148.57\"/>\n</g>\n<!-- 133658541566832 -->\n<g id=\"node20\" class=\"node\">\n<title>133658541566832</title>\n<polygon fill=\"lightblue\" stroke=\"black\" points=\"471,-273 376,-273 376,-243 471,-243 471,-273\"/>\n<text text-anchor=\"middle\" x=\"423.5\" y=\"-261\" font-family=\"monospace\" font-size=\"10.00\">output.weight</text>\n<text text-anchor=\"middle\" x=\"423.5\" y=\"-250\" font-family=\"monospace\" font-size=\"10.00\"> (3, 32)</text>\n</g>\n<!-- 133658541566832&#45;&gt;133658381788512 -->\n<g id=\"edge18\" class=\"edge\">\n<title>133658541566832&#45;&gt;133658381788512</title>\n<path fill=\"none\" stroke=\"black\" d=\"M418.4,-242.8C415.06,-233.5 410.66,-221.27 407.06,-211.26\"/>\n<polygon fill=\"black\" stroke=\"black\" points=\"410.35,-210.07 403.68,-201.84 403.77,-212.44 410.35,-210.07\"/>\n</g>\n</g>\n</svg>\n",
            "text/plain": [
              "<graphviz.graphs.Digraph at 0x798fc4429690>"
            ]
          },
          "metadata": {},
          "execution_count": 13
        }
      ],
      "source": [
        "# Visualize computation graph (after training)\n",
        "make_dot(ypred, params=dict(model.named_parameters()))"
      ]
    },
    {
      "cell_type": "markdown",
      "metadata": {
        "id": "TzRwzvwRjN6y"
      },
      "source": [
        "#### Loss vs Epoch"
      ]
    },
    {
      "cell_type": "code",
      "execution_count": 14,
      "metadata": {
        "colab": {
          "base_uri": "https://localhost:8080/",
          "height": 570
        },
        "id": "zMkSLXF9jN6y",
        "outputId": "372330c1-e830-4a89-8f01-4c0a4f3277ec"
      },
      "outputs": [
        {
          "output_type": "display_data",
          "data": {
            "text/plain": [
              "<Figure size 1200x600 with 1 Axes>"
            ],
            "image/png": "[encoded data removed]"
          },
          "metadata": {}
        }
      ],
      "source": [
        "plt.figure(figsize=(12, 6))\n",
        "plt.plot(np.arange(epochs), losses.detach(), 'm', lw=3)\n",
        "plt.xlabel('Epochs', fontsize=15)\n",
        "plt.ylabel('Loss', fontsize=15)\n",
        "plt.title('Loss vs. Epochs')\n",
        "plt.show()"
      ]
    },
    {
      "cell_type": "markdown",
      "metadata": {
        "id": "KCwFI2sqjN6y"
      },
      "source": [
        "#### Weights and Bias of training model"
      ]
    },
    {
      "cell_type": "code",
      "execution_count": 15,
      "metadata": {
        "colab": {
          "base_uri": "https://localhost:8080/"
        },
        "id": "6kCMKRhwjN6y",
        "outputId": "d0ace800-5f95-4dbe-f4ef-b5150def884e"
      },
      "outputs": [
        {
          "output_type": "stream",
          "name": "stdout",
          "text": [
            "Trained Weight: [[ 0.32897624  0.20473228  0.5337185  -0.15199588]\n",
            " [-0.4850984  -0.0222369   0.32931426  0.08463295]\n",
            " [-0.16463657 -0.0401701  -0.085682   -0.08514252]\n",
            " [-0.11017431 -0.64289075  0.34771016 -0.04510466]\n",
            " [-0.279137    0.49788016 -0.09039389 -0.1373897 ]\n",
            " [ 0.3373241  -0.16616282 -0.62205505  0.37895912]\n",
            " [ 0.4360656  -0.5531075   0.5917971  -0.22527514]\n",
            " [ 0.54439634  0.2713609   0.20861034 -0.10873362]\n",
            " [ 0.46771052 -0.11500977  0.54431826  0.57201225]\n",
            " [-0.04148984  0.05140325  0.6671451   0.09739777]\n",
            " [-0.36190706 -0.5445331   0.63949174 -0.10999125]\n",
            " [ 0.09926819 -0.02842664  0.3073873  -0.03208433]\n",
            " [-0.27070734  0.17988807  0.03392339  0.22314745]\n",
            " [ 0.19851413  0.03043319  0.23309377 -0.35124034]\n",
            " [-0.5766859  -0.68502903  0.5264027   0.8435409 ]\n",
            " [-0.2457849   0.0985605  -0.09032495  0.41901395]\n",
            " [-0.5481618  -0.4713179   0.1387247   0.61360466]\n",
            " [ 0.13001718 -0.47312972 -0.44805858  0.10052866]\n",
            " [-0.2782397  -0.0604887  -0.08589672 -0.10551886]\n",
            " [-0.4393664   0.22562309  0.05719764 -0.2247164 ]\n",
            " [-0.33146527 -0.26775518 -0.20995107  0.19365495]\n",
            " [-0.54254574 -0.12539488 -0.02971352  0.1770031 ]\n",
            " [ 0.17381684  0.46579787  0.36709058 -0.5667762 ]\n",
            " [ 0.41093963 -0.28231046 -0.5848763  -0.65655714]\n",
            " [ 0.2842945  -0.05326071  0.04728114  0.47493562]\n",
            " [ 0.07075568 -0.04539854  0.19760092 -0.46112666]\n",
            " [ 0.4114877  -0.02715968  0.37467384  0.07736503]\n",
            " [ 0.25494608  0.03746992  0.46912026  0.3310804 ]\n",
            " [ 0.11440317 -0.33584392 -0.5180593  -0.5365667 ]\n",
            " [-0.10119855 -0.3193145   0.08967731  0.55317736]\n",
            " [ 0.0030755   0.4620579  -0.6125561   0.22604263]\n",
            " [-0.15636267 -0.5541373  -0.23044771  0.43489182]]\n",
            "Trained Bias: [-0.31881326  0.07297356 -0.02392421 -0.23719214 -0.0537699  -0.05443201\n",
            "  0.20971805 -0.26627615 -0.04923597  0.10579291 -0.35934702 -0.49022216\n",
            " -0.5071065  -0.49635884 -0.10940677 -0.40226507 -0.08331035 -0.25276542\n",
            " -0.2859758  -0.2725957   0.4468017  -0.18315764 -0.01626507  0.33418202\n",
            "  0.47371355  0.06203206 -0.07489677 -0.4417737  -0.14577377 -0.2662094\n",
            " -0.33197448 -0.39241913]\n"
          ]
        }
      ],
      "source": [
        "# We have 1 ip layer with 4 features; 1 hl; 1 op layer with 3 class\n",
        "print(f\"Trained Weight: {model.input.weight.detach().numpy()}\")\n",
        "print(f\"Trained Bias: {model.input.bias.detach().numpy()}\")"
      ]
    },
    {
      "cell_type": "markdown",
      "metadata": {
        "id": "IFfCRfv9jN6y"
      },
      "source": [
        "#### Testing and evaluating the model"
      ]
    },
    {
      "cell_type": "code",
      "execution_count": 16,
      "metadata": {
        "colab": {
          "base_uri": "https://localhost:8080/"
        },
        "id": "NMnOakvTjN6z",
        "outputId": "8aebc0e9-d201-4c57-a494-7522bd5c554a"
      },
      "outputs": [
        {
          "output_type": "execute_result",
          "data": {
            "text/plain": [
              "tensor([[ -5.1540,   4.4514,   0.1461],\n",
              "        [ 13.5688,   5.9750, -22.9007],\n",
              "        [-17.7719,   2.6699,  16.0117],\n",
              "        [ -5.2629,   4.2007,   0.5633],\n",
              "        [ -5.2015,   4.8208,  -0.2545],\n",
              "        [ 12.4214,   5.5569, -21.0804],\n",
              "        [ -0.6335,   4.7317,  -5.1407],\n",
              "        [ -9.2739,   3.7544,   5.4761],\n",
              "        [ -7.4060,   3.7749,   3.4443],\n",
              "        [ -2.0655,   4.6726,  -3.4956],\n",
              "        [ -8.3802,   3.8345,   4.4027],\n",
              "        [ 11.6107,   5.0819, -19.5274],\n",
              "        [ 13.8258,   5.7484, -22.9174],\n",
              "        [ 11.6927,   5.2065, -19.7756],\n",
              "        [ 13.3033,   5.5591, -22.0616],\n",
              "        [ -4.6908,   4.5739,  -0.5290],\n",
              "        [-13.3885,   2.8218,  11.1089],\n",
              "        [ -2.7398,   4.4349,  -2.4606],\n",
              "        [ -5.3282,   4.0699,   0.7995],\n",
              "        [-13.2154,   2.7006,  11.0631],\n",
              "        [ 11.0491,   5.1097, -18.9042],\n",
              "        [ -7.9932,   3.6722,   4.1854],\n",
              "        [ 11.4902,   5.3194, -19.6962],\n",
              "        [-12.8781,   2.8307,  10.5483],\n",
              "        [-10.1013,   4.7616,   5.1404],\n",
              "        [-10.5052,   3.3793,   7.2818],\n",
              "        [-13.0649,   3.0989,  10.4339],\n",
              "        [-13.0932,   3.0989,  10.4480],\n",
              "        [ 11.0547,   5.0218, -18.8361],\n",
              "        [ 10.9112,   5.1407, -18.7876]], grad_fn=<AddmmBackward0>)"
            ]
          },
          "metadata": {},
          "execution_count": 16
        }
      ],
      "source": [
        "y_pred = model(X_test)\n",
        "y_pred"
      ]
    },
    {
      "cell_type": "code",
      "execution_count": 19,
      "metadata": {
        "id": "REbQhan2o_UL",
        "colab": {
          "base_uri": "https://localhost:8080/"
        },
        "outputId": "6d67af72-bb07-49d7-8bfd-d06691d8fb55"
      },
      "outputs": [
        {
          "output_type": "execute_result",
          "data": {
            "text/plain": [
              "tensor(100.)"
            ]
          },
          "metadata": {},
          "execution_count": 19
        }
      ],
      "source": [
        "accuracy = 100*torch.mean((torch.argmax(y_pred, axis=1) == y_test).float())\n",
        "accuracy"
      ]
    },
    {
      "cell_type": "code",
      "source": [],
      "metadata": {
        "id": "TOA3E8N2N9Vv"
      },
      "execution_count": null,
      "outputs": []
    }
  ],
  "metadata": {
    "colab": {
      "provenance": []
    },
    "kernelspec": {
      "display_name": "Python 3",
      "language": "python",
      "name": "python3"
    },
    "language_info": {
      "codemirror_mode": {
        "name": "ipython",
        "version": 3
      },
      "file_extension": ".py",
      "mimetype": "text/x-python",
      "name": "python",
      "nbconvert_exporter": "python",
      "pygments_lexer": "ipython3",
      "version": "3.9.21"
    }
  },
  "nbformat": 4,
  "nbformat_minor": 0
}