{
  "cells": [
    {
      "cell_type": "code",
      "execution_count": 1,
      "metadata": {
        "id": "O7BXRcdUjN6n"
      },
      "outputs": [],
      "source": [
        "!pip install torchviz==0.0.3 -q"
      ]
    },
    {
      "cell_type": "code",
      "execution_count": 2,
      "metadata": {
        "id": "7P146sp3jN6o"
      },
      "outputs": [],
      "source": [
        "import torch\n",
        "import torch.nn as nn\n",
        "import torch.nn.functional as F\n",
        "from torch.utils.data import dataloader, TensorDataset\n",
        "from sklearn.model_selection import train_test_split\n",
        "import numpy as np\n",
        "import pandas as pd\n",
        "import matplotlib.pyplot as plt\n",
        "import seaborn as sns\n",
        "from torchviz import make_dot"
      ]
    },
    {
      "cell_type": "markdown",
      "metadata": {
        "id": "2m2nZQcRjN6p"
      },
      "source": [
        "#### Load dataset"
      ]
    },
    {
      "cell_type": "code",
      "execution_count": 3,
      "metadata": {
        "colab": {
          "base_uri": "https://localhost:8080/"
        },
        "id": "9wLhqNWkjN6r",
        "outputId": "c20dd432-13b1-4a97-b8d5-62aaf9a995d6"
      },
      "outputs": [
        {
          "output_type": "execute_result",
          "data": {
            "text/plain": [
              "(   sepal_length  sepal_width  petal_length  petal_width species\n",
              " 0           5.1          3.5           1.4          0.2  setosa\n",
              " 1           4.9          3.0           1.4          0.2  setosa\n",
              " 2           4.7          3.2           1.3          0.2  setosa\n",
              " 3           4.6          3.1           1.5          0.2  setosa\n",
              " 4           5.0          3.6           1.4          0.2  setosa,\n",
              " array(['setosa', 'versicolor', 'virginica'], dtype=object),\n",
              " pandas.core.frame.DataFrame)"
            ]
          },
          "metadata": {},
          "execution_count": 3
        }
      ],
      "source": [
        "iris = sns.load_dataset('iris')\n",
        "iris.head(), iris.species.unique(), type(iris)"
      ]
    },
    {
      "cell_type": "code",
      "execution_count": 4,
      "metadata": {
        "colab": {
          "base_uri": "https://localhost:8080/"
        },
        "id": "1n50Z1I2jN6s",
        "outputId": "cb8aa476-74c2-42b7-ec5e-832e9665c450"
      },
      "outputs": [
        {
          "output_type": "execute_result",
          "data": {
            "text/plain": [
              "(array([[5.1, 3.5, 1.4, 0.2],\n",
              "        [4.9, 3. , 1.4, 0.2],\n",
              "        [4.7, 3.2, 1.3, 0.2],\n",
              "        [4.6, 3.1, 1.5, 0.2],\n",
              "        [5. , 3.6, 1.4, 0.2],\n",
              "        [5.4, 3.9, 1.7, 0.4],\n",
              "        [4.6, 3.4, 1.4, 0.3],\n",
              "        [5. , 3.4, 1.5, 0.2],\n",
              "        [4.4, 2.9, 1.4, 0.2],\n",
              "        [4.9, 3.1, 1.5, 0.1],\n",
              "        [5.4, 3.7, 1.5, 0.2],\n",
              "        [4.8, 3.4, 1.6, 0.2],\n",
              "        [4.8, 3. , 1.4, 0.1],\n",
              "        [4.3, 3. , 1.1, 0.1],\n",
              "        [5.8, 4. , 1.2, 0.2],\n",
              "        [5.7, 4.4, 1.5, 0.4],\n",
              "        [5.4, 3.9, 1.3, 0.4],\n",
              "        [5.1, 3.5, 1.4, 0.3],\n",
              "        [5.7, 3.8, 1.7, 0.3],\n",
              "        [5.1, 3.8, 1.5, 0.3],\n",
              "        [5.4, 3.4, 1.7, 0.2],\n",
              "        [5.1, 3.7, 1.5, 0.4],\n",
              "        [4.6, 3.6, 1. , 0.2],\n",
              "        [5.1, 3.3, 1.7, 0.5],\n",
              "        [4.8, 3.4, 1.9, 0.2],\n",
              "        [5. , 3. , 1.6, 0.2],\n",
              "        [5. , 3.4, 1.6, 0.4],\n",
              "        [5.2, 3.5, 1.5, 0.2],\n",
              "        [5.2, 3.4, 1.4, 0.2],\n",
              "        [4.7, 3.2, 1.6, 0.2],\n",
              "        [4.8, 3.1, 1.6, 0.2],\n",
              "        [5.4, 3.4, 1.5, 0.4],\n",
              "        [5.2, 4.1, 1.5, 0.1],\n",
              "        [5.5, 4.2, 1.4, 0.2],\n",
              "        [4.9, 3.1, 1.5, 0.2],\n",
              "        [5. , 3.2, 1.2, 0.2],\n",
              "        [5.5, 3.5, 1.3, 0.2],\n",
              "        [4.9, 3.6, 1.4, 0.1],\n",
              "        [4.4, 3. , 1.3, 0.2],\n",
              "        [5.1, 3.4, 1.5, 0.2],\n",
              "        [5. , 3.5, 1.3, 0.3],\n",
              "        [4.5, 2.3, 1.3, 0.3],\n",
              "        [4.4, 3.2, 1.3, 0.2],\n",
              "        [5. , 3.5, 1.6, 0.6],\n",
              "        [5.1, 3.8, 1.9, 0.4],\n",
              "        [4.8, 3. , 1.4, 0.3],\n",
              "        [5.1, 3.8, 1.6, 0.2],\n",
              "        [4.6, 3.2, 1.4, 0.2],\n",
              "        [5.3, 3.7, 1.5, 0.2],\n",
              "        [5. , 3.3, 1.4, 0.2],\n",
              "        [7. , 3.2, 4.7, 1.4],\n",
              "        [6.4, 3.2, 4.5, 1.5],\n",
              "        [6.9, 3.1, 4.9, 1.5],\n",
              "        [5.5, 2.3, 4. , 1.3],\n",
              "        [6.5, 2.8, 4.6, 1.5],\n",
              "        [5.7, 2.8, 4.5, 1.3],\n",
              "        [6.3, 3.3, 4.7, 1.6],\n",
              "        [4.9, 2.4, 3.3, 1. ],\n",
              "        [6.6, 2.9, 4.6, 1.3],\n",
              "        [5.2, 2.7, 3.9, 1.4],\n",
              "        [5. , 2. , 3.5, 1. ],\n",
              "        [5.9, 3. , 4.2, 1.5],\n",
              "        [6. , 2.2, 4. , 1. ],\n",
              "        [6.1, 2.9, 4.7, 1.4],\n",
              "        [5.6, 2.9, 3.6, 1.3],\n",
              "        [6.7, 3.1, 4.4, 1.4],\n",
              "        [5.6, 3. , 4.5, 1.5],\n",
              "        [5.8, 2.7, 4.1, 1. ],\n",
              "        [6.2, 2.2, 4.5, 1.5],\n",
              "        [5.6, 2.5, 3.9, 1.1],\n",
              "        [5.9, 3.2, 4.8, 1.8],\n",
              "        [6.1, 2.8, 4. , 1.3],\n",
              "        [6.3, 2.5, 4.9, 1.5],\n",
              "        [6.1, 2.8, 4.7, 1.2],\n",
              "        [6.4, 2.9, 4.3, 1.3],\n",
              "        [6.6, 3. , 4.4, 1.4],\n",
              "        [6.8, 2.8, 4.8, 1.4],\n",
              "        [6.7, 3. , 5. , 1.7],\n",
              "        [6. , 2.9, 4.5, 1.5],\n",
              "        [5.7, 2.6, 3.5, 1. ],\n",
              "        [5.5, 2.4, 3.8, 1.1],\n",
              "        [5.5, 2.4, 3.7, 1. ],\n",
              "        [5.8, 2.7, 3.9, 1.2],\n",
              "        [6. , 2.7, 5.1, 1.6],\n",
              "        [5.4, 3. , 4.5, 1.5],\n",
              "        [6. , 3.4, 4.5, 1.6],\n",
              "        [6.7, 3.1, 4.7, 1.5],\n",
              "        [6.3, 2.3, 4.4, 1.3],\n",
              "        [5.6, 3. , 4.1, 1.3],\n",
              "        [5.5, 2.5, 4. , 1.3],\n",
              "        [5.5, 2.6, 4.4, 1.2],\n",
              "        [6.1, 3. , 4.6, 1.4],\n",
              "        [5.8, 2.6, 4. , 1.2],\n",
              "        [5. , 2.3, 3.3, 1. ],\n",
              "        [5.6, 2.7, 4.2, 1.3],\n",
              "        [5.7, 3. , 4.2, 1.2],\n",
              "        [5.7, 2.9, 4.2, 1.3],\n",
              "        [6.2, 2.9, 4.3, 1.3],\n",
              "        [5.1, 2.5, 3. , 1.1],\n",
              "        [5.7, 2.8, 4.1, 1.3],\n",
              "        [6.3, 3.3, 6. , 2.5],\n",
              "        [5.8, 2.7, 5.1, 1.9],\n",
              "        [7.1, 3. , 5.9, 2.1],\n",
              "        [6.3, 2.9, 5.6, 1.8],\n",
              "        [6.5, 3. , 5.8, 2.2],\n",
              "        [7.6, 3. , 6.6, 2.1],\n",
              "        [4.9, 2.5, 4.5, 1.7],\n",
              "        [7.3, 2.9, 6.3, 1.8],\n",
              "        [6.7, 2.5, 5.8, 1.8],\n",
              "        [7.2, 3.6, 6.1, 2.5],\n",
              "        [6.5, 3.2, 5.1, 2. ],\n",
              "        [6.4, 2.7, 5.3, 1.9],\n",
              "        [6.8, 3. , 5.5, 2.1],\n",
              "        [5.7, 2.5, 5. , 2. ],\n",
              "        [5.8, 2.8, 5.1, 2.4],\n",
              "        [6.4, 3.2, 5.3, 2.3],\n",
              "        [6.5, 3. , 5.5, 1.8],\n",
              "        [7.7, 3.8, 6.7, 2.2],\n",
              "        [7.7, 2.6, 6.9, 2.3],\n",
              "        [6. , 2.2, 5. , 1.5],\n",
              "        [6.9, 3.2, 5.7, 2.3],\n",
              "        [5.6, 2.8, 4.9, 2. ],\n",
              "        [7.7, 2.8, 6.7, 2. ],\n",
              "        [6.3, 2.7, 4.9, 1.8],\n",
              "        [6.7, 3.3, 5.7, 2.1],\n",
              "        [7.2, 3.2, 6. , 1.8],\n",
              "        [6.2, 2.8, 4.8, 1.8],\n",
              "        [6.1, 3. , 4.9, 1.8],\n",
              "        [6.4, 2.8, 5.6, 2.1],\n",
              "        [7.2, 3. , 5.8, 1.6],\n",
              "        [7.4, 2.8, 6.1, 1.9],\n",
              "        [7.9, 3.8, 6.4, 2. ],\n",
              "        [6.4, 2.8, 5.6, 2.2],\n",
              "        [6.3, 2.8, 5.1, 1.5],\n",
              "        [6.1, 2.6, 5.6, 1.4],\n",
              "        [7.7, 3. , 6.1, 2.3],\n",
              "        [6.3, 3.4, 5.6, 2.4],\n",
              "        [6.4, 3.1, 5.5, 1.8],\n",
              "        [6. , 3. , 4.8, 1.8],\n",
              "        [6.9, 3.1, 5.4, 2.1],\n",
              "        [6.7, 3.1, 5.6, 2.4],\n",
              "        [6.9, 3.1, 5.1, 2.3],\n",
              "        [5.8, 2.7, 5.1, 1.9],\n",
              "        [6.8, 3.2, 5.9, 2.3],\n",
              "        [6.7, 3.3, 5.7, 2.5],\n",
              "        [6.7, 3. , 5.2, 2.3],\n",
              "        [6.3, 2.5, 5. , 1.9],\n",
              "        [6.5, 3. , 5.2, 2. ],\n",
              "        [6.2, 3.4, 5.4, 2.3],\n",
              "        [5.9, 3. , 5.1, 1.8]]),\n",
              " array(['setosa', 'setosa', 'setosa', 'setosa', 'setosa', 'setosa',\n",
              "        'setosa', 'setosa', 'setosa', 'setosa', 'setosa', 'setosa',\n",
              "        'setosa', 'setosa', 'setosa', 'setosa', 'setosa', 'setosa',\n",
              "        'setosa', 'setosa', 'setosa', 'setosa', 'setosa', 'setosa',\n",
              "        'setosa', 'setosa', 'setosa', 'setosa', 'setosa', 'setosa',\n",
              "        'setosa', 'setosa', 'setosa', 'setosa', 'setosa', 'setosa',\n",
              "        'setosa', 'setosa', 'setosa', 'setosa', 'setosa', 'setosa',\n",
              "        'setosa', 'setosa', 'setosa', 'setosa', 'setosa', 'setosa',\n",
              "        'setosa', 'setosa', 'versicolor', 'versicolor', 'versicolor',\n",
              "        'versicolor', 'versicolor', 'versicolor', 'versicolor',\n",
              "        'versicolor', 'versicolor', 'versicolor', 'versicolor',\n",
              "        'versicolor', 'versicolor', 'versicolor', 'versicolor',\n",
              "        'versicolor', 'versicolor', 'versicolor', 'versicolor',\n",
              "        'versicolor', 'versicolor', 'versicolor', 'versicolor',\n",
              "        'versicolor', 'versicolor', 'versicolor', 'versicolor',\n",
              "        'versicolor', 'versicolor', 'versicolor', 'versicolor',\n",
              "        'versicolor', 'versicolor', 'versicolor', 'versicolor',\n",
              "        'versicolor', 'versicolor', 'versicolor', 'versicolor',\n",
              "        'versicolor', 'versicolor', 'versicolor', 'versicolor',\n",
              "        'versicolor', 'versicolor', 'versicolor', 'versicolor',\n",
              "        'versicolor', 'versicolor', 'versicolor', 'virginica', 'virginica',\n",
              "        'virginica', 'virginica', 'virginica', 'virginica', 'virginica',\n",
              "        'virginica', 'virginica', 'virginica', 'virginica', 'virginica',\n",
              "        'virginica', 'virginica', 'virginica', 'virginica', 'virginica',\n",
              "        'virginica', 'virginica', 'virginica', 'virginica', 'virginica',\n",
              "        'virginica', 'virginica', 'virginica', 'virginica', 'virginica',\n",
              "        'virginica', 'virginica', 'virginica', 'virginica', 'virginica',\n",
              "        'virginica', 'virginica', 'virginica', 'virginica', 'virginica',\n",
              "        'virginica', 'virginica', 'virginica', 'virginica', 'virginica',\n",
              "        'virginica', 'virginica', 'virginica', 'virginica', 'virginica',\n",
              "        'virginica', 'virginica', 'virginica'], dtype=object),\n",
              " array(['setosa', 'versicolor', 'virginica'], dtype=object),\n",
              " numpy.ndarray,\n",
              " numpy.ndarray)"
            ]
          },
          "metadata": {},
          "execution_count": 4
        }
      ],
      "source": [
        "X = iris.iloc[:, :-1].values\n",
        "y = iris.iloc[:, -1].values\n",
        "unique_clsses = iris.iloc[:, -1].unique()\n",
        "X, y, unique_clsses, type(X), type(y)\n",
        "\n",
        "# iris.values"
      ]
    },
    {
      "cell_type": "code",
      "execution_count": 5,
      "metadata": {
        "colab": {
          "base_uri": "https://localhost:8080/"
        },
        "id": "oY5GC8hmglzQ",
        "outputId": "621e8e39-cca6-4458-8a9e-8e54cc75a0e1"
      },
      "outputs": [
        {
          "output_type": "execute_result",
          "data": {
            "text/plain": [
              "(array([[5.1, 3.5, 1.4, 0.2],\n",
              "        [4.9, 3. , 1.4, 0.2],\n",
              "        [4.7, 3.2, 1.3, 0.2],\n",
              "        [4.6, 3.1, 1.5, 0.2],\n",
              "        [5. , 3.6, 1.4, 0.2],\n",
              "        [5.4, 3.9, 1.7, 0.4],\n",
              "        [4.6, 3.4, 1.4, 0.3],\n",
              "        [5. , 3.4, 1.5, 0.2],\n",
              "        [4.4, 2.9, 1.4, 0.2],\n",
              "        [4.9, 3.1, 1.5, 0.1],\n",
              "        [5.4, 3.7, 1.5, 0.2],\n",
              "        [4.8, 3.4, 1.6, 0.2],\n",
              "        [4.8, 3. , 1.4, 0.1],\n",
              "        [4.3, 3. , 1.1, 0.1],\n",
              "        [5.8, 4. , 1.2, 0.2],\n",
              "        [5.7, 4.4, 1.5, 0.4],\n",
              "        [5.4, 3.9, 1.3, 0.4],\n",
              "        [5.1, 3.5, 1.4, 0.3],\n",
              "        [5.7, 3.8, 1.7, 0.3],\n",
              "        [5.1, 3.8, 1.5, 0.3],\n",
              "        [5.4, 3.4, 1.7, 0.2],\n",
              "        [5.1, 3.7, 1.5, 0.4],\n",
              "        [4.6, 3.6, 1. , 0.2],\n",
              "        [5.1, 3.3, 1.7, 0.5],\n",
              "        [4.8, 3.4, 1.9, 0.2],\n",
              "        [5. , 3. , 1.6, 0.2],\n",
              "        [5. , 3.4, 1.6, 0.4],\n",
              "        [5.2, 3.5, 1.5, 0.2],\n",
              "        [5.2, 3.4, 1.4, 0.2],\n",
              "        [4.7, 3.2, 1.6, 0.2],\n",
              "        [4.8, 3.1, 1.6, 0.2],\n",
              "        [5.4, 3.4, 1.5, 0.4],\n",
              "        [5.2, 4.1, 1.5, 0.1],\n",
              "        [5.5, 4.2, 1.4, 0.2],\n",
              "        [4.9, 3.1, 1.5, 0.2],\n",
              "        [5. , 3.2, 1.2, 0.2],\n",
              "        [5.5, 3.5, 1.3, 0.2],\n",
              "        [4.9, 3.6, 1.4, 0.1],\n",
              "        [4.4, 3. , 1.3, 0.2],\n",
              "        [5.1, 3.4, 1.5, 0.2],\n",
              "        [5. , 3.5, 1.3, 0.3],\n",
              "        [4.5, 2.3, 1.3, 0.3],\n",
              "        [4.4, 3.2, 1.3, 0.2],\n",
              "        [5. , 3.5, 1.6, 0.6],\n",
              "        [5.1, 3.8, 1.9, 0.4],\n",
              "        [4.8, 3. , 1.4, 0.3],\n",
              "        [5.1, 3.8, 1.6, 0.2],\n",
              "        [4.6, 3.2, 1.4, 0.2],\n",
              "        [5.3, 3.7, 1.5, 0.2],\n",
              "        [5. , 3.3, 1.4, 0.2],\n",
              "        [7. , 3.2, 4.7, 1.4],\n",
              "        [6.4, 3.2, 4.5, 1.5],\n",
              "        [6.9, 3.1, 4.9, 1.5],\n",
              "        [5.5, 2.3, 4. , 1.3],\n",
              "        [6.5, 2.8, 4.6, 1.5],\n",
              "        [5.7, 2.8, 4.5, 1.3],\n",
              "        [6.3, 3.3, 4.7, 1.6],\n",
              "        [4.9, 2.4, 3.3, 1. ],\n",
              "        [6.6, 2.9, 4.6, 1.3],\n",
              "        [5.2, 2.7, 3.9, 1.4],\n",
              "        [5. , 2. , 3.5, 1. ],\n",
              "        [5.9, 3. , 4.2, 1.5],\n",
              "        [6. , 2.2, 4. , 1. ],\n",
              "        [6.1, 2.9, 4.7, 1.4],\n",
              "        [5.6, 2.9, 3.6, 1.3],\n",
              "        [6.7, 3.1, 4.4, 1.4],\n",
              "        [5.6, 3. , 4.5, 1.5],\n",
              "        [5.8, 2.7, 4.1, 1. ],\n",
              "        [6.2, 2.2, 4.5, 1.5],\n",
              "        [5.6, 2.5, 3.9, 1.1],\n",
              "        [5.9, 3.2, 4.8, 1.8],\n",
              "        [6.1, 2.8, 4. , 1.3],\n",
              "        [6.3, 2.5, 4.9, 1.5],\n",
              "        [6.1, 2.8, 4.7, 1.2],\n",
              "        [6.4, 2.9, 4.3, 1.3],\n",
              "        [6.6, 3. , 4.4, 1.4],\n",
              "        [6.8, 2.8, 4.8, 1.4],\n",
              "        [6.7, 3. , 5. , 1.7],\n",
              "        [6. , 2.9, 4.5, 1.5],\n",
              "        [5.7, 2.6, 3.5, 1. ],\n",
              "        [5.5, 2.4, 3.8, 1.1],\n",
              "        [5.5, 2.4, 3.7, 1. ],\n",
              "        [5.8, 2.7, 3.9, 1.2],\n",
              "        [6. , 2.7, 5.1, 1.6],\n",
              "        [5.4, 3. , 4.5, 1.5],\n",
              "        [6. , 3.4, 4.5, 1.6],\n",
              "        [6.7, 3.1, 4.7, 1.5],\n",
              "        [6.3, 2.3, 4.4, 1.3],\n",
              "        [5.6, 3. , 4.1, 1.3],\n",
              "        [5.5, 2.5, 4. , 1.3],\n",
              "        [5.5, 2.6, 4.4, 1.2],\n",
              "        [6.1, 3. , 4.6, 1.4],\n",
              "        [5.8, 2.6, 4. , 1.2],\n",
              "        [5. , 2.3, 3.3, 1. ],\n",
              "        [5.6, 2.7, 4.2, 1.3],\n",
              "        [5.7, 3. , 4.2, 1.2],\n",
              "        [5.7, 2.9, 4.2, 1.3],\n",
              "        [6.2, 2.9, 4.3, 1.3],\n",
              "        [5.1, 2.5, 3. , 1.1],\n",
              "        [5.7, 2.8, 4.1, 1.3],\n",
              "        [6.3, 3.3, 6. , 2.5],\n",
              "        [5.8, 2.7, 5.1, 1.9],\n",
              "        [7.1, 3. , 5.9, 2.1],\n",
              "        [6.3, 2.9, 5.6, 1.8],\n",
              "        [6.5, 3. , 5.8, 2.2],\n",
              "        [7.6, 3. , 6.6, 2.1],\n",
              "        [4.9, 2.5, 4.5, 1.7],\n",
              "        [7.3, 2.9, 6.3, 1.8],\n",
              "        [6.7, 2.5, 5.8, 1.8],\n",
              "        [7.2, 3.6, 6.1, 2.5],\n",
              "        [6.5, 3.2, 5.1, 2. ],\n",
              "        [6.4, 2.7, 5.3, 1.9],\n",
              "        [6.8, 3. , 5.5, 2.1],\n",
              "        [5.7, 2.5, 5. , 2. ],\n",
              "        [5.8, 2.8, 5.1, 2.4],\n",
              "        [6.4, 3.2, 5.3, 2.3],\n",
              "        [6.5, 3. , 5.5, 1.8],\n",
              "        [7.7, 3.8, 6.7, 2.2],\n",
              "        [7.7, 2.6, 6.9, 2.3],\n",
              "        [6. , 2.2, 5. , 1.5],\n",
              "        [6.9, 3.2, 5.7, 2.3],\n",
              "        [5.6, 2.8, 4.9, 2. ],\n",
              "        [7.7, 2.8, 6.7, 2. ],\n",
              "        [6.3, 2.7, 4.9, 1.8],\n",
              "        [6.7, 3.3, 5.7, 2.1],\n",
              "        [7.2, 3.2, 6. , 1.8],\n",
              "        [6.2, 2.8, 4.8, 1.8],\n",
              "        [6.1, 3. , 4.9, 1.8],\n",
              "        [6.4, 2.8, 5.6, 2.1],\n",
              "        [7.2, 3. , 5.8, 1.6],\n",
              "        [7.4, 2.8, 6.1, 1.9],\n",
              "        [7.9, 3.8, 6.4, 2. ],\n",
              "        [6.4, 2.8, 5.6, 2.2],\n",
              "        [6.3, 2.8, 5.1, 1.5],\n",
              "        [6.1, 2.6, 5.6, 1.4],\n",
              "        [7.7, 3. , 6.1, 2.3],\n",
              "        [6.3, 3.4, 5.6, 2.4],\n",
              "        [6.4, 3.1, 5.5, 1.8],\n",
              "        [6. , 3. , 4.8, 1.8],\n",
              "        [6.9, 3.1, 5.4, 2.1],\n",
              "        [6.7, 3.1, 5.6, 2.4],\n",
              "        [6.9, 3.1, 5.1, 2.3],\n",
              "        [5.8, 2.7, 5.1, 1.9],\n",
              "        [6.8, 3.2, 5.9, 2.3],\n",
              "        [6.7, 3.3, 5.7, 2.5],\n",
              "        [6.7, 3. , 5.2, 2.3],\n",
              "        [6.3, 2.5, 5. , 1.9],\n",
              "        [6.5, 3. , 5.2, 2. ],\n",
              "        [6.2, 3.4, 5.4, 2.3],\n",
              "        [5.9, 3. , 5.1, 1.8]]),\n",
              " array([0, 0, 0, 0, 0, 0, 0, 0, 0, 0, 0, 0, 0, 0, 0, 0, 0, 0, 0, 0, 0, 0,\n",
              "        0, 0, 0, 0, 0, 0, 0, 0, 0, 0, 0, 0, 0, 0, 0, 0, 0, 0, 0, 0, 0, 0,\n",
              "        0, 0, 0, 0, 0, 0, 1, 1, 1, 1, 1, 1, 1, 1, 1, 1, 1, 1, 1, 1, 1, 1,\n",
              "        1, 1, 1, 1, 1, 1, 1, 1, 1, 1, 1, 1, 1, 1, 1, 1, 1, 1, 1, 1, 1, 1,\n",
              "        1, 1, 1, 1, 1, 1, 1, 1, 1, 1, 1, 1, 2, 2, 2, 2, 2, 2, 2, 2, 2, 2,\n",
              "        2, 2, 2, 2, 2, 2, 2, 2, 2, 2, 2, 2, 2, 2, 2, 2, 2, 2, 2, 2, 2, 2,\n",
              "        2, 2, 2, 2, 2, 2, 2, 2, 2, 2, 2, 2, 2, 2, 2, 2, 2, 2]))"
            ]
          },
          "metadata": {},
          "execution_count": 5
        }
      ],
      "source": [
        "for i in range(len(unique_clsses)):\n",
        "    y[iris.species == unique_clsses[i]] = i\n",
        "y = y.astype(int)\n",
        "X, y"
      ]
    },
    {
      "cell_type": "code",
      "execution_count": 6,
      "metadata": {
        "colab": {
          "base_uri": "https://localhost:8080/"
        },
        "id": "-BJDnNg_glzR",
        "outputId": "b6495e59-5eee-42a1-9fc0-dbfe5a91f62d"
      },
      "outputs": [
        {
          "output_type": "execute_result",
          "data": {
            "text/plain": [
              "((150, 4), (150,))"
            ]
          },
          "metadata": {},
          "execution_count": 6
        }
      ],
      "source": [
        "X.shape, y.shape"
      ]
    },
    {
      "cell_type": "markdown",
      "metadata": {
        "id": "7FJBD3LMjN6v"
      },
      "source": [
        "#### Train test split"
      ]
    },
    {
      "cell_type": "code",
      "execution_count": 7,
      "metadata": {
        "id": "15oWGzhsjN6v",
        "colab": {
          "base_uri": "https://localhost:8080/"
        },
        "outputId": "9e6d9b82-ee13-4688-91df-ad98f373a117"
      },
      "outputs": [
        {
          "output_type": "execute_result",
          "data": {
            "text/plain": [
              "((120, 4), (30, 4), (120,), (30,))"
            ]
          },
          "metadata": {},
          "execution_count": 7
        }
      ],
      "source": [
        "X_train, X_test, y_train, y_test = train_test_split(X, y, test_size=0.2, random_state=42)\n",
        "X_train.shape, X_test.shape, y_train.shape, y_test.shape"
      ]
    },
    {
      "cell_type": "markdown",
      "metadata": {
        "id": "5WuqW2kCjN6w"
      },
      "source": [
        "#### Transform to pytorch"
      ]
    },
    {
      "cell_type": "code",
      "execution_count": 8,
      "metadata": {
        "id": "8nuYSEsNjN6w"
      },
      "outputs": [],
      "source": [
        "X_train = torch.tensor(X_train, dtype=torch.float32)\n",
        "X_test = torch.tensor(X_test, dtype=torch.float32)\n",
        "y_train = torch.tensor(y_train, dtype=torch.long)\n",
        "y_test = torch.tensor(y_test, dtype=torch.long)"
      ]
    },
    {
      "cell_type": "code",
      "source": [],
      "metadata": {
        "id": "LJIr0PbijEv8"
      },
      "execution_count": 8,
      "outputs": []
    },
    {
      "cell_type": "markdown",
      "metadata": {
        "id": "82RnLIiujN6w"
      },
      "source": [
        "#### Create Neural Network"
      ]
    },
    {
      "cell_type": "code",
      "execution_count": 9,
      "metadata": {
        "id": "7sLz2nUzjN6w"
      },
      "outputs": [],
      "source": [
        "class NN_Classifier(nn.Module):\n",
        "    def __init__(self):\n",
        "        super().__init__()\n",
        "\n",
        "        self.input = nn.Linear(4, 32)\n",
        "        self.fc = nn.Linear(32, 32)\n",
        "\n",
        "        # Classification or output layer\n",
        "        self.output = nn.Linear(32, 3)\n",
        "\n",
        "    # Forward pass\n",
        "    def forward(self, x):\n",
        "        # pass data through input layer\n",
        "        x = self.input(x)\n",
        "        # hidden layer\n",
        "        x = self.fc(x)\n",
        "        # apply ReLU activation\n",
        "        x = F.relu(x)\n",
        "\n",
        "        # output layer\n",
        "        x = self.output(x)\n",
        "        # x = torch.sigmoid # using cross entropy loss (so not binary)\n",
        "        return x\n",
        "\n",
        "model = NN_Classifier()"
      ]
    },
    {
      "cell_type": "markdown",
      "metadata": {
        "id": "Vq6Tsj8CjN6x"
      },
      "source": [
        "#### Visualize computation graph (before training)"
      ]
    },
    {
      "cell_type": "code",
      "execution_count": 10,
      "metadata": {
        "colab": {
          "base_uri": "https://localhost:8080/",
          "height": 680
        },
        "id": "OcN5e_eHjN6x",
        "outputId": "e7b6ac9a-e322-4dd4-c645-cab27471eeed"
      },
      "outputs": [
        {
          "output_type": "execute_result",
          "data": {
            "image/svg+xml": "<?xml version=\"1.0\" encoding=\"UTF-8\" standalone=\"no\"?>\n<!DOCTYPE svg PUBLIC \"-//W3C//DTD SVG 1.1//EN\"\n \"http://www.w3.org/Graphics/SVG/1.1/DTD/svg11.dtd\">\n<!-- Generated by graphviz version 2.43.0 (0)\n -->\n<!-- Title: %3 Pages: 1 -->\n<svg width=\"479pt\" height=\"479pt\"\n viewBox=\"0.00 0.00 479.00 479.00\" xmlns=\"http://www.w3.org/2000/svg\" xmlns:xlink=\"http://www.w3.org/1999/xlink\">\n<g id=\"graph0\" class=\"graph\" transform=\"scale(1 1) rotate(0) translate(4 475)\">\n<title>%3</title>\n<polygon fill=\"white\" stroke=\"transparent\" points=\"-4,4 -4,-475 475,-475 475,4 -4,4\"/>\n<!-- 133658007173456 -->\n<g id=\"node1\" class=\"node\">\n<title>133658007173456</title>\n<polygon fill=\"#caff70\" stroke=\"black\" points=\"274,-31 203,-31 203,0 274,0 274,-31\"/>\n<text text-anchor=\"middle\" x=\"238.5\" y=\"-7\" font-family=\"monospace\" font-size=\"10.00\"> (120, 3)</text>\n</g>\n<!-- 133658007222640 -->\n<g id=\"node2\" class=\"node\">\n<title>133658007222640</title>\n<polygon fill=\"lightgrey\" stroke=\"black\" points=\"289,-86 188,-86 188,-67 289,-67 289,-86\"/>\n<text text-anchor=\"middle\" x=\"238.5\" y=\"-74\" font-family=\"monospace\" font-size=\"10.00\">AddmmBackward0</text>\n</g>\n<!-- 133658007222640&#45;&gt;133658007173456 -->\n<g id=\"edge19\" class=\"edge\">\n<title>133658007222640&#45;&gt;133658007173456</title>\n<path fill=\"none\" stroke=\"black\" d=\"M238.5,-66.79C238.5,-60.07 238.5,-50.4 238.5,-41.34\"/>\n<polygon fill=\"black\" stroke=\"black\" points=\"242,-41.19 238.5,-31.19 235,-41.19 242,-41.19\"/>\n</g>\n<!-- 133658007214384 -->\n<g id=\"node3\" class=\"node\">\n<title>133658007214384</title>\n<polygon fill=\"lightgrey\" stroke=\"black\" points=\"173,-141 72,-141 72,-122 173,-122 173,-141\"/>\n<text text-anchor=\"middle\" x=\"122.5\" y=\"-129\" font-family=\"monospace\" font-size=\"10.00\">AccumulateGrad</text>\n</g>\n<!-- 133658007214384&#45;&gt;133658007222640 -->\n<g id=\"edge1\" class=\"edge\">\n<title>133658007214384&#45;&gt;133658007222640</title>\n<path fill=\"none\" stroke=\"black\" d=\"M141.14,-121.98C159.8,-113.46 188.75,-100.23 210.24,-90.41\"/>\n<polygon fill=\"black\" stroke=\"black\" points=\"211.88,-93.51 219.52,-86.17 208.97,-87.14 211.88,-93.51\"/>\n</g>\n<!-- 133658007173840 -->\n<g id=\"node4\" class=\"node\">\n<title>133658007173840</title>\n<polygon fill=\"lightblue\" stroke=\"black\" points=\"164,-207 81,-207 81,-177 164,-177 164,-207\"/>\n<text text-anchor=\"middle\" x=\"122.5\" y=\"-195\" font-family=\"monospace\" font-size=\"10.00\">output.bias</text>\n<text text-anchor=\"middle\" x=\"122.5\" y=\"-184\" font-family=\"monospace\" font-size=\"10.00\"> (3)</text>\n</g>\n<!-- 133658007173840&#45;&gt;133658007214384 -->\n<g id=\"edge2\" class=\"edge\">\n<title>133658007173840&#45;&gt;133658007214384</title>\n<path fill=\"none\" stroke=\"black\" d=\"M122.5,-176.84C122.5,-169.21 122.5,-159.7 122.5,-151.45\"/>\n<polygon fill=\"black\" stroke=\"black\" points=\"126,-151.27 122.5,-141.27 119,-151.27 126,-151.27\"/>\n</g>\n<!-- 133658007221968 -->\n<g id=\"node5\" class=\"node\">\n<title>133658007221968</title>\n<polygon fill=\"lightgrey\" stroke=\"black\" points=\"286,-141 191,-141 191,-122 286,-122 286,-141\"/>\n<text text-anchor=\"middle\" x=\"238.5\" y=\"-129\" font-family=\"monospace\" font-size=\"10.00\">ReluBackward0</text>\n</g>\n<!-- 133658007221968&#45;&gt;133658007222640 -->\n<g id=\"edge3\" class=\"edge\">\n<title>133658007221968&#45;&gt;133658007222640</title>\n<path fill=\"none\" stroke=\"black\" d=\"M238.5,-121.75C238.5,-114.8 238.5,-104.85 238.5,-96.13\"/>\n<polygon fill=\"black\" stroke=\"black\" points=\"242,-96.09 238.5,-86.09 235,-96.09 242,-96.09\"/>\n</g>\n<!-- 133658007221728 -->\n<g id=\"node6\" class=\"node\">\n<title>133658007221728</title>\n<polygon fill=\"lightgrey\" stroke=\"black\" points=\"286,-201.5 185,-201.5 185,-182.5 286,-182.5 286,-201.5\"/>\n<text text-anchor=\"middle\" x=\"235.5\" y=\"-189.5\" font-family=\"monospace\" font-size=\"10.00\">AddmmBackward0</text>\n</g>\n<!-- 133658007221728&#45;&gt;133658007221968 -->\n<g id=\"edge4\" class=\"edge\">\n<title>133658007221728&#45;&gt;133658007221968</title>\n<path fill=\"none\" stroke=\"black\" d=\"M235.94,-182.37C236.36,-174.25 237,-161.81 237.53,-151.39\"/>\n<polygon fill=\"black\" stroke=\"black\" points=\"241.04,-151.33 238.06,-141.17 234.05,-150.97 241.04,-151.33\"/>\n</g>\n<!-- 133658007222832 -->\n<g id=\"node7\" class=\"node\">\n<title>133658007222832</title>\n<polygon fill=\"lightgrey\" stroke=\"black\" points=\"101,-267.5 0,-267.5 0,-248.5 101,-248.5 101,-267.5\"/>\n<text text-anchor=\"middle\" x=\"50.5\" y=\"-255.5\" font-family=\"monospace\" font-size=\"10.00\">AccumulateGrad</text>\n</g>\n<!-- 133658007222832&#45;&gt;133658007221728 -->\n<g id=\"edge5\" class=\"edge\">\n<title>133658007222832&#45;&gt;133658007221728</title>\n<path fill=\"none\" stroke=\"black\" d=\"M75.45,-248.37C107.81,-237.17 164.44,-217.58 200.93,-204.96\"/>\n<polygon fill=\"black\" stroke=\"black\" points=\"202.34,-208.17 210.65,-201.6 200.06,-201.56 202.34,-208.17\"/>\n</g>\n<!-- 133658007164432 -->\n<g id=\"node8\" class=\"node\">\n<title>133658007164432</title>\n<polygon fill=\"lightblue\" stroke=\"black\" points=\"59,-339 0,-339 0,-309 59,-309 59,-339\"/>\n<text text-anchor=\"middle\" x=\"29.5\" y=\"-327\" font-family=\"monospace\" font-size=\"10.00\">fc.bias</text>\n<text text-anchor=\"middle\" x=\"29.5\" y=\"-316\" font-family=\"monospace\" font-size=\"10.00\"> (32)</text>\n</g>\n<!-- 133658007164432&#45;&gt;133658007222832 -->\n<g id=\"edge6\" class=\"edge\">\n<title>133658007164432&#45;&gt;133658007222832</title>\n<path fill=\"none\" stroke=\"black\" d=\"M34.16,-308.8C37.18,-299.6 41.14,-287.53 44.4,-277.58\"/>\n<polygon fill=\"black\" stroke=\"black\" points=\"47.81,-278.44 47.6,-267.84 41.15,-276.25 47.81,-278.44\"/>\n</g>\n<!-- 133658007222448 -->\n<g id=\"node9\" class=\"node\">\n<title>133658007222448</title>\n<polygon fill=\"lightgrey\" stroke=\"black\" points=\"263,-267.5 162,-267.5 162,-248.5 263,-248.5 263,-267.5\"/>\n<text text-anchor=\"middle\" x=\"212.5\" y=\"-255.5\" font-family=\"monospace\" font-size=\"10.00\">AddmmBackward0</text>\n</g>\n<!-- 133658007222448&#45;&gt;133658007221728 -->\n<g id=\"edge7\" class=\"edge\">\n<title>133658007222448&#45;&gt;133658007221728</title>\n<path fill=\"none\" stroke=\"black\" d=\"M215.6,-248.37C218.98,-238.97 224.48,-223.67 228.84,-211.53\"/>\n<polygon fill=\"black\" stroke=\"black\" points=\"232.21,-212.5 232.3,-201.91 225.62,-210.13 232.21,-212.5\"/>\n</g>\n<!-- 133658007221824 -->\n<g id=\"node10\" class=\"node\">\n<title>133658007221824</title>\n<polygon fill=\"lightgrey\" stroke=\"black\" points=\"178,-333.5 77,-333.5 77,-314.5 178,-314.5 178,-333.5\"/>\n<text text-anchor=\"middle\" x=\"127.5\" y=\"-321.5\" font-family=\"monospace\" font-size=\"10.00\">AccumulateGrad</text>\n</g>\n<!-- 133658007221824&#45;&gt;133658007222448 -->\n<g id=\"edge8\" class=\"edge\">\n<title>133658007221824&#45;&gt;133658007222448</title>\n<path fill=\"none\" stroke=\"black\" d=\"M138.96,-314.37C152.78,-303.97 176.21,-286.32 192.91,-273.75\"/>\n<polygon fill=\"black\" stroke=\"black\" points=\"195.06,-276.51 200.95,-267.7 190.85,-270.92 195.06,-276.51\"/>\n</g>\n<!-- 133662070024688 -->\n<g id=\"node11\" class=\"node\">\n<title>133662070024688</title>\n<polygon fill=\"lightblue\" stroke=\"black\" points=\"166,-405 89,-405 89,-375 166,-375 166,-405\"/>\n<text text-anchor=\"middle\" x=\"127.5\" y=\"-393\" font-family=\"monospace\" font-size=\"10.00\">input.bias</text>\n<text text-anchor=\"middle\" x=\"127.5\" y=\"-382\" font-family=\"monospace\" font-size=\"10.00\"> (32)</text>\n</g>\n<!-- 133662070024688&#45;&gt;133658007221824 -->\n<g id=\"edge9\" class=\"edge\">\n<title>133662070024688&#45;&gt;133658007221824</title>\n<path fill=\"none\" stroke=\"black\" d=\"M127.5,-374.8C127.5,-365.7 127.5,-353.79 127.5,-343.9\"/>\n<polygon fill=\"black\" stroke=\"black\" points=\"131,-343.84 127.5,-333.84 124,-343.84 131,-343.84\"/>\n</g>\n<!-- 133658007221776 -->\n<g id=\"node12\" class=\"node\">\n<title>133658007221776</title>\n<polygon fill=\"lightgrey\" stroke=\"black\" points=\"273,-333.5 196,-333.5 196,-314.5 273,-314.5 273,-333.5\"/>\n<text text-anchor=\"middle\" x=\"234.5\" y=\"-321.5\" font-family=\"monospace\" font-size=\"10.00\">TBackward0</text>\n</g>\n<!-- 133658007221776&#45;&gt;133658007222448 -->\n<g id=\"edge10\" class=\"edge\">\n<title>133658007221776&#45;&gt;133658007222448</title>\n<path fill=\"none\" stroke=\"black\" d=\"M231.53,-314.37C228.3,-304.97 223.04,-289.67 218.87,-277.53\"/>\n<polygon fill=\"black\" stroke=\"black\" points=\"222.12,-276.22 215.56,-267.91 215.5,-278.5 222.12,-276.22\"/>\n</g>\n<!-- 133658007221680 -->\n<g id=\"node13\" class=\"node\">\n<title>133658007221680</title>\n<polygon fill=\"lightgrey\" stroke=\"black\" points=\"285,-399.5 184,-399.5 184,-380.5 285,-380.5 285,-399.5\"/>\n<text text-anchor=\"middle\" x=\"234.5\" y=\"-387.5\" font-family=\"monospace\" font-size=\"10.00\">AccumulateGrad</text>\n</g>\n<!-- 133658007221680&#45;&gt;133658007221776 -->\n<g id=\"edge11\" class=\"edge\">\n<title>133658007221680&#45;&gt;133658007221776</title>\n<path fill=\"none\" stroke=\"black\" d=\"M234.5,-380.37C234.5,-371.16 234.5,-356.29 234.5,-344.27\"/>\n<polygon fill=\"black\" stroke=\"black\" points=\"238,-343.91 234.5,-333.91 231,-343.91 238,-343.91\"/>\n</g>\n<!-- 133662070023632 -->\n<g id=\"node14\" class=\"node\">\n<title>133662070023632</title>\n<polygon fill=\"lightblue\" stroke=\"black\" points=\"279,-471 190,-471 190,-441 279,-441 279,-471\"/>\n<text text-anchor=\"middle\" x=\"234.5\" y=\"-459\" font-family=\"monospace\" font-size=\"10.00\">input.weight</text>\n<text text-anchor=\"middle\" x=\"234.5\" y=\"-448\" font-family=\"monospace\" font-size=\"10.00\"> (32, 4)</text>\n</g>\n<!-- 133662070023632&#45;&gt;133658007221680 -->\n<g id=\"edge12\" class=\"edge\">\n<title>133662070023632&#45;&gt;133658007221680</title>\n<path fill=\"none\" stroke=\"black\" d=\"M234.5,-440.8C234.5,-431.7 234.5,-419.79 234.5,-409.9\"/>\n<polygon fill=\"black\" stroke=\"black\" points=\"238,-409.84 234.5,-399.84 231,-409.84 238,-409.84\"/>\n</g>\n<!-- 133658007222592 -->\n<g id=\"node15\" class=\"node\">\n<title>133658007222592</title>\n<polygon fill=\"lightgrey\" stroke=\"black\" points=\"358,-267.5 281,-267.5 281,-248.5 358,-248.5 358,-267.5\"/>\n<text text-anchor=\"middle\" x=\"319.5\" y=\"-255.5\" font-family=\"monospace\" font-size=\"10.00\">TBackward0</text>\n</g>\n<!-- 133658007222592&#45;&gt;133658007221728 -->\n<g id=\"edge13\" class=\"edge\">\n<title>133658007222592&#45;&gt;133658007221728</title>\n<path fill=\"none\" stroke=\"black\" d=\"M308.17,-248.37C294.64,-238.06 271.78,-220.65 255.31,-208.09\"/>\n<polygon fill=\"black\" stroke=\"black\" points=\"256.99,-204.98 246.92,-201.7 252.75,-210.54 256.99,-204.98\"/>\n</g>\n<!-- 133658007219184 -->\n<g id=\"node16\" class=\"node\">\n<title>133658007219184</title>\n<polygon fill=\"lightgrey\" stroke=\"black\" points=\"392,-333.5 291,-333.5 291,-314.5 392,-314.5 392,-333.5\"/>\n<text text-anchor=\"middle\" x=\"341.5\" y=\"-321.5\" font-family=\"monospace\" font-size=\"10.00\">AccumulateGrad</text>\n</g>\n<!-- 133658007219184&#45;&gt;133658007222592 -->\n<g id=\"edge14\" class=\"edge\">\n<title>133658007219184&#45;&gt;133658007222592</title>\n<path fill=\"none\" stroke=\"black\" d=\"M338.53,-314.37C335.3,-304.97 330.04,-289.67 325.87,-277.53\"/>\n<polygon fill=\"black\" stroke=\"black\" points=\"329.12,-276.22 322.56,-267.91 322.5,-278.5 329.12,-276.22\"/>\n</g>\n<!-- 133658007169328 -->\n<g id=\"node17\" class=\"node\">\n<title>133658007169328</title>\n<polygon fill=\"lightblue\" stroke=\"black\" points=\"377,-405 306,-405 306,-375 377,-375 377,-405\"/>\n<text text-anchor=\"middle\" x=\"341.5\" y=\"-393\" font-family=\"monospace\" font-size=\"10.00\">fc.weight</text>\n<text text-anchor=\"middle\" x=\"341.5\" y=\"-382\" font-family=\"monospace\" font-size=\"10.00\"> (32, 32)</text>\n</g>\n<!-- 133658007169328&#45;&gt;133658007219184 -->\n<g id=\"edge15\" class=\"edge\">\n<title>133658007169328&#45;&gt;133658007219184</title>\n<path fill=\"none\" stroke=\"black\" d=\"M341.5,-374.8C341.5,-365.7 341.5,-353.79 341.5,-343.9\"/>\n<polygon fill=\"black\" stroke=\"black\" points=\"345,-343.84 341.5,-333.84 338,-343.84 345,-343.84\"/>\n</g>\n<!-- 133658007221872 -->\n<g id=\"node18\" class=\"node\">\n<title>133658007221872</title>\n<polygon fill=\"lightgrey\" stroke=\"black\" points=\"410,-141 333,-141 333,-122 410,-122 410,-141\"/>\n<text text-anchor=\"middle\" x=\"371.5\" y=\"-129\" font-family=\"monospace\" font-size=\"10.00\">TBackward0</text>\n</g>\n<!-- 133658007221872&#45;&gt;133658007222640 -->\n<g id=\"edge16\" class=\"edge\">\n<title>133658007221872&#45;&gt;133658007222640</title>\n<path fill=\"none\" stroke=\"black\" d=\"M350.13,-121.98C328.35,-113.3 294.34,-99.75 269.58,-89.88\"/>\n<polygon fill=\"black\" stroke=\"black\" points=\"270.84,-86.62 260.26,-86.17 268.25,-93.12 270.84,-86.62\"/>\n</g>\n<!-- 133658007221584 -->\n<g id=\"node19\" class=\"node\">\n<title>133658007221584</title>\n<polygon fill=\"lightgrey\" stroke=\"black\" points=\"451,-201.5 350,-201.5 350,-182.5 451,-182.5 451,-201.5\"/>\n<text text-anchor=\"middle\" x=\"400.5\" y=\"-189.5\" font-family=\"monospace\" font-size=\"10.00\">AccumulateGrad</text>\n</g>\n<!-- 133658007221584&#45;&gt;133658007221872 -->\n<g id=\"edge17\" class=\"edge\">\n<title>133658007221584&#45;&gt;133658007221872</title>\n<path fill=\"none\" stroke=\"black\" d=\"M396.22,-182.37C392.07,-173.99 385.63,-161.01 380.37,-150.39\"/>\n<polygon fill=\"black\" stroke=\"black\" points=\"383.37,-148.57 375.8,-141.17 377.1,-151.68 383.37,-148.57\"/>\n</g>\n<!-- 133658007172976 -->\n<g id=\"node20\" class=\"node\">\n<title>133658007172976</title>\n<polygon fill=\"lightblue\" stroke=\"black\" points=\"471,-273 376,-273 376,-243 471,-243 471,-273\"/>\n<text text-anchor=\"middle\" x=\"423.5\" y=\"-261\" font-family=\"monospace\" font-size=\"10.00\">output.weight</text>\n<text text-anchor=\"middle\" x=\"423.5\" y=\"-250\" font-family=\"monospace\" font-size=\"10.00\"> (3, 32)</text>\n</g>\n<!-- 133658007172976&#45;&gt;133658007221584 -->\n<g id=\"edge18\" class=\"edge\">\n<title>133658007172976&#45;&gt;133658007221584</title>\n<path fill=\"none\" stroke=\"black\" d=\"M418.4,-242.8C415.06,-233.5 410.66,-221.27 407.06,-211.26\"/>\n<polygon fill=\"black\" stroke=\"black\" points=\"410.35,-210.07 403.68,-201.84 403.77,-212.44 410.35,-210.07\"/>\n</g>\n</g>\n</svg>\n",
            "text/plain": [
              "<graphviz.graphs.Digraph at 0x798fade03e90>"
            ]
          },
          "metadata": {},
          "execution_count": 10
        }
      ],
      "source": [
        "ypred = model(X_train)\n",
        "make_dot(ypred, params=dict(model.named_parameters()))"
      ]
    },
    {
      "cell_type": "code",
      "execution_count": 11,
      "metadata": {
        "id": "hoKZeQyLjN6x"
      },
      "outputs": [],
      "source": [
        "learningRate = 0.01\n",
        "lossfunc = nn.CrossEntropyLoss()\n",
        "optimizer = torch.optim.SGD(model.parameters(), lr=learningRate,)"
      ]
    },
    {
      "cell_type": "code",
      "execution_count": 12,
      "metadata": {
        "colab": {
          "base_uri": "https://localhost:8080/"
        },
        "id": "0TYaJVqfjN6x",
        "outputId": "39b07285-83c6-4c8f-fd81-d68ea455f70b"
      },
      "outputs": [
        {
          "output_type": "stream",
          "name": "stdout",
          "text": [
            "Epoch: 0; Loss: 1.0461\n",
            "Epoch: 100; Loss: 0.5008\n",
            "Epoch: 200; Loss: 0.3485\n",
            "Epoch: 300; Loss: 0.2537\n",
            "Epoch: 400; Loss: 0.1910\n",
            "Epoch: 500; Loss: 0.1522\n",
            "Epoch: 600; Loss: 0.1281\n",
            "Epoch: 700; Loss: 0.1125\n",
            "Epoch: 800; Loss: 0.1019\n",
            "Epoch: 900; Loss: 0.0944\n",
            "Epoch: 1000; Loss: 0.0889\n",
            "Epoch: 1100; Loss: 0.0847\n",
            "Epoch: 1200; Loss: 0.0814\n",
            "Epoch: 1300; Loss: 0.0787\n",
            "Epoch: 1400; Loss: 0.0766\n",
            "Epoch: 1500; Loss: 0.0748\n",
            "Epoch: 1600; Loss: 0.0733\n",
            "Epoch: 1700; Loss: 0.0721\n",
            "Epoch: 1800; Loss: 0.0710\n",
            "Epoch: 1900; Loss: 0.0700\n",
            "Epoch: 2000; Loss: 0.0692\n",
            "Epoch: 2100; Loss: 0.0685\n",
            "Epoch: 2200; Loss: 0.0678\n",
            "Epoch: 2300; Loss: 0.0672\n",
            "Epoch: 2400; Loss: 0.0667\n",
            "Epoch: 2500; Loss: 0.0662\n",
            "Epoch: 2600; Loss: 0.0658\n",
            "Epoch: 2700; Loss: 0.0654\n",
            "Epoch: 2800; Loss: 0.0650\n",
            "Epoch: 2900; Loss: 0.0647\n",
            "Epoch: 3000; Loss: 0.0644\n",
            "Epoch: 3100; Loss: 0.0641\n",
            "Epoch: 3200; Loss: 0.0638\n",
            "Epoch: 3300; Loss: 0.0635\n",
            "Epoch: 3400; Loss: 0.0633\n",
            "Epoch: 3500; Loss: 0.0630\n"
          ]
        }
      ],
      "source": [
        "epochs = 3501\n",
        "losses = torch.zeros(epochs)\n",
        "\n",
        "for epoch in range(epochs):\n",
        "    # Forward propagation\n",
        "    ypred = model(X_train)\n",
        "    loss = lossfunc(ypred, y_train)\n",
        "    # Record the loss\n",
        "    losses[epoch] = loss.detach()\n",
        "\n",
        "    # Backward propagation\n",
        "    optimizer.zero_grad()\n",
        "    loss.backward()\n",
        "    optimizer.step()\n",
        "\n",
        "\n",
        "    if epoch % 100 == 0:\n",
        "        print(f'Epoch: {epoch}; Loss: {loss.item():.4f}')\n",
        "    accuracy = 100*torch.mean((torch.argmax(ypred, axis=1) == y_train).float())"
      ]
    },
    {
      "cell_type": "code",
      "execution_count": 13,
      "metadata": {
        "colab": {
          "base_uri": "https://localhost:8080/",
          "height": 680
        },
        "id": "OZqOtYqijN6y",
        "outputId": "6d3deb3a-38ce-4358-cd87-c8d9f746363b"
      },
      "outputs": [
        {
          "output_type": "execute_result",
          "data": {
            "image/svg+xml": "<?xml version=\"1.0\" encoding=\"UTF-8\" standalone=\"no\"?>\n<!DOCTYPE svg PUBLIC \"-//W3C//DTD SVG 1.1//EN\"\n \"http://www.w3.org/Graphics/SVG/1.1/DTD/svg11.dtd\">\n<!-- Generated by graphviz version 2.43.0 (0)\n -->\n<!-- Title: %3 Pages: 1 -->\n<svg width=\"479pt\" height=\"479pt\"\n viewBox=\"0.00 0.00 479.00 479.00\" xmlns=\"http://www.w3.org/2000/svg\" xmlns:xlink=\"http://www.w3.org/1999/xlink\">\n<g id=\"graph0\" class=\"graph\" transform=\"scale(1 1) rotate(0) translate(4 475)\">\n<title>%3</title>\n<polygon fill=\"white\" stroke=\"transparent\" points=\"-4,4 -4,-475 475,-475 475,4 -4,4\"/>\n<!-- 133658004491056 -->\n<g id=\"node1\" class=\"node\">\n<title>133658004491056</title>\n<polygon fill=\"#caff70\" stroke=\"black\" points=\"274,-31 203,-31 203,0 274,0 274,-31\"/>\n<text text-anchor=\"middle\" x=\"238.5\" y=\"-7\" font-family=\"monospace\" font-size=\"10.00\"> (120, 3)</text>\n</g>\n<!-- 133657847594912 -->\n<g id=\"node2\" class=\"node\">\n<title>133657847594912</title>\n<polygon fill=\"lightgrey\" stroke=\"black\" points=\"289,-86 188,-86 188,-67 289,-67 289,-86\"/>\n<text text-anchor=\"middle\" x=\"238.5\" y=\"-74\" font-family=\"monospace\" font-size=\"10.00\">AddmmBackward0</text>\n</g>\n<!-- 133657847594912&#45;&gt;133658004491056 -->\n<g id=\"edge19\" class=\"edge\">\n<title>133657847594912&#45;&gt;133658004491056</title>\n<path fill=\"none\" stroke=\"black\" d=\"M238.5,-66.79C238.5,-60.07 238.5,-50.4 238.5,-41.34\"/>\n<polygon fill=\"black\" stroke=\"black\" points=\"242,-41.19 238.5,-31.19 235,-41.19 242,-41.19\"/>\n</g>\n<!-- 133657847594960 -->\n<g id=\"node3\" class=\"node\">\n<title>133657847594960</title>\n<polygon fill=\"lightgrey\" stroke=\"black\" points=\"173,-141 72,-141 72,-122 173,-122 173,-141\"/>\n<text text-anchor=\"middle\" x=\"122.5\" y=\"-129\" font-family=\"monospace\" font-size=\"10.00\">AccumulateGrad</text>\n</g>\n<!-- 133657847594960&#45;&gt;133657847594912 -->\n<g id=\"edge1\" class=\"edge\">\n<title>133657847594960&#45;&gt;133657847594912</title>\n<path fill=\"none\" stroke=\"black\" d=\"M141.14,-121.98C159.8,-113.46 188.75,-100.23 210.24,-90.41\"/>\n<polygon fill=\"black\" stroke=\"black\" points=\"211.88,-93.51 219.52,-86.17 208.97,-87.14 211.88,-93.51\"/>\n</g>\n<!-- 133658007173840 -->\n<g id=\"node4\" class=\"node\">\n<title>133658007173840</title>\n<polygon fill=\"lightblue\" stroke=\"black\" points=\"164,-207 81,-207 81,-177 164,-177 164,-207\"/>\n<text text-anchor=\"middle\" x=\"122.5\" y=\"-195\" font-family=\"monospace\" font-size=\"10.00\">output.bias</text>\n<text text-anchor=\"middle\" x=\"122.5\" y=\"-184\" font-family=\"monospace\" font-size=\"10.00\"> (3)</text>\n</g>\n<!-- 133658007173840&#45;&gt;133657847594960 -->\n<g id=\"edge2\" class=\"edge\">\n<title>133658007173840&#45;&gt;133657847594960</title>\n<path fill=\"none\" stroke=\"black\" d=\"M122.5,-176.84C122.5,-169.21 122.5,-159.7 122.5,-151.45\"/>\n<polygon fill=\"black\" stroke=\"black\" points=\"126,-151.27 122.5,-141.27 119,-151.27 126,-151.27\"/>\n</g>\n<!-- 133657847594048 -->\n<g id=\"node5\" class=\"node\">\n<title>133657847594048</title>\n<polygon fill=\"lightgrey\" stroke=\"black\" points=\"286,-141 191,-141 191,-122 286,-122 286,-141\"/>\n<text text-anchor=\"middle\" x=\"238.5\" y=\"-129\" font-family=\"monospace\" font-size=\"10.00\">ReluBackward0</text>\n</g>\n<!-- 133657847594048&#45;&gt;133657847594912 -->\n<g id=\"edge3\" class=\"edge\">\n<title>133657847594048&#45;&gt;133657847594912</title>\n<path fill=\"none\" stroke=\"black\" d=\"M238.5,-121.75C238.5,-114.8 238.5,-104.85 238.5,-96.13\"/>\n<polygon fill=\"black\" stroke=\"black\" points=\"242,-96.09 238.5,-86.09 235,-96.09 242,-96.09\"/>\n</g>\n<!-- 133657847594816 -->\n<g id=\"node6\" class=\"node\">\n<title>133657847594816</title>\n<polygon fill=\"lightgrey\" stroke=\"black\" points=\"286,-201.5 185,-201.5 185,-182.5 286,-182.5 286,-201.5\"/>\n<text text-anchor=\"middle\" x=\"235.5\" y=\"-189.5\" font-family=\"monospace\" font-size=\"10.00\">AddmmBackward0</text>\n</g>\n<!-- 133657847594816&#45;&gt;133657847594048 -->\n<g id=\"edge4\" class=\"edge\">\n<title>133657847594816&#45;&gt;133657847594048</title>\n<path fill=\"none\" stroke=\"black\" d=\"M235.94,-182.37C236.36,-174.25 237,-161.81 237.53,-151.39\"/>\n<polygon fill=\"black\" stroke=\"black\" points=\"241.04,-151.33 238.06,-141.17 234.05,-150.97 241.04,-151.33\"/>\n</g>\n<!-- 133657847579456 -->\n<g id=\"node7\" class=\"node\">\n<title>133657847579456</title>\n<polygon fill=\"lightgrey\" stroke=\"black\" points=\"101,-267.5 0,-267.5 0,-248.5 101,-248.5 101,-267.5\"/>\n<text text-anchor=\"middle\" x=\"50.5\" y=\"-255.5\" font-family=\"monospace\" font-size=\"10.00\">AccumulateGrad</text>\n</g>\n<!-- 133657847579456&#45;&gt;133657847594816 -->\n<g id=\"edge5\" class=\"edge\">\n<title>133657847579456&#45;&gt;133657847594816</title>\n<path fill=\"none\" stroke=\"black\" d=\"M75.45,-248.37C107.81,-237.17 164.44,-217.58 200.93,-204.96\"/>\n<polygon fill=\"black\" stroke=\"black\" points=\"202.34,-208.17 210.65,-201.6 200.06,-201.56 202.34,-208.17\"/>\n</g>\n<!-- 133658007164432 -->\n<g id=\"node8\" class=\"node\">\n<title>133658007164432</title>\n<polygon fill=\"lightblue\" stroke=\"black\" points=\"59,-339 0,-339 0,-309 59,-309 59,-339\"/>\n<text text-anchor=\"middle\" x=\"29.5\" y=\"-327\" font-family=\"monospace\" font-size=\"10.00\">fc.bias</text>\n<text text-anchor=\"middle\" x=\"29.5\" y=\"-316\" font-family=\"monospace\" font-size=\"10.00\"> (32)</text>\n</g>\n<!-- 133658007164432&#45;&gt;133657847579456 -->\n<g id=\"edge6\" class=\"edge\">\n<title>133658007164432&#45;&gt;133657847579456</title>\n<path fill=\"none\" stroke=\"black\" d=\"M34.16,-308.8C37.18,-299.6 41.14,-287.53 44.4,-277.58\"/>\n<polygon fill=\"black\" stroke=\"black\" points=\"47.81,-278.44 47.6,-267.84 41.15,-276.25 47.81,-278.44\"/>\n</g>\n<!-- 133657847591696 -->\n<g id=\"node9\" class=\"node\">\n<title>133657847591696</title>\n<polygon fill=\"lightgrey\" stroke=\"black\" points=\"263,-267.5 162,-267.5 162,-248.5 263,-248.5 263,-267.5\"/>\n<text text-anchor=\"middle\" x=\"212.5\" y=\"-255.5\" font-family=\"monospace\" font-size=\"10.00\">AddmmBackward0</text>\n</g>\n<!-- 133657847591696&#45;&gt;133657847594816 -->\n<g id=\"edge7\" class=\"edge\">\n<title>133657847591696&#45;&gt;133657847594816</title>\n<path fill=\"none\" stroke=\"black\" d=\"M215.6,-248.37C218.98,-238.97 224.48,-223.67 228.84,-211.53\"/>\n<polygon fill=\"black\" stroke=\"black\" points=\"232.21,-212.5 232.3,-201.91 225.62,-210.13 232.21,-212.5\"/>\n</g>\n<!-- 133657847586080 -->\n<g id=\"node10\" class=\"node\">\n<title>133657847586080</title>\n<polygon fill=\"lightgrey\" stroke=\"black\" points=\"178,-333.5 77,-333.5 77,-314.5 178,-314.5 178,-333.5\"/>\n<text text-anchor=\"middle\" x=\"127.5\" y=\"-321.5\" font-family=\"monospace\" font-size=\"10.00\">AccumulateGrad</text>\n</g>\n<!-- 133657847586080&#45;&gt;133657847591696 -->\n<g id=\"edge8\" class=\"edge\">\n<title>133657847586080&#45;&gt;133657847591696</title>\n<path fill=\"none\" stroke=\"black\" d=\"M138.96,-314.37C152.78,-303.97 176.21,-286.32 192.91,-273.75\"/>\n<polygon fill=\"black\" stroke=\"black\" points=\"195.06,-276.51 200.95,-267.7 190.85,-270.92 195.06,-276.51\"/>\n</g>\n<!-- 133662070024688 -->\n<g id=\"node11\" class=\"node\">\n<title>133662070024688</title>\n<polygon fill=\"lightblue\" stroke=\"black\" points=\"166,-405 89,-405 89,-375 166,-375 166,-405\"/>\n<text text-anchor=\"middle\" x=\"127.5\" y=\"-393\" font-family=\"monospace\" font-size=\"10.00\">input.bias</text>\n<text text-anchor=\"middle\" x=\"127.5\" y=\"-382\" font-family=\"monospace\" font-size=\"10.00\"> (32)</text>\n</g>\n<!-- 133662070024688&#45;&gt;133657847586080 -->\n<g id=\"edge9\" class=\"edge\">\n<title>133662070024688&#45;&gt;133657847586080</title>\n<path fill=\"none\" stroke=\"black\" d=\"M127.5,-374.8C127.5,-365.7 127.5,-353.79 127.5,-343.9\"/>\n<polygon fill=\"black\" stroke=\"black\" points=\"131,-343.84 127.5,-333.84 124,-343.84 131,-343.84\"/>\n</g>\n<!-- 133657847593040 -->\n<g id=\"node12\" class=\"node\">\n<title>133657847593040</title>\n<polygon fill=\"lightgrey\" stroke=\"black\" points=\"273,-333.5 196,-333.5 196,-314.5 273,-314.5 273,-333.5\"/>\n<text text-anchor=\"middle\" x=\"234.5\" y=\"-321.5\" font-family=\"monospace\" font-size=\"10.00\">TBackward0</text>\n</g>\n<!-- 133657847593040&#45;&gt;133657847591696 -->\n<g id=\"edge10\" class=\"edge\">\n<title>133657847593040&#45;&gt;133657847591696</title>\n<path fill=\"none\" stroke=\"black\" d=\"M231.53,-314.37C228.3,-304.97 223.04,-289.67 218.87,-277.53\"/>\n<polygon fill=\"black\" stroke=\"black\" points=\"222.12,-276.22 215.56,-267.91 215.5,-278.5 222.12,-276.22\"/>\n</g>\n<!-- 133657847592992 -->\n<g id=\"node13\" class=\"node\">\n<title>133657847592992</title>\n<polygon fill=\"lightgrey\" stroke=\"black\" points=\"285,-399.5 184,-399.5 184,-380.5 285,-380.5 285,-399.5\"/>\n<text text-anchor=\"middle\" x=\"234.5\" y=\"-387.5\" font-family=\"monospace\" font-size=\"10.00\">AccumulateGrad</text>\n</g>\n<!-- 133657847592992&#45;&gt;133657847593040 -->\n<g id=\"edge11\" class=\"edge\">\n<title>133657847592992&#45;&gt;133657847593040</title>\n<path fill=\"none\" stroke=\"black\" d=\"M234.5,-380.37C234.5,-371.16 234.5,-356.29 234.5,-344.27\"/>\n<polygon fill=\"black\" stroke=\"black\" points=\"238,-343.91 234.5,-333.91 231,-343.91 238,-343.91\"/>\n</g>\n<!-- 133662070023632 -->\n<g id=\"node14\" class=\"node\">\n<title>133662070023632</title>\n<polygon fill=\"lightblue\" stroke=\"black\" points=\"279,-471 190,-471 190,-441 279,-441 279,-471\"/>\n<text text-anchor=\"middle\" x=\"234.5\" y=\"-459\" font-family=\"monospace\" font-size=\"10.00\">input.weight</text>\n<text text-anchor=\"middle\" x=\"234.5\" y=\"-448\" font-family=\"monospace\" font-size=\"10.00\"> (32, 4)</text>\n</g>\n<!-- 133662070023632&#45;&gt;133657847592992 -->\n<g id=\"edge12\" class=\"edge\">\n<title>133662070023632&#45;&gt;133657847592992</title>\n<path fill=\"none\" stroke=\"black\" d=\"M234.5,-440.8C234.5,-431.7 234.5,-419.79 234.5,-409.9\"/>\n<polygon fill=\"black\" stroke=\"black\" points=\"238,-409.84 234.5,-399.84 231,-409.84 238,-409.84\"/>\n</g>\n<!-- 133657847594672 -->\n<g id=\"node15\" class=\"node\">\n<title>133657847594672</title>\n<polygon fill=\"lightgrey\" stroke=\"black\" points=\"358,-267.5 281,-267.5 281,-248.5 358,-248.5 358,-267.5\"/>\n<text text-anchor=\"middle\" x=\"319.5\" y=\"-255.5\" font-family=\"monospace\" font-size=\"10.00\">TBackward0</text>\n</g>\n<!-- 133657847594672&#45;&gt;133657847594816 -->\n<g id=\"edge13\" class=\"edge\">\n<title>133657847594672&#45;&gt;133657847594816</title>\n<path fill=\"none\" stroke=\"black\" d=\"M308.17,-248.37C294.64,-238.06 271.78,-220.65 255.31,-208.09\"/>\n<polygon fill=\"black\" stroke=\"black\" points=\"256.99,-204.98 246.92,-201.7 252.75,-210.54 256.99,-204.98\"/>\n</g>\n<!-- 133657847589248 -->\n<g id=\"node16\" class=\"node\">\n<title>133657847589248</title>\n<polygon fill=\"lightgrey\" stroke=\"black\" points=\"392,-333.5 291,-333.5 291,-314.5 392,-314.5 392,-333.5\"/>\n<text text-anchor=\"middle\" x=\"341.5\" y=\"-321.5\" font-family=\"monospace\" font-size=\"10.00\">AccumulateGrad</text>\n</g>\n<!-- 133657847589248&#45;&gt;133657847594672 -->\n<g id=\"edge14\" class=\"edge\">\n<title>133657847589248&#45;&gt;133657847594672</title>\n<path fill=\"none\" stroke=\"black\" d=\"M338.53,-314.37C335.3,-304.97 330.04,-289.67 325.87,-277.53\"/>\n<polygon fill=\"black\" stroke=\"black\" points=\"329.12,-276.22 322.56,-267.91 322.5,-278.5 329.12,-276.22\"/>\n</g>\n<!-- 133658007169328 -->\n<g id=\"node17\" class=\"node\">\n<title>133658007169328</title>\n<polygon fill=\"lightblue\" stroke=\"black\" points=\"377,-405 306,-405 306,-375 377,-375 377,-405\"/>\n<text text-anchor=\"middle\" x=\"341.5\" y=\"-393\" font-family=\"monospace\" font-size=\"10.00\">fc.weight</text>\n<text text-anchor=\"middle\" x=\"341.5\" y=\"-382\" font-family=\"monospace\" font-size=\"10.00\"> (32, 32)</text>\n</g>\n<!-- 133658007169328&#45;&gt;133657847589248 -->\n<g id=\"edge15\" class=\"edge\">\n<title>133658007169328&#45;&gt;133657847589248</title>\n<path fill=\"none\" stroke=\"black\" d=\"M341.5,-374.8C341.5,-365.7 341.5,-353.79 341.5,-343.9\"/>\n<polygon fill=\"black\" stroke=\"black\" points=\"345,-343.84 341.5,-333.84 338,-343.84 345,-343.84\"/>\n</g>\n<!-- 133657847594096 -->\n<g id=\"node18\" class=\"node\">\n<title>133657847594096</title>\n<polygon fill=\"lightgrey\" stroke=\"black\" points=\"410,-141 333,-141 333,-122 410,-122 410,-141\"/>\n<text text-anchor=\"middle\" x=\"371.5\" y=\"-129\" font-family=\"monospace\" font-size=\"10.00\">TBackward0</text>\n</g>\n<!-- 133657847594096&#45;&gt;133657847594912 -->\n<g id=\"edge16\" class=\"edge\">\n<title>133657847594096&#45;&gt;133657847594912</title>\n<path fill=\"none\" stroke=\"black\" d=\"M350.13,-121.98C328.35,-113.3 294.34,-99.75 269.58,-89.88\"/>\n<polygon fill=\"black\" stroke=\"black\" points=\"270.84,-86.62 260.26,-86.17 268.25,-93.12 270.84,-86.62\"/>\n</g>\n<!-- 133657847588048 -->\n<g id=\"node19\" class=\"node\">\n<title>133657847588048</title>\n<polygon fill=\"lightgrey\" stroke=\"black\" points=\"451,-201.5 350,-201.5 350,-182.5 451,-182.5 451,-201.5\"/>\n<text text-anchor=\"middle\" x=\"400.5\" y=\"-189.5\" font-family=\"monospace\" font-size=\"10.00\">AccumulateGrad</text>\n</g>\n<!-- 133657847588048&#45;&gt;133657847594096 -->\n<g id=\"edge17\" class=\"edge\">\n<title>133657847588048&#45;&gt;133657847594096</title>\n<path fill=\"none\" stroke=\"black\" d=\"M396.22,-182.37C392.07,-173.99 385.63,-161.01 380.37,-150.39\"/>\n<polygon fill=\"black\" stroke=\"black\" points=\"383.37,-148.57 375.8,-141.17 377.1,-151.68 383.37,-148.57\"/>\n</g>\n<!-- 133658007172976 -->\n<g id=\"node20\" class=\"node\">\n<title>133658007172976</title>\n<polygon fill=\"lightblue\" stroke=\"black\" points=\"471,-273 376,-273 376,-243 471,-243 471,-273\"/>\n<text text-anchor=\"middle\" x=\"423.5\" y=\"-261\" font-family=\"monospace\" font-size=\"10.00\">output.weight</text>\n<text text-anchor=\"middle\" x=\"423.5\" y=\"-250\" font-family=\"monospace\" font-size=\"10.00\"> (3, 32)</text>\n</g>\n<!-- 133658007172976&#45;&gt;133657847588048 -->\n<g id=\"edge18\" class=\"edge\">\n<title>133658007172976&#45;&gt;133657847588048</title>\n<path fill=\"none\" stroke=\"black\" d=\"M418.4,-242.8C415.06,-233.5 410.66,-221.27 407.06,-211.26\"/>\n<polygon fill=\"black\" stroke=\"black\" points=\"410.35,-210.07 403.68,-201.84 403.77,-212.44 410.35,-210.07\"/>\n</g>\n</g>\n</svg>\n",
            "text/plain": [
              "<graphviz.graphs.Digraph at 0x798fa4889d10>"
            ]
          },
          "metadata": {},
          "execution_count": 13
        }
      ],
      "source": [
        "# Visualize computation graph (after training)\n",
        "make_dot(ypred, params=dict(model.named_parameters()))"
      ]
    },
    {
      "cell_type": "markdown",
      "metadata": {
        "id": "TzRwzvwRjN6y"
      },
      "source": [
        "#### Loss vs Epoch"
      ]
    },
    {
      "cell_type": "code",
      "execution_count": 14,
      "metadata": {
        "colab": {
          "base_uri": "https://localhost:8080/",
          "height": 362
        },
        "id": "zMkSLXF9jN6y",
        "outputId": "ae929a7a-b9e9-4bc1-a4a3-0eed4c4d28e5"
      },
      "outputs": [
        {
          "output_type": "display_data",
          "data": {
            "text/plain": [
              "<Figure size 1200x600 with 1 Axes>"
            ],
            "image/png": "[encoded data removed]"
          },
          "metadata": {}
        }
      ],
      "source": [
        "plt.figure(figsize=(12, 6))\n",
        "plt.plot(np.arange(epochs), losses.detach(), 'm', lw=3)\n",
        "plt.xlabel('Epochs', fontsize=15)\n",
        "plt.ylabel('Loss', fontsize=15)\n",
        "plt.title('Loss vs. Epochs')\n",
        "plt.show()"
      ]
    },
    {
      "cell_type": "markdown",
      "metadata": {
        "id": "KCwFI2sqjN6y"
      },
      "source": [
        "#### Weights and Bias of training model"
      ]
    },
    {
      "cell_type": "code",
      "execution_count": 15,
      "metadata": {
        "colab": {
          "base_uri": "https://localhost:8080/"
        },
        "id": "6kCMKRhwjN6y",
        "outputId": "74f652df-a2a1-42cd-f6e9-929cf63979cc"
      },
      "outputs": [
        {
          "output_type": "stream",
          "name": "stdout",
          "text": [
            "Trained Weight: [[-0.09326012 -0.21269782 -0.29053646  0.5728669 ]\n",
            " [-0.25491175 -0.18962158 -0.62251836 -0.33820555]\n",
            " [-0.29137942  0.30349043  0.5539943   0.42556858]\n",
            " [-0.11303382  0.5555003  -0.34047604  0.06952669]\n",
            " [-0.3717326  -0.22727427  0.18475413  0.12020467]\n",
            " [-0.03517621  0.3422471  -0.59408647 -0.13173656]\n",
            " [ 0.47102413  0.14835279  0.28597355  0.51534903]\n",
            " [ 0.2787222   0.18957138 -0.12680992 -0.34830233]\n",
            " [-0.06609166 -0.5465624  -0.15820101 -0.10795549]\n",
            " [ 0.31532133 -0.47867236 -0.2994279  -0.41228968]\n",
            " [ 0.033966   -0.36891216  0.553015    0.56130236]\n",
            " [ 0.1026805  -0.28484306 -0.15169978 -0.3624042 ]\n",
            " [-0.36733246  0.17244773 -0.2747125  -0.04439698]\n",
            " [ 0.54063153 -0.24327144 -0.29905778 -0.47390097]\n",
            " [ 0.14012206 -0.04096642 -0.05220153  0.5562627 ]\n",
            " [-0.35902393  0.08652297  0.2707654   0.42514864]\n",
            " [ 0.2558152  -0.14488788 -0.15374562  0.41060093]\n",
            " [ 0.1606852   0.07610745  0.4394772   0.51430535]\n",
            " [-0.42580456 -0.60936284  0.68261313  0.37302223]\n",
            " [ 0.37004736 -0.20926957  0.424688   -0.31692857]\n",
            " [ 0.06510293 -0.32864484  0.4089899  -0.397307  ]\n",
            " [ 0.2189719  -0.35819787 -0.33436957 -0.44556862]\n",
            " [-0.16167782  0.43352517  0.37778366 -0.23092581]\n",
            " [-0.33430538 -0.11046378  0.08190634  0.3734814 ]\n",
            " [ 0.5567281   0.46271804  0.02736443 -0.3439694 ]\n",
            " [-0.21379884 -0.49060386  0.50468516  0.5663726 ]\n",
            " [ 0.4614362   0.16300136 -0.00667989 -0.51261973]\n",
            " [-0.09936718  0.49398324 -0.40364653 -0.1188588 ]\n",
            " [-0.23358811 -0.49319956 -0.17493546 -0.25418305]\n",
            " [ 0.42456213 -0.2517528  -0.28966746 -0.52304536]\n",
            " [-0.17175262 -0.6295352   0.67182964  0.09110176]\n",
            " [ 0.35898364  0.6127592  -0.54075915 -0.38754287]]\n",
            "Trained Bias: [-0.2898961  -0.36345047 -0.18339002  0.16800015 -0.01532332 -0.177729\n",
            "  0.14551204  0.23901044 -0.42994285 -0.39550593 -0.00249784  0.40822315\n",
            " -0.04081878  0.53363526 -0.4007142  -0.53765726  0.19230783 -0.00590274\n",
            "  0.06780602  0.02413267  0.29423538 -0.03397955  0.4303211  -0.48186135\n",
            " -0.36324075 -0.3520699  -0.39855033  0.23791161  0.44451118  0.18517114\n",
            " -0.37154892 -0.15206154]\n"
          ]
        }
      ],
      "source": [
        "# We have 1 ip layer with 4 features; 1 hl; 1 op layer with 3 class\n",
        "print(f\"Trained Weight: {model.input.weight.detach().numpy()}\")\n",
        "print(f\"Trained Bias: {model.input.bias.detach().numpy()}\")"
      ]
    },
    {
      "cell_type": "markdown",
      "metadata": {
        "id": "IFfCRfv9jN6y"
      },
      "source": [
        "#### Testing and evaluating the model"
      ]
    },
    {
      "cell_type": "code",
      "execution_count": 26,
      "metadata": {
        "id": "NMnOakvTjN6z",
        "colab": {
          "base_uri": "https://localhost:8080/"
        },
        "outputId": "33d31064-1c36-4c13-cc79-bd5a15a45736"
      },
      "outputs": [
        {
          "output_type": "execute_result",
          "data": {
            "text/plain": [
              "tensor([[ -4.3294,   5.4277,   0.9463],\n",
              "        [ 16.7165,   8.8742, -22.6165],\n",
              "        [-16.7872,   2.9586,  15.5463],\n",
              "        [ -4.5973,   5.1043,   1.3853],\n",
              "        [ -4.2903,   5.8287,   0.6193],\n",
              "        [ 15.2899,   8.1834, -20.7304],\n",
              "        [  0.1031,   5.8253,  -3.9933],\n",
              "        [ -8.8352,   4.3591,   6.2586],\n",
              "        [ -6.6575,   4.4243,   4.0659],\n",
              "        [ -1.2594,   5.7466,  -2.5193],\n",
              "        [ -7.9080,   4.5420,   5.1902],\n",
              "        [ 14.4536,   7.6481, -19.5129],\n",
              "        [ 16.9425,   8.7616, -22.7970],\n",
              "        [ 14.5964,   7.7936, -19.7465],\n",
              "        [ 16.1699,   8.4258, -21.7972],\n",
              "        [ -4.0291,   5.6071,   0.4178],\n",
              "        [-12.9225,   3.1764,  11.3991],\n",
              "        [ -1.9153,   5.4546,  -1.6192],\n",
              "        [ -4.6437,   4.9624,   1.5622],\n",
              "        [-12.7276,   3.0268,  11.2857],\n",
              "        [ 13.7191,   7.5618, -18.7232],\n",
              "        [ -7.5026,   4.3640,   4.9125],\n",
              "        [ 14.1179,   7.7911, -19.2959],\n",
              "        [-12.3984,   3.1819,  10.8689],\n",
              "        [ -9.4108,   5.6548,   6.0562],\n",
              "        [-10.1320,   3.8627,   7.9679],\n",
              "        [-12.4478,   3.4837,  10.7994],\n",
              "        [-12.7842,   3.4747,  11.0409],\n",
              "        [ 13.6918,   7.4156, -18.6032],\n",
              "        [ 13.5885,   7.5654, -18.5926]], grad_fn=<AddmmBackward0>)"
            ]
          },
          "metadata": {},
          "execution_count": 26
        }
      ],
      "source": [
        "y_pred = model(X_test)\n",
        "y_pred"
      ]
    },
    {
      "cell_type": "code",
      "source": [],
      "metadata": {
        "id": "REbQhan2o_UL"
      },
      "execution_count": null,
      "outputs": []
    }
  ],
  "metadata": {
    "colab": {
      "provenance": []
    },
    "kernelspec": {
      "display_name": "Python 3",
      "language": "python",
      "name": "python3"
    },
    "language_info": {
      "codemirror_mode": {
        "name": "ipython",
        "version": 3
      },
      "file_extension": ".py",
      "mimetype": "text/x-python",
      "name": "python",
      "nbconvert_exporter": "python",
      "pygments_lexer": "ipython3",
      "version": "3.9.21"
    }
  },
  "nbformat": 4,
  "nbformat_minor": 0
}