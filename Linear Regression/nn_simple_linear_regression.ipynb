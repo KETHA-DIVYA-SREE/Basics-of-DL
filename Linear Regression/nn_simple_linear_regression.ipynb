{
  "cells": [
    {
      "cell_type": "code",
      "execution_count": 16,
      "metadata": {
        "id": "c2qjwvrNZefw"
      },
      "outputs": [],
      "source": [
        "# !pip install torchviz==0.0.3 -q"
      ]
    },
    {
      "cell_type": "code",
      "execution_count": 48,
      "metadata": {
        "id": "qyJcKF57ZRK8"
      },
      "outputs": [],
      "source": [
        "# Required imports\n",
        "import torch\n",
        "import torch.nn as nn\n",
        "import numpy as np\n",
        "import matplotlib.pyplot as plt\n",
        "from sklearn.datasets import make_regression\n",
        "from sklearn import metrics\n",
        "from torchviz import make_dot"
      ]
    },
    {
      "cell_type": "markdown",
      "metadata": {
        "id": "1J02mV0tZRK-"
      },
      "source": [
        "#### Load dataset"
      ]
    },
    {
      "cell_type": "code",
      "execution_count": 50,
      "metadata": {
        "colab": {
          "base_uri": "https://localhost:8080/"
        },
        "id": "ckP1r7t1mxrK",
        "outputId": "cf823d2b-81a6-4706-f128-200615bac9b0"
      },
      "outputs": [
        {
          "output_type": "execute_result",
          "data": {
            "text/plain": [
              "(array([[ 0.19686124],\n",
              "        [-1.22084365],\n",
              "        [ 1.52302986],\n",
              "        [-1.4123037 ],\n",
              "        [ 1.46564877],\n",
              "        [ 0.24196227],\n",
              "        [-0.23413696],\n",
              "        [-0.60170661],\n",
              "        [ 1.85227818],\n",
              "        [ 0.54256004],\n",
              "        [ 0.11092259],\n",
              "        [ 0.31424733],\n",
              "        [-1.32818605],\n",
              "        [-1.91328024],\n",
              "        [-1.76304016],\n",
              "        [ 0.73846658],\n",
              "        [-0.90802408],\n",
              "        [-1.15099358],\n",
              "        [-0.2257763 ],\n",
              "        [-0.29169375],\n",
              "        [-0.60063869],\n",
              "        [ 0.64768854],\n",
              "        [-1.05771093],\n",
              "        [-0.46063877],\n",
              "        [ 0.0675282 ],\n",
              "        [-0.56228753],\n",
              "        [-0.11564828],\n",
              "        [-0.1382643 ],\n",
              "        [-0.46572975],\n",
              "        [-1.95967012],\n",
              "        [ 0.34361829],\n",
              "        [-0.71984421],\n",
              "        [ 0.37569802],\n",
              "        [-0.23415337],\n",
              "        [-0.01349722],\n",
              "        [ 0.2088636 ],\n",
              "        [ 0.82254491],\n",
              "        [ 0.17136828],\n",
              "        [-1.01283112],\n",
              "        [-0.46341769],\n",
              "        [-0.3011037 ],\n",
              "        [ 0.76743473],\n",
              "        [ 1.05712223],\n",
              "        [-1.42474819],\n",
              "        [-0.46947439],\n",
              "        [ 1.57921282],\n",
              "        [-0.54438272],\n",
              "        [ 0.49671415],\n",
              "        [-1.47852199],\n",
              "        [-1.72491783]]),\n",
              " array([  2.77425171, -17.20464452,  21.46318021, -19.90278045,\n",
              "         20.65454168,   3.40983456,  -3.29955692,  -8.4795038 ,\n",
              "         26.10308676,   7.64598536,   1.563168  ,   4.42850618,\n",
              "        -18.71735896, -26.96275356, -24.84550675,  10.40678305,\n",
              "        -12.79625891, -16.22028778,  -3.18173502,  -4.11067156,\n",
              "         -8.46445419,   9.12750053, -14.90570929,  -6.49151618,\n",
              "          0.95163599,  -7.92399343,  -1.62976446,  -1.94847895,\n",
              "         -6.56326046, -27.61649934,   4.84241411, -10.14434872,\n",
              "          5.29449521,  -3.29978829,  -0.19020859,   2.94339403,\n",
              "         11.59165042,   2.41499422, -14.27324407,  -6.53067792,\n",
              "         -4.24328049,  10.81501444,  14.89741304, -20.07815339,\n",
              "         -6.6160314 ,  22.25493421,  -7.67167135,   6.9999057 ,\n",
              "        -20.83595656, -24.30827087]))"
            ]
          },
          "metadata": {},
          "execution_count": 50
        }
      ],
      "source": [
        "# Load dataset\n",
        "data = make_regression(n_samples=50, n_features=1, n_informative=1, random_state=42)\n",
        "X = data[0]\n",
        "y = data[1]\n",
        "X, y"
      ]
    },
    {
      "cell_type": "markdown",
      "metadata": {
        "id": "d10LlyXqZRLB"
      },
      "source": [
        "#### Visualize data"
      ]
    },
    {
      "cell_type": "code",
      "execution_count": 51,
      "metadata": {
        "colab": {
          "base_uri": "https://localhost:8080/",
          "height": 570
        },
        "id": "tsx88acfZRK_",
        "outputId": "3909e681-c7a1-4459-d8f4-0fb38e667ca1"
      },
      "outputs": [
        {
          "output_type": "display_data",
          "data": {
            "text/plain": [
              "<Figure size 1200x600 with 1 Axes>"
            ],
            "image/png": "[encoded data removed]"
          },
          "metadata": {}
        }
      ],
      "source": [
        "# Visualize data\n",
        "plt.figure(figsize=(12, 6))\n",
        "plt.scatter(X, y, color='b')\n",
        "plt.ylabel('y', fontsize=15)\n",
        "plt.xlabel('X', fontsize=15)\n",
        "plt.title('Training Data')\n",
        "plt.show()"
      ]
    },
    {
      "cell_type": "markdown",
      "metadata": {
        "id": "YCOm46LPZRLC"
      },
      "source": [
        "#### Convert to torch tensors"
      ]
    },
    {
      "cell_type": "code",
      "execution_count": 52,
      "metadata": {
        "colab": {
          "base_uri": "https://localhost:8080/"
        },
        "id": "xuTC68osZRLC",
        "outputId": "4fa79a7d-5b81-479e-b46e-995fe62644bd"
      },
      "outputs": [
        {
          "output_type": "execute_result",
          "data": {
            "text/plain": [
              "(tensor([[ 0.1969],\n",
              "         [-1.2208],\n",
              "         [ 1.5230],\n",
              "         [-1.4123],\n",
              "         [ 1.4656],\n",
              "         [ 0.2420],\n",
              "         [-0.2341],\n",
              "         [-0.6017],\n",
              "         [ 1.8523],\n",
              "         [ 0.5426],\n",
              "         [ 0.1109],\n",
              "         [ 0.3142],\n",
              "         [-1.3282],\n",
              "         [-1.9133],\n",
              "         [-1.7630],\n",
              "         [ 0.7385],\n",
              "         [-0.9080],\n",
              "         [-1.1510],\n",
              "         [-0.2258],\n",
              "         [-0.2917],\n",
              "         [-0.6006],\n",
              "         [ 0.6477],\n",
              "         [-1.0577],\n",
              "         [-0.4606],\n",
              "         [ 0.0675],\n",
              "         [-0.5623],\n",
              "         [-0.1156],\n",
              "         [-0.1383],\n",
              "         [-0.4657],\n",
              "         [-1.9597],\n",
              "         [ 0.3436],\n",
              "         [-0.7198],\n",
              "         [ 0.3757],\n",
              "         [-0.2342],\n",
              "         [-0.0135],\n",
              "         [ 0.2089],\n",
              "         [ 0.8225],\n",
              "         [ 0.1714],\n",
              "         [-1.0128],\n",
              "         [-0.4634],\n",
              "         [-0.3011],\n",
              "         [ 0.7674],\n",
              "         [ 1.0571],\n",
              "         [-1.4247],\n",
              "         [-0.4695],\n",
              "         [ 1.5792],\n",
              "         [-0.5444],\n",
              "         [ 0.4967],\n",
              "         [-1.4785],\n",
              "         [-1.7249]]),\n",
              " tensor([[  2.7743],\n",
              "         [-17.2046],\n",
              "         [ 21.4632],\n",
              "         [-19.9028],\n",
              "         [ 20.6545],\n",
              "         [  3.4098],\n",
              "         [ -3.2996],\n",
              "         [ -8.4795],\n",
              "         [ 26.1031],\n",
              "         [  7.6460],\n",
              "         [  1.5632],\n",
              "         [  4.4285],\n",
              "         [-18.7174],\n",
              "         [-26.9628],\n",
              "         [-24.8455],\n",
              "         [ 10.4068],\n",
              "         [-12.7963],\n",
              "         [-16.2203],\n",
              "         [ -3.1817],\n",
              "         [ -4.1107],\n",
              "         [ -8.4645],\n",
              "         [  9.1275],\n",
              "         [-14.9057],\n",
              "         [ -6.4915],\n",
              "         [  0.9516],\n",
              "         [ -7.9240],\n",
              "         [ -1.6298],\n",
              "         [ -1.9485],\n",
              "         [ -6.5633],\n",
              "         [-27.6165],\n",
              "         [  4.8424],\n",
              "         [-10.1443],\n",
              "         [  5.2945],\n",
              "         [ -3.2998],\n",
              "         [ -0.1902],\n",
              "         [  2.9434],\n",
              "         [ 11.5917],\n",
              "         [  2.4150],\n",
              "         [-14.2732],\n",
              "         [ -6.5307],\n",
              "         [ -4.2433],\n",
              "         [ 10.8150],\n",
              "         [ 14.8974],\n",
              "         [-20.0782],\n",
              "         [ -6.6160],\n",
              "         [ 22.2549],\n",
              "         [ -7.6717],\n",
              "         [  6.9999],\n",
              "         [-20.8360],\n",
              "         [-24.3083]]))"
            ]
          },
          "metadata": {},
          "execution_count": 52
        }
      ],
      "source": [
        "X = torch.tensor(X, dtype=torch.float32)\n",
        "y = torch.tensor(y, dtype=torch.float32).reshape(-1, 1)\n",
        "X, y"
      ]
    },
    {
      "cell_type": "markdown",
      "metadata": {
        "id": "-3mMCZ8vZRLD"
      },
      "source": [
        "#### Create neural network model"
      ]
    },
    {
      "cell_type": "code",
      "execution_count": 53,
      "metadata": {
        "colab": {
          "base_uri": "https://localhost:8080/"
        },
        "id": "gbrn12XDZRLD",
        "outputId": "136eecad-1cc2-44eb-d1c0-a2b6de04ea6f"
      },
      "outputs": [
        {
          "output_type": "execute_result",
          "data": {
            "text/plain": [
              "Sequential(\n",
              "  (0): Linear(in_features=1, out_features=1, bias=True)\n",
              ")"
            ]
          },
          "metadata": {},
          "execution_count": 53
        }
      ],
      "source": [
        "model = nn.Sequential(\n",
        "    nn.Linear(1, 1)\n",
        ")\n",
        "\n",
        "model"
      ]
    },
    {
      "cell_type": "markdown",
      "source": [
        "#### Visualize computation graph (before training)"
      ],
      "metadata": {
        "id": "iq9rGIDHotFB"
      }
    },
    {
      "cell_type": "code",
      "execution_count": 56,
      "metadata": {
        "colab": {
          "base_uri": "https://localhost:8080/",
          "height": 396
        },
        "id": "MQCdOZFrbgEQ",
        "outputId": "5a9c6b20-c85f-4c34-c6ec-ebfb83d9b481"
      },
      "outputs": [
        {
          "output_type": "execute_result",
          "data": {
            "image/svg+xml": "<?xml version=\"1.0\" encoding=\"UTF-8\" standalone=\"no\"?>\n<!DOCTYPE svg PUBLIC \"-//W3C//DTD SVG 1.1//EN\"\n \"http://www.w3.org/Graphics/SVG/1.1/DTD/svg11.dtd\">\n<!-- Generated by graphviz version 2.43.0 (0)\n -->\n<!-- Title: %3 Pages: 1 -->\n<svg width=\"216pt\" height=\"281pt\"\n viewBox=\"0.00 0.00 216.00 281.00\" xmlns=\"http://www.w3.org/2000/svg\" xmlns:xlink=\"http://www.w3.org/1999/xlink\">\n<g id=\"graph0\" class=\"graph\" transform=\"scale(1 1) rotate(0) translate(4 277)\">\n<title>%3</title>\n<polygon fill=\"white\" stroke=\"transparent\" points=\"-4,4 -4,-277 212,-277 212,4 -4,4\"/>\n<!-- 135082664326256 -->\n<g id=\"node1\" class=\"node\">\n<title>135082664326256</title>\n<polygon fill=\"#caff70\" stroke=\"black\" points=\"136,-31 71,-31 71,0 136,0 136,-31\"/>\n<text text-anchor=\"middle\" x=\"103.5\" y=\"-7\" font-family=\"monospace\" font-size=\"10.00\"> (50, 1)</text>\n</g>\n<!-- 135082670068960 -->\n<g id=\"node2\" class=\"node\">\n<title>135082670068960</title>\n<polygon fill=\"lightgrey\" stroke=\"black\" points=\"154,-86 53,-86 53,-67 154,-67 154,-86\"/>\n<text text-anchor=\"middle\" x=\"103.5\" y=\"-74\" font-family=\"monospace\" font-size=\"10.00\">AddmmBackward0</text>\n</g>\n<!-- 135082670068960&#45;&gt;135082664326256 -->\n<g id=\"edge6\" class=\"edge\">\n<title>135082670068960&#45;&gt;135082664326256</title>\n<path fill=\"none\" stroke=\"black\" d=\"M103.5,-66.79C103.5,-60.07 103.5,-50.4 103.5,-41.34\"/>\n<polygon fill=\"black\" stroke=\"black\" points=\"107,-41.19 103.5,-31.19 100,-41.19 107,-41.19\"/>\n</g>\n<!-- 135082670078416 -->\n<g id=\"node3\" class=\"node\">\n<title>135082670078416</title>\n<polygon fill=\"lightgrey\" stroke=\"black\" points=\"101,-141 0,-141 0,-122 101,-122 101,-141\"/>\n<text text-anchor=\"middle\" x=\"50.5\" y=\"-129\" font-family=\"monospace\" font-size=\"10.00\">AccumulateGrad</text>\n</g>\n<!-- 135082670078416&#45;&gt;135082670068960 -->\n<g id=\"edge1\" class=\"edge\">\n<title>135082670078416&#45;&gt;135082670068960</title>\n<path fill=\"none\" stroke=\"black\" d=\"M59.25,-121.75C66.97,-114.03 78.4,-102.6 87.72,-93.28\"/>\n<polygon fill=\"black\" stroke=\"black\" points=\"90.31,-95.64 94.91,-86.09 85.36,-90.69 90.31,-95.64\"/>\n</g>\n<!-- 135082664152432 -->\n<g id=\"node4\" class=\"node\">\n<title>135082664152432</title>\n<polygon fill=\"lightblue\" stroke=\"black\" points=\"77.5,-207 23.5,-207 23.5,-177 77.5,-177 77.5,-207\"/>\n<text text-anchor=\"middle\" x=\"50.5\" y=\"-195\" font-family=\"monospace\" font-size=\"10.00\">0.bias</text>\n<text text-anchor=\"middle\" x=\"50.5\" y=\"-184\" font-family=\"monospace\" font-size=\"10.00\"> (1)</text>\n</g>\n<!-- 135082664152432&#45;&gt;135082670078416 -->\n<g id=\"edge2\" class=\"edge\">\n<title>135082664152432&#45;&gt;135082670078416</title>\n<path fill=\"none\" stroke=\"black\" d=\"M50.5,-176.84C50.5,-169.21 50.5,-159.7 50.5,-151.45\"/>\n<polygon fill=\"black\" stroke=\"black\" points=\"54,-151.27 50.5,-141.27 47,-151.27 54,-151.27\"/>\n</g>\n<!-- 135082670064736 -->\n<g id=\"node5\" class=\"node\">\n<title>135082670064736</title>\n<polygon fill=\"lightgrey\" stroke=\"black\" points=\"196,-141 119,-141 119,-122 196,-122 196,-141\"/>\n<text text-anchor=\"middle\" x=\"157.5\" y=\"-129\" font-family=\"monospace\" font-size=\"10.00\">TBackward0</text>\n</g>\n<!-- 135082670064736&#45;&gt;135082670068960 -->\n<g id=\"edge3\" class=\"edge\">\n<title>135082670064736&#45;&gt;135082670068960</title>\n<path fill=\"none\" stroke=\"black\" d=\"M148.58,-121.75C140.72,-114.03 129.07,-102.6 119.58,-93.28\"/>\n<polygon fill=\"black\" stroke=\"black\" points=\"121.84,-90.6 112.25,-86.09 116.94,-95.59 121.84,-90.6\"/>\n</g>\n<!-- 135082670065600 -->\n<g id=\"node6\" class=\"node\">\n<title>135082670065600</title>\n<polygon fill=\"lightgrey\" stroke=\"black\" points=\"208,-201.5 107,-201.5 107,-182.5 208,-182.5 208,-201.5\"/>\n<text text-anchor=\"middle\" x=\"157.5\" y=\"-189.5\" font-family=\"monospace\" font-size=\"10.00\">AccumulateGrad</text>\n</g>\n<!-- 135082670065600&#45;&gt;135082670064736 -->\n<g id=\"edge4\" class=\"edge\">\n<title>135082670065600&#45;&gt;135082670064736</title>\n<path fill=\"none\" stroke=\"black\" d=\"M157.5,-182.37C157.5,-174.25 157.5,-161.81 157.5,-151.39\"/>\n<polygon fill=\"black\" stroke=\"black\" points=\"161,-151.17 157.5,-141.17 154,-151.17 161,-151.17\"/>\n</g>\n<!-- 135086867235280 -->\n<g id=\"node7\" class=\"node\">\n<title>135086867235280</title>\n<polygon fill=\"lightblue\" stroke=\"black\" points=\"190,-273 125,-273 125,-243 190,-243 190,-273\"/>\n<text text-anchor=\"middle\" x=\"157.5\" y=\"-261\" font-family=\"monospace\" font-size=\"10.00\">0.weight</text>\n<text text-anchor=\"middle\" x=\"157.5\" y=\"-250\" font-family=\"monospace\" font-size=\"10.00\"> (1, 1)</text>\n</g>\n<!-- 135086867235280&#45;&gt;135082670065600 -->\n<g id=\"edge5\" class=\"edge\">\n<title>135086867235280&#45;&gt;135082670065600</title>\n<path fill=\"none\" stroke=\"black\" d=\"M157.5,-242.8C157.5,-233.7 157.5,-221.79 157.5,-211.9\"/>\n<polygon fill=\"black\" stroke=\"black\" points=\"161,-211.84 157.5,-201.84 154,-211.84 161,-211.84\"/>\n</g>\n</g>\n</svg>\n",
            "text/plain": [
              "<graphviz.graphs.Digraph at 0x7adb623a1210>"
            ]
          },
          "metadata": {},
          "execution_count": 56
        }
      ],
      "source": [
        "ypred = model(X)\n",
        "make_dot(ypred, params=dict(model.named_parameters()))"
      ]
    },
    {
      "cell_type": "markdown",
      "metadata": {
        "id": "dj5O-vqtZRLD"
      },
      "source": [
        "#### Setting Parameters"
      ]
    },
    {
      "cell_type": "code",
      "execution_count": 57,
      "metadata": {
        "id": "E8oQzxCnZRLE"
      },
      "outputs": [],
      "source": [
        "learningRate = 0.001\n",
        "lossfunc = nn.MSELoss()\n",
        "optimizer = torch.optim.SGD(model.parameters(), lr=learningRate,)"
      ]
    },
    {
      "cell_type": "markdown",
      "metadata": {
        "id": "YYW9Dp6IZRLE"
      },
      "source": [
        "#### Training Neural Network"
      ]
    },
    {
      "cell_type": "code",
      "execution_count": 61,
      "metadata": {
        "colab": {
          "base_uri": "https://localhost:8080/"
        },
        "id": "xFOjHKESZRLE",
        "outputId": "f77d1bbe-288c-4b4e-d470-2ca1ff84a6b9"
      },
      "outputs": [
        {
          "output_type": "stream",
          "name": "stdout",
          "text": [
            "Epoch: 0; Loss: 0.0000\n",
            "Epoch: 250; Loss: 0.0000\n",
            "Epoch: 500; Loss: 0.0000\n",
            "Epoch: 750; Loss: 0.0000\n",
            "Epoch: 1000; Loss: 0.0000\n",
            "Epoch: 1250; Loss: 0.0000\n",
            "Epoch: 1500; Loss: 0.0000\n",
            "Epoch: 1750; Loss: 0.0000\n",
            "Epoch: 2000; Loss: 0.0000\n",
            "Epoch: 2250; Loss: 0.0000\n",
            "Epoch: 2500; Loss: 0.0000\n",
            "Epoch: 2750; Loss: 0.0000\n",
            "Epoch: 3000; Loss: 0.0000\n",
            "Epoch: 3250; Loss: 0.0000\n",
            "Epoch: 3500; Loss: 0.0000\n",
            "Epoch: 3750; Loss: 0.0000\n",
            "Epoch: 4000; Loss: 0.0000\n",
            "Epoch: 4250; Loss: 0.0000\n",
            "Epoch: 4500; Loss: 0.0000\n",
            "Epoch: 4750; Loss: 0.0000\n"
          ]
        }
      ],
      "source": [
        "epochs = 5000\n",
        "losses = torch.zeros(epochs)\n",
        "\n",
        "for epoch in range(epochs):\n",
        "    # Forward propagation\n",
        "    ypred = model(X)\n",
        "    loss = lossfunc(ypred, y)\n",
        "\n",
        "    # Backward propagation\n",
        "    optimizer.zero_grad()\n",
        "    loss.backward()\n",
        "    optimizer.step()\n",
        "\n",
        "    # Record the loss\n",
        "    losses[epoch] = loss.detach()\n",
        "\n",
        "    if epoch % 250 == 0:\n",
        "        print(f'Epoch: {epoch}; Loss: {loss.item():.4f}')"
      ]
    },
    {
      "cell_type": "code",
      "execution_count": 62,
      "metadata": {
        "colab": {
          "base_uri": "https://localhost:8080/"
        },
        "id": "OwI7X4BYZRLE",
        "outputId": "df9bca28-9555-45a4-a4d9-5f2dd3cfbae5"
      },
      "outputs": [
        {
          "output_type": "execute_result",
          "data": {
            "text/plain": [
              "tensor([[  2.7741],\n",
              "        [-17.2044],\n",
              "        [ 21.4627],\n",
              "        [-19.9025],\n",
              "        [ 20.6541],\n",
              "        [  3.4097],\n",
              "        [ -3.2996],\n",
              "        [ -8.4794],\n",
              "        [ 26.1025],\n",
              "        [  7.6458],\n",
              "        [  1.5631],\n",
              "        [  4.4284],\n",
              "        [-18.7171],\n",
              "        [-26.9623],\n",
              "        [-24.8451],\n",
              "        [ 10.4065],\n",
              "        [-12.7961],\n",
              "        [-16.2200],\n",
              "        [ -3.1817],\n",
              "        [ -4.1107],\n",
              "        [ -8.4643],\n",
              "        [  9.1273],\n",
              "        [-14.9055],\n",
              "        [ -6.4915],\n",
              "        [  0.9516],\n",
              "        [ -7.9239],\n",
              "        [ -1.6298],\n",
              "        [ -1.9485],\n",
              "        [ -6.5632],\n",
              "        [-27.6160],\n",
              "        [  4.8423],\n",
              "        [-10.1442],\n",
              "        [  5.2943],\n",
              "        [ -3.2998],\n",
              "        [ -0.1903],\n",
              "        [  2.9433],\n",
              "        [ 11.5914],\n",
              "        [  2.4149],\n",
              "        [-14.2730],\n",
              "        [ -6.5306],\n",
              "        [ -4.2433],\n",
              "        [ 10.8147],\n",
              "        [ 14.8971],\n",
              "        [-20.0778],\n",
              "        [ -6.6160],\n",
              "        [ 22.2544],\n",
              "        [ -7.6716],\n",
              "        [  6.9997],\n",
              "        [-20.8356],\n",
              "        [-24.3079]], grad_fn=<AddmmBackward0>)"
            ]
          },
          "metadata": {},
          "execution_count": 62
        }
      ],
      "source": [
        "ypred"
      ]
    },
    {
      "cell_type": "code",
      "source": [
        "# Visualize computation graph (after training)\n",
        "make_dot(ypred, params=dict(model.named_parameters()))"
      ],
      "metadata": {
        "colab": {
          "base_uri": "https://localhost:8080/",
          "height": 396
        },
        "id": "enCbsYgMpIFh",
        "outputId": "e47cd3b3-94f4-4a63-cad0-2573a08d2e2c"
      },
      "execution_count": 63,
      "outputs": [
        {
          "output_type": "execute_result",
          "data": {
            "image/svg+xml": "<?xml version=\"1.0\" encoding=\"UTF-8\" standalone=\"no\"?>\n<!DOCTYPE svg PUBLIC \"-//W3C//DTD SVG 1.1//EN\"\n \"http://www.w3.org/Graphics/SVG/1.1/DTD/svg11.dtd\">\n<!-- Generated by graphviz version 2.43.0 (0)\n -->\n<!-- Title: %3 Pages: 1 -->\n<svg width=\"216pt\" height=\"281pt\"\n viewBox=\"0.00 0.00 216.00 281.00\" xmlns=\"http://www.w3.org/2000/svg\" xmlns:xlink=\"http://www.w3.org/1999/xlink\">\n<g id=\"graph0\" class=\"graph\" transform=\"scale(1 1) rotate(0) translate(4 277)\">\n<title>%3</title>\n<polygon fill=\"white\" stroke=\"transparent\" points=\"-4,4 -4,-277 212,-277 212,4 -4,4\"/>\n<!-- 135082665197008 -->\n<g id=\"node1\" class=\"node\">\n<title>135082665197008</title>\n<polygon fill=\"#caff70\" stroke=\"black\" points=\"136,-31 71,-31 71,0 136,0 136,-31\"/>\n<text text-anchor=\"middle\" x=\"103.5\" y=\"-7\" font-family=\"monospace\" font-size=\"10.00\"> (50, 1)</text>\n</g>\n<!-- 135082670066032 -->\n<g id=\"node2\" class=\"node\">\n<title>135082670066032</title>\n<polygon fill=\"lightgrey\" stroke=\"black\" points=\"154,-86 53,-86 53,-67 154,-67 154,-86\"/>\n<text text-anchor=\"middle\" x=\"103.5\" y=\"-74\" font-family=\"monospace\" font-size=\"10.00\">AddmmBackward0</text>\n</g>\n<!-- 135082670066032&#45;&gt;135082665197008 -->\n<g id=\"edge6\" class=\"edge\">\n<title>135082670066032&#45;&gt;135082665197008</title>\n<path fill=\"none\" stroke=\"black\" d=\"M103.5,-66.79C103.5,-60.07 103.5,-50.4 103.5,-41.34\"/>\n<polygon fill=\"black\" stroke=\"black\" points=\"107,-41.19 103.5,-31.19 100,-41.19 107,-41.19\"/>\n</g>\n<!-- 135082670072560 -->\n<g id=\"node3\" class=\"node\">\n<title>135082670072560</title>\n<polygon fill=\"lightgrey\" stroke=\"black\" points=\"101,-141 0,-141 0,-122 101,-122 101,-141\"/>\n<text text-anchor=\"middle\" x=\"50.5\" y=\"-129\" font-family=\"monospace\" font-size=\"10.00\">AccumulateGrad</text>\n</g>\n<!-- 135082670072560&#45;&gt;135082670066032 -->\n<g id=\"edge1\" class=\"edge\">\n<title>135082670072560&#45;&gt;135082670066032</title>\n<path fill=\"none\" stroke=\"black\" d=\"M59.25,-121.75C66.97,-114.03 78.4,-102.6 87.72,-93.28\"/>\n<polygon fill=\"black\" stroke=\"black\" points=\"90.31,-95.64 94.91,-86.09 85.36,-90.69 90.31,-95.64\"/>\n</g>\n<!-- 135082664152432 -->\n<g id=\"node4\" class=\"node\">\n<title>135082664152432</title>\n<polygon fill=\"lightblue\" stroke=\"black\" points=\"77.5,-207 23.5,-207 23.5,-177 77.5,-177 77.5,-207\"/>\n<text text-anchor=\"middle\" x=\"50.5\" y=\"-195\" font-family=\"monospace\" font-size=\"10.00\">0.bias</text>\n<text text-anchor=\"middle\" x=\"50.5\" y=\"-184\" font-family=\"monospace\" font-size=\"10.00\"> (1)</text>\n</g>\n<!-- 135082664152432&#45;&gt;135082670072560 -->\n<g id=\"edge2\" class=\"edge\">\n<title>135082664152432&#45;&gt;135082670072560</title>\n<path fill=\"none\" stroke=\"black\" d=\"M50.5,-176.84C50.5,-169.21 50.5,-159.7 50.5,-151.45\"/>\n<polygon fill=\"black\" stroke=\"black\" points=\"54,-151.27 50.5,-141.27 47,-151.27 54,-151.27\"/>\n</g>\n<!-- 135082670068384 -->\n<g id=\"node5\" class=\"node\">\n<title>135082670068384</title>\n<polygon fill=\"lightgrey\" stroke=\"black\" points=\"196,-141 119,-141 119,-122 196,-122 196,-141\"/>\n<text text-anchor=\"middle\" x=\"157.5\" y=\"-129\" font-family=\"monospace\" font-size=\"10.00\">TBackward0</text>\n</g>\n<!-- 135082670068384&#45;&gt;135082670066032 -->\n<g id=\"edge3\" class=\"edge\">\n<title>135082670068384&#45;&gt;135082670066032</title>\n<path fill=\"none\" stroke=\"black\" d=\"M148.58,-121.75C140.72,-114.03 129.07,-102.6 119.58,-93.28\"/>\n<polygon fill=\"black\" stroke=\"black\" points=\"121.84,-90.6 112.25,-86.09 116.94,-95.59 121.84,-90.6\"/>\n</g>\n<!-- 135082670068288 -->\n<g id=\"node6\" class=\"node\">\n<title>135082670068288</title>\n<polygon fill=\"lightgrey\" stroke=\"black\" points=\"208,-201.5 107,-201.5 107,-182.5 208,-182.5 208,-201.5\"/>\n<text text-anchor=\"middle\" x=\"157.5\" y=\"-189.5\" font-family=\"monospace\" font-size=\"10.00\">AccumulateGrad</text>\n</g>\n<!-- 135082670068288&#45;&gt;135082670068384 -->\n<g id=\"edge4\" class=\"edge\">\n<title>135082670068288&#45;&gt;135082670068384</title>\n<path fill=\"none\" stroke=\"black\" d=\"M157.5,-182.37C157.5,-174.25 157.5,-161.81 157.5,-151.39\"/>\n<polygon fill=\"black\" stroke=\"black\" points=\"161,-151.17 157.5,-141.17 154,-151.17 161,-151.17\"/>\n</g>\n<!-- 135086867235280 -->\n<g id=\"node7\" class=\"node\">\n<title>135086867235280</title>\n<polygon fill=\"lightblue\" stroke=\"black\" points=\"190,-273 125,-273 125,-243 190,-243 190,-273\"/>\n<text text-anchor=\"middle\" x=\"157.5\" y=\"-261\" font-family=\"monospace\" font-size=\"10.00\">0.weight</text>\n<text text-anchor=\"middle\" x=\"157.5\" y=\"-250\" font-family=\"monospace\" font-size=\"10.00\"> (1, 1)</text>\n</g>\n<!-- 135086867235280&#45;&gt;135082670068288 -->\n<g id=\"edge5\" class=\"edge\">\n<title>135086867235280&#45;&gt;135082670068288</title>\n<path fill=\"none\" stroke=\"black\" d=\"M157.5,-242.8C157.5,-233.7 157.5,-221.79 157.5,-211.9\"/>\n<polygon fill=\"black\" stroke=\"black\" points=\"161,-211.84 157.5,-201.84 154,-211.84 161,-211.84\"/>\n</g>\n</g>\n</svg>\n",
            "text/plain": [
              "<graphviz.graphs.Digraph at 0x7adb623924d0>"
            ]
          },
          "metadata": {},
          "execution_count": 63
        }
      ]
    },
    {
      "cell_type": "markdown",
      "metadata": {
        "id": "ALHgJqqzmxrN"
      },
      "source": [
        "#### Loss vs Epoch"
      ]
    },
    {
      "cell_type": "code",
      "execution_count": 64,
      "metadata": {
        "id": "xiNyNmcwZRLF",
        "colab": {
          "base_uri": "https://localhost:8080/",
          "height": 570
        },
        "outputId": "04317903-a12e-44f2-b9a5-75dc268bb119"
      },
      "outputs": [
        {
          "output_type": "display_data",
          "data": {
            "text/plain": [
              "<Figure size 1200x600 with 1 Axes>"
            ],
            "image/png": "[encoded data removed]"
          },
          "metadata": {}
        }
      ],
      "source": [
        "plt.figure(figsize=(12, 6))\n",
        "plt.plot(np.arange(epochs), losses.detach(), 'm', lw=3)\n",
        "plt.xlabel('Epochs', fontsize=15)\n",
        "plt.ylabel('Loss', fontsize=15)\n",
        "plt.title('Loss vs. Epochs')\n",
        "plt.show()"
      ]
    },
    {
      "cell_type": "markdown",
      "metadata": {
        "id": "tF2V3f99mxrN"
      },
      "source": [
        "#### Weights and Bias of training model"
      ]
    },
    {
      "cell_type": "code",
      "execution_count": 66,
      "metadata": {
        "colab": {
          "base_uri": "https://localhost:8080/"
        },
        "id": "6zLbGybdmxrN",
        "outputId": "99aac6c8-0831-41ea-d1b3-5dc0fa52d239"
      },
      "outputs": [
        {
          "output_type": "stream",
          "name": "stdout",
          "text": [
            "Trained Weight: [[14.092144]]\n",
            "Trained Bias: [-6.262244e-05]\n"
          ]
        }
      ],
      "source": [
        "# We have only 1 layer\n",
        "print(f\"Trained Weight: {model[0].weight.detach().numpy()}\")\n",
        "print(f\"Trained Bias: {model[0].bias.detach().numpy()}\")"
      ]
    },
    {
      "cell_type": "markdown",
      "metadata": {
        "id": "VwIiZKGdmxrN"
      },
      "source": [
        "#### Create test data"
      ]
    },
    {
      "cell_type": "code",
      "execution_count": 67,
      "metadata": {
        "id": "aE44xSlXmxrN"
      },
      "outputs": [],
      "source": [
        "test_data = np.linspace(-3, 3, 50).reshape(-1, 1)\n",
        "X_test = torch.tensor(test_data, dtype=torch.float32)\n",
        "y_test = model(X_test)"
      ]
    },
    {
      "cell_type": "code",
      "execution_count": 68,
      "metadata": {
        "colab": {
          "base_uri": "https://localhost:8080/",
          "height": 570
        },
        "id": "RZ7mGdVNmxrN",
        "outputId": "5154738b-3b5b-4653-e0ff-58d747a34a81"
      },
      "outputs": [
        {
          "output_type": "display_data",
          "data": {
            "text/plain": [
              "<Figure size 1200x600 with 1 Axes>"
            ],
            "image/png": "[encoded data removed]"
          },
          "metadata": {}
        }
      ],
      "source": [
        "# Plot predictions\n",
        "plt.figure(figsize=(12, 6))\n",
        "plt.scatter(X, y, label='Training Data')\n",
        "plt.plot(X_test, y_test.detach(), 'r', label='Predicted Line')\n",
        "plt.legend(fontsize=15)\n",
        "plt.xlabel('X', fontsize=15)\n",
        "plt.ylabel('y', fontsize=15)\n",
        "plt.title('Model Fit')\n",
        "plt.show()"
      ]
    },
    {
      "cell_type": "markdown",
      "metadata": {
        "id": "gdMD_YB5mxrN"
      },
      "source": [
        "#### Performance"
      ]
    },
    {
      "cell_type": "code",
      "execution_count": 72,
      "metadata": {
        "colab": {
          "base_uri": "https://localhost:8080/"
        },
        "id": "p2bD-a_xmxrN",
        "outputId": "af64dee5-d508-4162-9782-d34d98d622c8"
      },
      "outputs": [
        {
          "output_type": "stream",
          "name": "stdout",
          "text": [
            "Training Data RMSE: 29.0553\n",
            "Training Data MAE: 22.9576\n",
            "Training Data R²: -3.9759\n"
          ]
        }
      ],
      "source": [
        "from sklearn import metrics\n",
        "print(f'Training Data RMSE: {np.sqrt(metrics.mean_squared_error(y.detach().numpy(), y_test.detach().numpy())):.4f}')\n",
        "print(f'Training Data MAE: {metrics.mean_absolute_error(y.detach().numpy(), y_test.detach().numpy()):.4f}')\n",
        "print(f'Training Data R²: {metrics.r2_score(y.detach().numpy(), y_test.detach().numpy()):.4f}')"
      ]
    },
    {
      "cell_type": "code",
      "execution_count": null,
      "metadata": {
        "id": "UHv131fHmxrO"
      },
      "outputs": [],
      "source": []
    }
  ],
  "metadata": {
    "colab": {
      "provenance": []
    },
    "kernelspec": {
      "display_name": "Python 3",
      "language": "python",
      "name": "python3"
    },
    "language_info": {
      "codemirror_mode": {
        "name": "ipython",
        "version": 3
      },
      "file_extension": ".py",
      "mimetype": "text/x-python",
      "name": "python",
      "nbconvert_exporter": "python",
      "pygments_lexer": "ipython3",
      "version": "3.9.21"
    }
  },
  "nbformat": 4,
  "nbformat_minor": 0
}