{
  "cells": [
    {
      "cell_type": "code",
      "execution_count": 13,
      "metadata": {
        "id": "O7BXRcdUjN6n"
      },
      "outputs": [],
      "source": [
        "!pip install torchviz==0.0.3 -q"
      ]
    },
    {
      "cell_type": "code",
      "execution_count": 14,
      "metadata": {
        "id": "7P146sp3jN6o"
      },
      "outputs": [],
      "source": [
        "import torch\n",
        "import torch.nn as nn\n",
        "import torch.nn.functional as F\n",
        "from torch.utils.data import dataloader, TensorDataset\n",
        "from sklearn.model_selection import train_test_split\n",
        "import numpy as np\n",
        "import pandas as pd\n",
        "import matplotlib.pyplot as plt\n",
        "import seaborn as sns\n",
        "from torchviz import make_dot"
      ]
    },
    {
      "cell_type": "markdown",
      "metadata": {
        "id": "2m2nZQcRjN6p"
      },
      "source": [
        "#### Load dataset"
      ]
    },
    {
      "cell_type": "code",
      "execution_count": 15,
      "metadata": {
        "colab": {
          "base_uri": "https://localhost:8080/",
          "height": 206
        },
        "id": "9wLhqNWkjN6r",
        "outputId": "1bde634b-393d-4320-e5a3-b901cd1f15ea"
      },
      "outputs": [
        {
          "data": {
            "application/vnd.google.colaboratory.intrinsic+json": {
              "summary": "{\n  \"name\": \"iris\",\n  \"rows\": 150,\n  \"fields\": [\n    {\n      \"column\": \"sepal_length\",\n      \"properties\": {\n        \"dtype\": \"number\",\n        \"std\": 0.8280661279778629,\n        \"min\": 4.3,\n        \"max\": 7.9,\n        \"num_unique_values\": 35,\n        \"samples\": [\n          6.2,\n          4.5,\n          5.6\n        ],\n        \"semantic_type\": \"\",\n        \"description\": \"\"\n      }\n    },\n    {\n      \"column\": \"sepal_width\",\n      \"properties\": {\n        \"dtype\": \"number\",\n        \"std\": 0.435866284936698,\n        \"min\": 2.0,\n        \"max\": 4.4,\n        \"num_unique_values\": 23,\n        \"samples\": [\n          2.3,\n          4.0,\n          3.5\n        ],\n        \"semantic_type\": \"\",\n        \"description\": \"\"\n      }\n    },\n    {\n      \"column\": \"petal_length\",\n      \"properties\": {\n        \"dtype\": \"number\",\n        \"std\": 1.7652982332594667,\n        \"min\": 1.0,\n        \"max\": 6.9,\n        \"num_unique_values\": 43,\n        \"samples\": [\n          6.7,\n          3.8,\n          3.7\n        ],\n        \"semantic_type\": \"\",\n        \"description\": \"\"\n      }\n    },\n    {\n      \"column\": \"petal_width\",\n      \"properties\": {\n        \"dtype\": \"number\",\n        \"std\": 0.7622376689603465,\n        \"min\": 0.1,\n        \"max\": 2.5,\n        \"num_unique_values\": 22,\n        \"samples\": [\n          0.2,\n          1.2,\n          1.3\n        ],\n        \"semantic_type\": \"\",\n        \"description\": \"\"\n      }\n    },\n    {\n      \"column\": \"species\",\n      \"properties\": {\n        \"dtype\": \"category\",\n        \"num_unique_values\": 3,\n        \"samples\": [\n          \"setosa\",\n          \"versicolor\",\n          \"virginica\"\n        ],\n        \"semantic_type\": \"\",\n        \"description\": \"\"\n      }\n    }\n  ]\n}",
              "type": "dataframe",
              "variable_name": "iris"
            },
            "text/html": [
              "\n",
              "  <div id=\"df-7a2ec845-792d-4c79-965f-733a93ccf432\" class=\"colab-df-container\">\n",
              "    <div>\n",
              "<style scoped>\n",
              "    .dataframe tbody tr th:only-of-type {\n",
              "        vertical-align: middle;\n",
              "    }\n",
              "\n",
              "    .dataframe tbody tr th {\n",
              "        vertical-align: top;\n",
              "    }\n",
              "\n",
              "    .dataframe thead th {\n",
              "        text-align: right;\n",
              "    }\n",
              "</style>\n",
              "<table border=\"1\" class=\"dataframe\">\n",
              "  <thead>\n",
              "    <tr style=\"text-align: right;\">\n",
              "      <th></th>\n",
              "      <th>sepal_length</th>\n",
              "      <th>sepal_width</th>\n",
              "      <th>petal_length</th>\n",
              "      <th>petal_width</th>\n",
              "      <th>species</th>\n",
              "    </tr>\n",
              "  </thead>\n",
              "  <tbody>\n",
              "    <tr>\n",
              "      <th>0</th>\n",
              "      <td>5.1</td>\n",
              "      <td>3.5</td>\n",
              "      <td>1.4</td>\n",
              "      <td>0.2</td>\n",
              "      <td>setosa</td>\n",
              "    </tr>\n",
              "    <tr>\n",
              "      <th>1</th>\n",
              "      <td>4.9</td>\n",
              "      <td>3.0</td>\n",
              "      <td>1.4</td>\n",
              "      <td>0.2</td>\n",
              "      <td>setosa</td>\n",
              "    </tr>\n",
              "    <tr>\n",
              "      <th>2</th>\n",
              "      <td>4.7</td>\n",
              "      <td>3.2</td>\n",
              "      <td>1.3</td>\n",
              "      <td>0.2</td>\n",
              "      <td>setosa</td>\n",
              "    </tr>\n",
              "    <tr>\n",
              "      <th>3</th>\n",
              "      <td>4.6</td>\n",
              "      <td>3.1</td>\n",
              "      <td>1.5</td>\n",
              "      <td>0.2</td>\n",
              "      <td>setosa</td>\n",
              "    </tr>\n",
              "    <tr>\n",
              "      <th>4</th>\n",
              "      <td>5.0</td>\n",
              "      <td>3.6</td>\n",
              "      <td>1.4</td>\n",
              "      <td>0.2</td>\n",
              "      <td>setosa</td>\n",
              "    </tr>\n",
              "  </tbody>\n",
              "</table>\n",
              "</div>\n",
              "    <div class=\"colab-df-buttons\">\n",
              "\n",
              "  <div class=\"colab-df-container\">\n",
              "    <button class=\"colab-df-convert\" onclick=\"convertToInteractive('df-7a2ec845-792d-4c79-965f-733a93ccf432')\"\n",
              "            title=\"Convert this dataframe to an interactive table.\"\n",
              "            style=\"display:none;\">\n",
              "\n",
              "  <svg xmlns=\"http://www.w3.org/2000/svg\" height=\"24px\" viewBox=\"0 -960 960 960\">\n",
              "    <path d=\"M120-120v-720h720v720H120Zm60-500h600v-160H180v160Zm220 220h160v-160H400v160Zm0 220h160v-160H400v160ZM180-400h160v-160H180v160Zm440 0h160v-160H620v160ZM180-180h160v-160H180v160Zm440 0h160v-160H620v160Z\"/>\n",
              "  </svg>\n",
              "    </button>\n",
              "\n",
              "  <style>\n",
              "    .colab-df-container {\n",
              "      display:flex;\n",
              "      gap: 12px;\n",
              "    }\n",
              "\n",
              "    .colab-df-convert {\n",
              "      background-color: #E8F0FE;\n",
              "      border: none;\n",
              "      border-radius: 50%;\n",
              "      cursor: pointer;\n",
              "      display: none;\n",
              "      fill: #1967D2;\n",
              "      height: 32px;\n",
              "      padding: 0 0 0 0;\n",
              "      width: 32px;\n",
              "    }\n",
              "\n",
              "    .colab-df-convert:hover {\n",
              "      background-color: #E2EBFA;\n",
              "      box-shadow: 0px 1px 2px rgba(60, 64, 67, 0.3), 0px 1px 3px 1px rgba(60, 64, 67, 0.15);\n",
              "      fill: #174EA6;\n",
              "    }\n",
              "\n",
              "    .colab-df-buttons div {\n",
              "      margin-bottom: 4px;\n",
              "    }\n",
              "\n",
              "    [theme=dark] .colab-df-convert {\n",
              "      background-color: #3B4455;\n",
              "      fill: #D2E3FC;\n",
              "    }\n",
              "\n",
              "    [theme=dark] .colab-df-convert:hover {\n",
              "      background-color: #434B5C;\n",
              "      box-shadow: 0px 1px 3px 1px rgba(0, 0, 0, 0.15);\n",
              "      filter: drop-shadow(0px 1px 2px rgba(0, 0, 0, 0.3));\n",
              "      fill: #FFFFFF;\n",
              "    }\n",
              "  </style>\n",
              "\n",
              "    <script>\n",
              "      const buttonEl =\n",
              "        document.querySelector('#df-7a2ec845-792d-4c79-965f-733a93ccf432 button.colab-df-convert');\n",
              "      buttonEl.style.display =\n",
              "        google.colab.kernel.accessAllowed ? 'block' : 'none';\n",
              "\n",
              "      async function convertToInteractive(key) {\n",
              "        const element = document.querySelector('#df-7a2ec845-792d-4c79-965f-733a93ccf432');\n",
              "        const dataTable =\n",
              "          await google.colab.kernel.invokeFunction('convertToInteractive',\n",
              "                                                    [key], {});\n",
              "        if (!dataTable) return;\n",
              "\n",
              "        const docLinkHtml = 'Like what you see? Visit the ' +\n",
              "          '<a target=\"_blank\" href=https://colab.research.google.com/notebooks/data_table.ipynb>data table notebook</a>'\n",
              "          + ' to learn more about interactive tables.';\n",
              "        element.innerHTML = '';\n",
              "        dataTable['output_type'] = 'display_data';\n",
              "        await google.colab.output.renderOutput(dataTable, element);\n",
              "        const docLink = document.createElement('div');\n",
              "        docLink.innerHTML = docLinkHtml;\n",
              "        element.appendChild(docLink);\n",
              "      }\n",
              "    </script>\n",
              "  </div>\n",
              "\n",
              "\n",
              "<div id=\"df-91f397d3-8f08-4f30-8dd7-2fa491e619c5\">\n",
              "  <button class=\"colab-df-quickchart\" onclick=\"quickchart('df-91f397d3-8f08-4f30-8dd7-2fa491e619c5')\"\n",
              "            title=\"Suggest charts\"\n",
              "            style=\"display:none;\">\n",
              "\n",
              "<svg xmlns=\"http://www.w3.org/2000/svg\" height=\"24px\"viewBox=\"0 0 24 24\"\n",
              "     width=\"24px\">\n",
              "    <g>\n",
              "        <path d=\"M19 3H5c-1.1 0-2 .9-2 2v14c0 1.1.9 2 2 2h14c1.1 0 2-.9 2-2V5c0-1.1-.9-2-2-2zM9 17H7v-7h2v7zm4 0h-2V7h2v10zm4 0h-2v-4h2v4z\"/>\n",
              "    </g>\n",
              "</svg>\n",
              "  </button>\n",
              "\n",
              "<style>\n",
              "  .colab-df-quickchart {\n",
              "      --bg-color: #E8F0FE;\n",
              "      --fill-color: #1967D2;\n",
              "      --hover-bg-color: #E2EBFA;\n",
              "      --hover-fill-color: #174EA6;\n",
              "      --disabled-fill-color: #AAA;\n",
              "      --disabled-bg-color: #DDD;\n",
              "  }\n",
              "\n",
              "  [theme=dark] .colab-df-quickchart {\n",
              "      --bg-color: #3B4455;\n",
              "      --fill-color: #D2E3FC;\n",
              "      --hover-bg-color: #434B5C;\n",
              "      --hover-fill-color: #FFFFFF;\n",
              "      --disabled-bg-color: #3B4455;\n",
              "      --disabled-fill-color: #666;\n",
              "  }\n",
              "\n",
              "  .colab-df-quickchart {\n",
              "    background-color: var(--bg-color);\n",
              "    border: none;\n",
              "    border-radius: 50%;\n",
              "    cursor: pointer;\n",
              "    display: none;\n",
              "    fill: var(--fill-color);\n",
              "    height: 32px;\n",
              "    padding: 0;\n",
              "    width: 32px;\n",
              "  }\n",
              "\n",
              "  .colab-df-quickchart:hover {\n",
              "    background-color: var(--hover-bg-color);\n",
              "    box-shadow: 0 1px 2px rgba(60, 64, 67, 0.3), 0 1px 3px 1px rgba(60, 64, 67, 0.15);\n",
              "    fill: var(--button-hover-fill-color);\n",
              "  }\n",
              "\n",
              "  .colab-df-quickchart-complete:disabled,\n",
              "  .colab-df-quickchart-complete:disabled:hover {\n",
              "    background-color: var(--disabled-bg-color);\n",
              "    fill: var(--disabled-fill-color);\n",
              "    box-shadow: none;\n",
              "  }\n",
              "\n",
              "  .colab-df-spinner {\n",
              "    border: 2px solid var(--fill-color);\n",
              "    border-color: transparent;\n",
              "    border-bottom-color: var(--fill-color);\n",
              "    animation:\n",
              "      spin 1s steps(1) infinite;\n",
              "  }\n",
              "\n",
              "  @keyframes spin {\n",
              "    0% {\n",
              "      border-color: transparent;\n",
              "      border-bottom-color: var(--fill-color);\n",
              "      border-left-color: var(--fill-color);\n",
              "    }\n",
              "    20% {\n",
              "      border-color: transparent;\n",
              "      border-left-color: var(--fill-color);\n",
              "      border-top-color: var(--fill-color);\n",
              "    }\n",
              "    30% {\n",
              "      border-color: transparent;\n",
              "      border-left-color: var(--fill-color);\n",
              "      border-top-color: var(--fill-color);\n",
              "      border-right-color: var(--fill-color);\n",
              "    }\n",
              "    40% {\n",
              "      border-color: transparent;\n",
              "      border-right-color: var(--fill-color);\n",
              "      border-top-color: var(--fill-color);\n",
              "    }\n",
              "    60% {\n",
              "      border-color: transparent;\n",
              "      border-right-color: var(--fill-color);\n",
              "    }\n",
              "    80% {\n",
              "      border-color: transparent;\n",
              "      border-right-color: var(--fill-color);\n",
              "      border-bottom-color: var(--fill-color);\n",
              "    }\n",
              "    90% {\n",
              "      border-color: transparent;\n",
              "      border-bottom-color: var(--fill-color);\n",
              "    }\n",
              "  }\n",
              "</style>\n",
              "\n",
              "  <script>\n",
              "    async function quickchart(key) {\n",
              "      const quickchartButtonEl =\n",
              "        document.querySelector('#' + key + ' button');\n",
              "      quickchartButtonEl.disabled = true;  // To prevent multiple clicks.\n",
              "      quickchartButtonEl.classList.add('colab-df-spinner');\n",
              "      try {\n",
              "        const charts = await google.colab.kernel.invokeFunction(\n",
              "            'suggestCharts', [key], {});\n",
              "      } catch (error) {\n",
              "        console.error('Error during call to suggestCharts:', error);\n",
              "      }\n",
              "      quickchartButtonEl.classList.remove('colab-df-spinner');\n",
              "      quickchartButtonEl.classList.add('colab-df-quickchart-complete');\n",
              "    }\n",
              "    (() => {\n",
              "      let quickchartButtonEl =\n",
              "        document.querySelector('#df-91f397d3-8f08-4f30-8dd7-2fa491e619c5 button');\n",
              "      quickchartButtonEl.style.display =\n",
              "        google.colab.kernel.accessAllowed ? 'block' : 'none';\n",
              "    })();\n",
              "  </script>\n",
              "</div>\n",
              "\n",
              "    </div>\n",
              "  </div>\n"
            ],
            "text/plain": [
              "   sepal_length  sepal_width  petal_length  petal_width species\n",
              "0           5.1          3.5           1.4          0.2  setosa\n",
              "1           4.9          3.0           1.4          0.2  setosa\n",
              "2           4.7          3.2           1.3          0.2  setosa\n",
              "3           4.6          3.1           1.5          0.2  setosa\n",
              "4           5.0          3.6           1.4          0.2  setosa"
            ]
          },
          "execution_count": 15,
          "metadata": {},
          "output_type": "execute_result"
        }
      ],
      "source": [
        "iris = sns.load_dataset('iris')\n",
        "iris.head()"
      ]
    },
    {
      "cell_type": "code",
      "execution_count": 16,
      "metadata": {
        "colab": {
          "base_uri": "https://localhost:8080/"
        },
        "id": "P97cg34qjN6r",
        "outputId": "b59af79e-3fbc-4575-ce54-69d88e0ec909"
      },
      "outputs": [
        {
          "data": {
            "text/plain": [
              "(   sepal_length  sepal_width  petal_length  petal_width\n",
              " 0           5.1          3.5           1.4          0.2\n",
              " 1           4.9          3.0           1.4          0.2\n",
              " 2           4.7          3.2           1.3          0.2\n",
              " 3           4.6          3.1           1.5          0.2\n",
              " 4           5.0          3.6           1.4          0.2,\n",
              " (150, 4),\n",
              " sepal_length    float64\n",
              " sepal_width     float64\n",
              " petal_length    float64\n",
              " petal_width     float64\n",
              " dtype: object,\n",
              " pandas.core.frame.DataFrame)"
            ]
          },
          "execution_count": 16,
          "metadata": {},
          "output_type": "execute_result"
        }
      ],
      "source": [
        "iris = iris.drop(columns=['species'])\n",
        "iris.head(), iris.shape, iris.dtypes, type(iris)"
      ]
    },
    {
      "cell_type": "code",
      "execution_count": 17,
      "metadata": {
        "colab": {
          "base_uri": "https://localhost:8080/"
        },
        "id": "1n50Z1I2jN6s",
        "outputId": "cf6128e2-b3f7-491a-f34b-c7ba503cb862"
      },
      "outputs": [
        {
          "data": {
            "text/plain": [
              "(     sepal_length  sepal_width  petal_length\n",
              " 0             5.1          3.5           1.4\n",
              " 1             4.9          3.0           1.4\n",
              " 2             4.7          3.2           1.3\n",
              " 3             4.6          3.1           1.5\n",
              " 4             5.0          3.6           1.4\n",
              " ..            ...          ...           ...\n",
              " 145           6.7          3.0           5.2\n",
              " 146           6.3          2.5           5.0\n",
              " 147           6.5          3.0           5.2\n",
              " 148           6.2          3.4           5.4\n",
              " 149           5.9          3.0           5.1\n",
              " \n",
              " [150 rows x 3 columns],\n",
              " 0      0.2\n",
              " 1      0.2\n",
              " 2      0.2\n",
              " 3      0.2\n",
              " 4      0.2\n",
              "       ... \n",
              " 145    2.3\n",
              " 146    1.9\n",
              " 147    2.0\n",
              " 148    2.3\n",
              " 149    1.8\n",
              " Name: petal_width, Length: 150, dtype: float64)"
            ]
          },
          "execution_count": 17,
          "metadata": {},
          "output_type": "execute_result"
        }
      ],
      "source": [
        "X = iris.iloc[:, :-1]\n",
        "y = iris.iloc[:, -1]\n",
        "X, y"
      ]
    },
    {
      "cell_type": "markdown",
      "metadata": {
        "id": "Pn0grhjkjN6s"
      },
      "source": [
        "# Visualize each feature"
      ]
    },
    {
      "cell_type": "code",
      "execution_count": 18,
      "metadata": {
        "colab": {
          "base_uri": "https://localhost:8080/",
          "height": 414
        },
        "id": "JrrGL2sEjN6t",
        "outputId": "c2808e90-e802-4e8a-ed14-fcb3bb7185f7"
      },
      "outputs": [
        {
          "data": {
            "image/png": "[encoded data removed]",
            "text/plain": [
              "<Figure size 1200x400 with 3 Axes>"
            ]
          },
          "metadata": {},
          "output_type": "display_data"
        }
      ],
      "source": [
        "fig,axes = plt.subplots(nrows=1,ncols=3,figsize=(12,4))\n",
        "plt.suptitle('Inspecting Each Feature', fontsize = 30)\n",
        "\n",
        "axes[0].plot(X['sepal_length'],y,'mo')\n",
        "axes[0].set_ylabel(\"petal_width\", fontsize = 15)\n",
        "axes[0].set_xlabel(\"sepal_length\", fontsize = 15)\n",
        "\n",
        "axes[1].plot(X['sepal_width'],y,'bo')\n",
        "axes[1].set_ylabel(\"petal_width\", fontsize = 15)\n",
        "axes[1].set_xlabel(\"sepal_width\", fontsize = 15)\n",
        "\n",
        "\n",
        "axes[2].plot(X['petal_length'],y,'go')\n",
        "axes[2].set_ylabel('petal_width', fontsize = 15)\n",
        "axes[2].set_xlabel(\"petal_length\", fontsize = 15)\n",
        "\n",
        "plt.tight_layout()"
      ]
    },
    {
      "cell_type": "code",
      "execution_count": 19,
      "metadata": {
        "colab": {
          "base_uri": "https://localhost:8080/"
        },
        "id": "8zCb_BWWjN6u",
        "outputId": "808a647d-d03f-4d68-e949-27ed2e8d8df3"
      },
      "outputs": [
        {
          "data": {
            "text/plain": [
              "array([[0.2],\n",
              "       [0.2],\n",
              "       [0.2],\n",
              "       [0.2],\n",
              "       [0.2],\n",
              "       [0.4],\n",
              "       [0.3],\n",
              "       [0.2],\n",
              "       [0.2],\n",
              "       [0.1],\n",
              "       [0.2],\n",
              "       [0.2],\n",
              "       [0.1],\n",
              "       [0.1],\n",
              "       [0.2],\n",
              "       [0.4],\n",
              "       [0.4],\n",
              "       [0.3],\n",
              "       [0.3],\n",
              "       [0.3],\n",
              "       [0.2],\n",
              "       [0.4],\n",
              "       [0.2],\n",
              "       [0.5],\n",
              "       [0.2],\n",
              "       [0.2],\n",
              "       [0.4],\n",
              "       [0.2],\n",
              "       [0.2],\n",
              "       [0.2],\n",
              "       [0.2],\n",
              "       [0.4],\n",
              "       [0.1],\n",
              "       [0.2],\n",
              "       [0.2],\n",
              "       [0.2],\n",
              "       [0.2],\n",
              "       [0.1],\n",
              "       [0.2],\n",
              "       [0.2],\n",
              "       [0.3],\n",
              "       [0.3],\n",
              "       [0.2],\n",
              "       [0.6],\n",
              "       [0.4],\n",
              "       [0.3],\n",
              "       [0.2],\n",
              "       [0.2],\n",
              "       [0.2],\n",
              "       [0.2],\n",
              "       [1.4],\n",
              "       [1.5],\n",
              "       [1.5],\n",
              "       [1.3],\n",
              "       [1.5],\n",
              "       [1.3],\n",
              "       [1.6],\n",
              "       [1. ],\n",
              "       [1.3],\n",
              "       [1.4],\n",
              "       [1. ],\n",
              "       [1.5],\n",
              "       [1. ],\n",
              "       [1.4],\n",
              "       [1.3],\n",
              "       [1.4],\n",
              "       [1.5],\n",
              "       [1. ],\n",
              "       [1.5],\n",
              "       [1.1],\n",
              "       [1.8],\n",
              "       [1.3],\n",
              "       [1.5],\n",
              "       [1.2],\n",
              "       [1.3],\n",
              "       [1.4],\n",
              "       [1.4],\n",
              "       [1.7],\n",
              "       [1.5],\n",
              "       [1. ],\n",
              "       [1.1],\n",
              "       [1. ],\n",
              "       [1.2],\n",
              "       [1.6],\n",
              "       [1.5],\n",
              "       [1.6],\n",
              "       [1.5],\n",
              "       [1.3],\n",
              "       [1.3],\n",
              "       [1.3],\n",
              "       [1.2],\n",
              "       [1.4],\n",
              "       [1.2],\n",
              "       [1. ],\n",
              "       [1.3],\n",
              "       [1.2],\n",
              "       [1.3],\n",
              "       [1.3],\n",
              "       [1.1],\n",
              "       [1.3],\n",
              "       [2.5],\n",
              "       [1.9],\n",
              "       [2.1],\n",
              "       [1.8],\n",
              "       [2.2],\n",
              "       [2.1],\n",
              "       [1.7],\n",
              "       [1.8],\n",
              "       [1.8],\n",
              "       [2.5],\n",
              "       [2. ],\n",
              "       [1.9],\n",
              "       [2.1],\n",
              "       [2. ],\n",
              "       [2.4],\n",
              "       [2.3],\n",
              "       [1.8],\n",
              "       [2.2],\n",
              "       [2.3],\n",
              "       [1.5],\n",
              "       [2.3],\n",
              "       [2. ],\n",
              "       [2. ],\n",
              "       [1.8],\n",
              "       [2.1],\n",
              "       [1.8],\n",
              "       [1.8],\n",
              "       [1.8],\n",
              "       [2.1],\n",
              "       [1.6],\n",
              "       [1.9],\n",
              "       [2. ],\n",
              "       [2.2],\n",
              "       [1.5],\n",
              "       [1.4],\n",
              "       [2.3],\n",
              "       [2.4],\n",
              "       [1.8],\n",
              "       [1.8],\n",
              "       [2.1],\n",
              "       [2.4],\n",
              "       [2.3],\n",
              "       [1.9],\n",
              "       [2.3],\n",
              "       [2.5],\n",
              "       [2.3],\n",
              "       [1.9],\n",
              "       [2. ],\n",
              "       [2.3],\n",
              "       [1.8]])"
            ]
          },
          "execution_count": 19,
          "metadata": {},
          "output_type": "execute_result"
        }
      ],
      "source": [
        "y = y.values.reshape(-1, 1)\n",
        "y"
      ]
    },
    {
      "cell_type": "markdown",
      "metadata": {
        "id": "7FJBD3LMjN6v"
      },
      "source": [
        "#### Train test split"
      ]
    },
    {
      "cell_type": "code",
      "execution_count": 20,
      "metadata": {
        "id": "15oWGzhsjN6v"
      },
      "outputs": [],
      "source": [
        "X_train, X_test, y_train, y_test = train_test_split(X, y, test_size=0.2, random_state=42)"
      ]
    },
    {
      "cell_type": "markdown",
      "metadata": {
        "id": "2vPjwnMojN6v"
      },
      "source": [
        "#### Data Standardization"
      ]
    },
    {
      "cell_type": "code",
      "execution_count": 21,
      "metadata": {
        "id": "ulqPr0-hjN6w"
      },
      "outputs": [],
      "source": [
        "from sklearn.preprocessing import StandardScaler\n",
        "sc = StandardScaler()\n",
        "\n",
        "X_train = sc.fit_transform(X_train)\n",
        "X_test = sc.transform(X_test)"
      ]
    },
    {
      "cell_type": "markdown",
      "metadata": {
        "id": "5WuqW2kCjN6w"
      },
      "source": [
        "#### Transform to pytorch"
      ]
    },
    {
      "cell_type": "code",
      "execution_count": 22,
      "metadata": {
        "id": "8nuYSEsNjN6w"
      },
      "outputs": [],
      "source": [
        "X_train = torch.tensor(X_train, dtype=torch.float32)\n",
        "X_test = torch.tensor(X_test, dtype=torch.float32)\n",
        "y_train = torch.tensor(y_train, dtype=torch.float32)\n",
        "y_test = torch.tensor(y_test, dtype=torch.float32)"
      ]
    },
    {
      "cell_type": "markdown",
      "metadata": {
        "id": "82RnLIiujN6w"
      },
      "source": [
        "#### Create Neural Network"
      ]
    },
    {
      "cell_type": "code",
      "execution_count": 23,
      "metadata": {
        "colab": {
          "base_uri": "https://localhost:8080/"
        },
        "id": "7sLz2nUzjN6w",
        "outputId": "1c1d3bd7-d95c-4699-d2e5-de15c89d16a6"
      },
      "outputs": [
        {
          "data": {
            "text/plain": [
              "Sequential(\n",
              "  (0): Linear(in_features=3, out_features=1, bias=True)\n",
              ")"
            ]
          },
          "execution_count": 23,
          "metadata": {},
          "output_type": "execute_result"
        }
      ],
      "source": [
        "model = nn.Sequential(\n",
        "    nn.Linear(3, 1)\n",
        ")\n",
        "model"
      ]
    },
    {
      "cell_type": "markdown",
      "metadata": {
        "id": "Vq6Tsj8CjN6x"
      },
      "source": [
        "#### Visualize computation graph (before training)"
      ]
    },
    {
      "cell_type": "code",
      "execution_count": 24,
      "metadata": {
        "colab": {
          "base_uri": "https://localhost:8080/",
          "height": 396
        },
        "id": "OcN5e_eHjN6x",
        "outputId": "f5c9271f-7ec8-4ce2-cb5d-d80b620649db"
      },
      "outputs": [
        {
          "data": {
            "image/svg+xml": [
              "<?xml version=\"1.0\" encoding=\"UTF-8\" standalone=\"no\"?>\n",
              "<!DOCTYPE svg PUBLIC \"-//W3C//DTD SVG 1.1//EN\"\n",
              " \"http://www.w3.org/Graphics/SVG/1.1/DTD/svg11.dtd\">\n",
              "<!-- Generated by graphviz version 2.43.0 (0)\n",
              " -->\n",
              "<!-- Title: %3 Pages: 1 -->\n",
              "<svg width=\"216pt\" height=\"281pt\"\n",
              " viewBox=\"0.00 0.00 216.00 281.00\" xmlns=\"http://www.w3.org/2000/svg\" xmlns:xlink=\"http://www.w3.org/1999/xlink\">\n",
              "<g id=\"graph0\" class=\"graph\" transform=\"scale(1 1) rotate(0) translate(4 277)\">\n",
              "<title>%3</title>\n",
              "<polygon fill=\"white\" stroke=\"transparent\" points=\"-4,4 -4,-277 212,-277 212,4 -4,4\"/>\n",
              "<!-- 134395047688912 -->\n",
              "<g id=\"node1\" class=\"node\">\n",
              "<title>134395047688912</title>\n",
              "<polygon fill=\"#caff70\" stroke=\"black\" points=\"139,-31 68,-31 68,0 139,0 139,-31\"/>\n",
              "<text text-anchor=\"middle\" x=\"103.5\" y=\"-7\" font-family=\"monospace\" font-size=\"10.00\"> (120, 1)</text>\n",
              "</g>\n",
              "<!-- 134395113161824 -->\n",
              "<g id=\"node2\" class=\"node\">\n",
              "<title>134395113161824</title>\n",
              "<polygon fill=\"lightgrey\" stroke=\"black\" points=\"154,-86 53,-86 53,-67 154,-67 154,-86\"/>\n",
              "<text text-anchor=\"middle\" x=\"103.5\" y=\"-74\" font-family=\"monospace\" font-size=\"10.00\">AddmmBackward0</text>\n",
              "</g>\n",
              "<!-- 134395113161824&#45;&gt;134395047688912 -->\n",
              "<g id=\"edge6\" class=\"edge\">\n",
              "<title>134395113161824&#45;&gt;134395047688912</title>\n",
              "<path fill=\"none\" stroke=\"black\" d=\"M103.5,-66.79C103.5,-60.07 103.5,-50.4 103.5,-41.34\"/>\n",
              "<polygon fill=\"black\" stroke=\"black\" points=\"107,-41.19 103.5,-31.19 100,-41.19 107,-41.19\"/>\n",
              "</g>\n",
              "<!-- 134395113161344 -->\n",
              "<g id=\"node3\" class=\"node\">\n",
              "<title>134395113161344</title>\n",
              "<polygon fill=\"lightgrey\" stroke=\"black\" points=\"101,-141 0,-141 0,-122 101,-122 101,-141\"/>\n",
              "<text text-anchor=\"middle\" x=\"50.5\" y=\"-129\" font-family=\"monospace\" font-size=\"10.00\">AccumulateGrad</text>\n",
              "</g>\n",
              "<!-- 134395113161344&#45;&gt;134395113161824 -->\n",
              "<g id=\"edge1\" class=\"edge\">\n",
              "<title>134395113161344&#45;&gt;134395113161824</title>\n",
              "<path fill=\"none\" stroke=\"black\" d=\"M59.25,-121.75C66.97,-114.03 78.4,-102.6 87.72,-93.28\"/>\n",
              "<polygon fill=\"black\" stroke=\"black\" points=\"90.31,-95.64 94.91,-86.09 85.36,-90.69 90.31,-95.64\"/>\n",
              "</g>\n",
              "<!-- 134395047685072 -->\n",
              "<g id=\"node4\" class=\"node\">\n",
              "<title>134395047685072</title>\n",
              "<polygon fill=\"lightblue\" stroke=\"black\" points=\"77.5,-207 23.5,-207 23.5,-177 77.5,-177 77.5,-207\"/>\n",
              "<text text-anchor=\"middle\" x=\"50.5\" y=\"-195\" font-family=\"monospace\" font-size=\"10.00\">0.bias</text>\n",
              "<text text-anchor=\"middle\" x=\"50.5\" y=\"-184\" font-family=\"monospace\" font-size=\"10.00\"> (1)</text>\n",
              "</g>\n",
              "<!-- 134395047685072&#45;&gt;134395113161344 -->\n",
              "<g id=\"edge2\" class=\"edge\">\n",
              "<title>134395047685072&#45;&gt;134395113161344</title>\n",
              "<path fill=\"none\" stroke=\"black\" d=\"M50.5,-176.84C50.5,-169.21 50.5,-159.7 50.5,-151.45\"/>\n",
              "<polygon fill=\"black\" stroke=\"black\" points=\"54,-151.27 50.5,-141.27 47,-151.27 54,-151.27\"/>\n",
              "</g>\n",
              "<!-- 134395113176752 -->\n",
              "<g id=\"node5\" class=\"node\">\n",
              "<title>134395113176752</title>\n",
              "<polygon fill=\"lightgrey\" stroke=\"black\" points=\"196,-141 119,-141 119,-122 196,-122 196,-141\"/>\n",
              "<text text-anchor=\"middle\" x=\"157.5\" y=\"-129\" font-family=\"monospace\" font-size=\"10.00\">TBackward0</text>\n",
              "</g>\n",
              "<!-- 134395113176752&#45;&gt;134395113161824 -->\n",
              "<g id=\"edge3\" class=\"edge\">\n",
              "<title>134395113176752&#45;&gt;134395113161824</title>\n",
              "<path fill=\"none\" stroke=\"black\" d=\"M148.58,-121.75C140.72,-114.03 129.07,-102.6 119.58,-93.28\"/>\n",
              "<polygon fill=\"black\" stroke=\"black\" points=\"121.84,-90.6 112.25,-86.09 116.94,-95.59 121.84,-90.6\"/>\n",
              "</g>\n",
              "<!-- 134395113164416 -->\n",
              "<g id=\"node6\" class=\"node\">\n",
              "<title>134395113164416</title>\n",
              "<polygon fill=\"lightgrey\" stroke=\"black\" points=\"208,-201.5 107,-201.5 107,-182.5 208,-182.5 208,-201.5\"/>\n",
              "<text text-anchor=\"middle\" x=\"157.5\" y=\"-189.5\" font-family=\"monospace\" font-size=\"10.00\">AccumulateGrad</text>\n",
              "</g>\n",
              "<!-- 134395113164416&#45;&gt;134395113176752 -->\n",
              "<g id=\"edge4\" class=\"edge\">\n",
              "<title>134395113164416&#45;&gt;134395113176752</title>\n",
              "<path fill=\"none\" stroke=\"black\" d=\"M157.5,-182.37C157.5,-174.25 157.5,-161.81 157.5,-151.39\"/>\n",
              "<polygon fill=\"black\" stroke=\"black\" points=\"161,-151.17 157.5,-141.17 154,-151.17 161,-151.17\"/>\n",
              "</g>\n",
              "<!-- 134395047677392 -->\n",
              "<g id=\"node7\" class=\"node\">\n",
              "<title>134395047677392</title>\n",
              "<polygon fill=\"lightblue\" stroke=\"black\" points=\"190,-273 125,-273 125,-243 190,-243 190,-273\"/>\n",
              "<text text-anchor=\"middle\" x=\"157.5\" y=\"-261\" font-family=\"monospace\" font-size=\"10.00\">0.weight</text>\n",
              "<text text-anchor=\"middle\" x=\"157.5\" y=\"-250\" font-family=\"monospace\" font-size=\"10.00\"> (1, 3)</text>\n",
              "</g>\n",
              "<!-- 134395047677392&#45;&gt;134395113164416 -->\n",
              "<g id=\"edge5\" class=\"edge\">\n",
              "<title>134395047677392&#45;&gt;134395113164416</title>\n",
              "<path fill=\"none\" stroke=\"black\" d=\"M157.5,-242.8C157.5,-233.7 157.5,-221.79 157.5,-211.9\"/>\n",
              "<polygon fill=\"black\" stroke=\"black\" points=\"161,-211.84 157.5,-201.84 154,-211.84 161,-211.84\"/>\n",
              "</g>\n",
              "</g>\n",
              "</svg>\n"
            ],
            "text/plain": [
              "<graphviz.graphs.Digraph at 0x7a3b4911cfd0>"
            ]
          },
          "execution_count": 24,
          "metadata": {},
          "output_type": "execute_result"
        }
      ],
      "source": [
        "ypred = model(X_train)\n",
        "make_dot(ypred, params=dict(model.named_parameters()))"
      ]
    },
    {
      "cell_type": "code",
      "execution_count": 25,
      "metadata": {
        "id": "hoKZeQyLjN6x"
      },
      "outputs": [],
      "source": [
        "learningRate = 0.001\n",
        "lossfunc = nn.MSELoss()\n",
        "optimizer = torch.optim.SGD(model.parameters(), lr=learningRate,)"
      ]
    },
    {
      "cell_type": "code",
      "execution_count": 26,
      "metadata": {
        "colab": {
          "base_uri": "https://localhost:8080/"
        },
        "id": "0TYaJVqfjN6x",
        "outputId": "81d1317e-14a3-4569-8065-3edbf2632696"
      },
      "outputs": [
        {
          "name": "stdout",
          "output_type": "stream",
          "text": [
            "Epoch: 0; Loss: 2.6578\n",
            "Epoch: 100; Loss: 1.3687\n",
            "Epoch: 200; Loss: 0.7488\n",
            "Epoch: 300; Loss: 0.4420\n",
            "Epoch: 400; Loss: 0.2848\n",
            "Epoch: 500; Loss: 0.2007\n",
            "Epoch: 600; Loss: 0.1537\n",
            "Epoch: 700; Loss: 0.1260\n",
            "Epoch: 800; Loss: 0.1090\n",
            "Epoch: 900; Loss: 0.0979\n",
            "Epoch: 1000; Loss: 0.0905\n"
          ]
        }
      ],
      "source": [
        "epochs = 1001\n",
        "losses = torch.zeros(epochs)\n",
        "\n",
        "for epoch in range(epochs):\n",
        "    # Forward propagation\n",
        "    ypred = model(X_train)\n",
        "    loss = lossfunc(ypred, y_train)\n",
        "    # Record the loss\n",
        "    losses[epoch] = loss.detach()\n",
        "\n",
        "    # Backward propagation\n",
        "    optimizer.zero_grad()\n",
        "    loss.backward()\n",
        "    optimizer.step()\n",
        "\n",
        "\n",
        "    if epoch % 100 == 0:\n",
        "        print(f'Epoch: {epoch}; Loss: {loss.item():.4f}')"
      ]
    },
    {
      "cell_type": "code",
      "execution_count": 27,
      "metadata": {
        "colab": {
          "base_uri": "https://localhost:8080/"
        },
        "id": "hrSTJsvJjN6x",
        "outputId": "ac5ed617-e3b1-46f4-f5d7-a2a15ea58d8a"
      },
      "outputs": [
        {
          "data": {
            "text/plain": [
              "tensor([[-2.7200e-02],\n",
              "        [ 3.2043e-01],\n",
              "        [ 1.5367e+00],\n",
              "        [ 2.0836e-01],\n",
              "        [ 3.9830e-02],\n",
              "        [ 1.6314e+00],\n",
              "        [ 1.4278e+00],\n",
              "        [ 3.1449e-01],\n",
              "        [ 2.0116e-01],\n",
              "        [ 1.9653e-01],\n",
              "        [ 1.4298e+00],\n",
              "        [ 1.2422e+00],\n",
              "        [ 1.5982e+00],\n",
              "        [ 2.6797e-01],\n",
              "        [ 3.4832e-01],\n",
              "        [ 1.0918e+00],\n",
              "        [ 1.5930e+00],\n",
              "        [ 1.6526e+00],\n",
              "        [ 1.5198e+00],\n",
              "        [ 1.9700e+00],\n",
              "        [ 1.1692e+00],\n",
              "        [ 2.3369e+00],\n",
              "        [ 1.1745e+00],\n",
              "        [ 2.5740e-01],\n",
              "        [ 2.4333e+00],\n",
              "        [ 1.2246e+00],\n",
              "        [ 3.1363e-01],\n",
              "        [ 2.0031e-01],\n",
              "        [ 3.0100e-01],\n",
              "        [ 9.4652e-01],\n",
              "        [ 1.5716e+00],\n",
              "        [ 2.6990e-01],\n",
              "        [ 3.6015e-01],\n",
              "        [ 3.5826e-01],\n",
              "        [ 1.1720e+00],\n",
              "        [ 2.9757e-01],\n",
              "        [ 1.1496e+00],\n",
              "        [ 2.2367e+00],\n",
              "        [ 1.3350e-01],\n",
              "        [ 1.3726e+00],\n",
              "        [ 1.4120e+00],\n",
              "        [ 2.6609e-01],\n",
              "        [ 1.3824e+00],\n",
              "        [ 1.4298e+00],\n",
              "        [ 1.3755e+00],\n",
              "        [ 1.1014e+00],\n",
              "        [ 1.5000e+00],\n",
              "        [ 1.1730e+00],\n",
              "        [ 3.5003e-01],\n",
              "        [ 8.4651e-01],\n",
              "        [ 1.6902e+00],\n",
              "        [ 2.6014e-01],\n",
              "        [ 2.3877e-01],\n",
              "        [ 1.1123e+00],\n",
              "        [ 1.6794e+00],\n",
              "        [ 2.8340e-01],\n",
              "        [ 1.4101e+00],\n",
              "        [ 2.6099e-01],\n",
              "        [ 2.6185e-01],\n",
              "        [ 1.3065e+00],\n",
              "        [ 7.8223e-01],\n",
              "        [ 1.8569e+00],\n",
              "        [ 1.5029e+00],\n",
              "        [ 1.6617e+00],\n",
              "        [ 2.2709e+00],\n",
              "        [ 1.1337e+00],\n",
              "        [ 1.1932e-01],\n",
              "        [ 1.5415e-03],\n",
              "        [ 1.5807e+00],\n",
              "        [ 2.0282e+00],\n",
              "        [ 1.7367e-01],\n",
              "        [ 2.5740e-01],\n",
              "        [ 7.9147e-02],\n",
              "        [ 1.6109e+00],\n",
              "        [ 1.5776e+00],\n",
              "        [ 9.4178e-02],\n",
              "        [ 1.8186e+00],\n",
              "        [ 1.6793e+00],\n",
              "        [ 1.4956e-01],\n",
              "        [ 1.4181e+00],\n",
              "        [ 1.5635e+00],\n",
              "        [ 1.4949e+00],\n",
              "        [ 1.6883e+00],\n",
              "        [ 1.5919e+00],\n",
              "        [ 2.3945e-01],\n",
              "        [ 1.8150e+00],\n",
              "        [ 1.2227e+00],\n",
              "        [ 1.6473e+00],\n",
              "        [ 1.0846e+00],\n",
              "        [ 9.6412e-01],\n",
              "        [ 1.3779e+00],\n",
              "        [ 2.5333e-01],\n",
              "        [ 1.5805e+00],\n",
              "        [ 1.1961e+00],\n",
              "        [ 3.1174e-01],\n",
              "        [ 1.0925e+00],\n",
              "        [ 2.1853e+00],\n",
              "        [ 1.7641e+00],\n",
              "        [ 2.3859e-01],\n",
              "        [ 7.9028e-01],\n",
              "        [ 1.7641e+00],\n",
              "        [ 2.0264e+00],\n",
              "        [ 1.6459e-01],\n",
              "        [ 1.7829e+00],\n",
              "        [ 2.8254e-01],\n",
              "        [ 1.7124e+00],\n",
              "        [ 2.2005e+00],\n",
              "        [ 1.6759e+00],\n",
              "        [ 1.1684e+00],\n",
              "        [ 1.7089e+00],\n",
              "        [ 1.5477e+00],\n",
              "        [ 1.4458e+00],\n",
              "        [ 1.2959e+00],\n",
              "        [ 1.4074e+00],\n",
              "        [ 4.4833e-01],\n",
              "        [ 1.2942e+00],\n",
              "        [ 1.0168e+00],\n",
              "        [ 3.7410e-01],\n",
              "        [ 1.2237e+00],\n",
              "        [ 2.0104e+00]], grad_fn=<AddmmBackward0>)"
            ]
          },
          "execution_count": 27,
          "metadata": {},
          "output_type": "execute_result"
        }
      ],
      "source": [
        "ypred"
      ]
    },
    {
      "cell_type": "code",
      "execution_count": 28,
      "metadata": {
        "colab": {
          "base_uri": "https://localhost:8080/",
          "height": 396
        },
        "id": "OZqOtYqijN6y",
        "outputId": "4aa1e481-3122-48ae-c335-b4742615649f"
      },
      "outputs": [
        {
          "data": {
            "image/svg+xml": [
              "<?xml version=\"1.0\" encoding=\"UTF-8\" standalone=\"no\"?>\n",
              "<!DOCTYPE svg PUBLIC \"-//W3C//DTD SVG 1.1//EN\"\n",
              " \"http://www.w3.org/Graphics/SVG/1.1/DTD/svg11.dtd\">\n",
              "<!-- Generated by graphviz version 2.43.0 (0)\n",
              " -->\n",
              "<!-- Title: %3 Pages: 1 -->\n",
              "<svg width=\"216pt\" height=\"281pt\"\n",
              " viewBox=\"0.00 0.00 216.00 281.00\" xmlns=\"http://www.w3.org/2000/svg\" xmlns:xlink=\"http://www.w3.org/1999/xlink\">\n",
              "<g id=\"graph0\" class=\"graph\" transform=\"scale(1 1) rotate(0) translate(4 277)\">\n",
              "<title>%3</title>\n",
              "<polygon fill=\"white\" stroke=\"transparent\" points=\"-4,4 -4,-277 212,-277 212,4 -4,4\"/>\n",
              "<!-- 134394889952752 -->\n",
              "<g id=\"node1\" class=\"node\">\n",
              "<title>134394889952752</title>\n",
              "<polygon fill=\"#caff70\" stroke=\"black\" points=\"139,-31 68,-31 68,0 139,0 139,-31\"/>\n",
              "<text text-anchor=\"middle\" x=\"103.5\" y=\"-7\" font-family=\"monospace\" font-size=\"10.00\"> (120, 1)</text>\n",
              "</g>\n",
              "<!-- 134394889870912 -->\n",
              "<g id=\"node2\" class=\"node\">\n",
              "<title>134394889870912</title>\n",
              "<polygon fill=\"lightgrey\" stroke=\"black\" points=\"154,-86 53,-86 53,-67 154,-67 154,-86\"/>\n",
              "<text text-anchor=\"middle\" x=\"103.5\" y=\"-74\" font-family=\"monospace\" font-size=\"10.00\">AddmmBackward0</text>\n",
              "</g>\n",
              "<!-- 134394889870912&#45;&gt;134394889952752 -->\n",
              "<g id=\"edge6\" class=\"edge\">\n",
              "<title>134394889870912&#45;&gt;134394889952752</title>\n",
              "<path fill=\"none\" stroke=\"black\" d=\"M103.5,-66.79C103.5,-60.07 103.5,-50.4 103.5,-41.34\"/>\n",
              "<polygon fill=\"black\" stroke=\"black\" points=\"107,-41.19 103.5,-31.19 100,-41.19 107,-41.19\"/>\n",
              "</g>\n",
              "<!-- 134394889877920 -->\n",
              "<g id=\"node3\" class=\"node\">\n",
              "<title>134394889877920</title>\n",
              "<polygon fill=\"lightgrey\" stroke=\"black\" points=\"101,-141 0,-141 0,-122 101,-122 101,-141\"/>\n",
              "<text text-anchor=\"middle\" x=\"50.5\" y=\"-129\" font-family=\"monospace\" font-size=\"10.00\">AccumulateGrad</text>\n",
              "</g>\n",
              "<!-- 134394889877920&#45;&gt;134394889870912 -->\n",
              "<g id=\"edge1\" class=\"edge\">\n",
              "<title>134394889877920&#45;&gt;134394889870912</title>\n",
              "<path fill=\"none\" stroke=\"black\" d=\"M59.25,-121.75C66.97,-114.03 78.4,-102.6 87.72,-93.28\"/>\n",
              "<polygon fill=\"black\" stroke=\"black\" points=\"90.31,-95.64 94.91,-86.09 85.36,-90.69 90.31,-95.64\"/>\n",
              "</g>\n",
              "<!-- 134395047685072 -->\n",
              "<g id=\"node4\" class=\"node\">\n",
              "<title>134395047685072</title>\n",
              "<polygon fill=\"lightblue\" stroke=\"black\" points=\"77.5,-207 23.5,-207 23.5,-177 77.5,-177 77.5,-207\"/>\n",
              "<text text-anchor=\"middle\" x=\"50.5\" y=\"-195\" font-family=\"monospace\" font-size=\"10.00\">0.bias</text>\n",
              "<text text-anchor=\"middle\" x=\"50.5\" y=\"-184\" font-family=\"monospace\" font-size=\"10.00\"> (1)</text>\n",
              "</g>\n",
              "<!-- 134395047685072&#45;&gt;134394889877920 -->\n",
              "<g id=\"edge2\" class=\"edge\">\n",
              "<title>134395047685072&#45;&gt;134394889877920</title>\n",
              "<path fill=\"none\" stroke=\"black\" d=\"M50.5,-176.84C50.5,-169.21 50.5,-159.7 50.5,-151.45\"/>\n",
              "<polygon fill=\"black\" stroke=\"black\" points=\"54,-151.27 50.5,-141.27 47,-151.27 54,-151.27\"/>\n",
              "</g>\n",
              "<!-- 134394889878832 -->\n",
              "<g id=\"node5\" class=\"node\">\n",
              "<title>134394889878832</title>\n",
              "<polygon fill=\"lightgrey\" stroke=\"black\" points=\"196,-141 119,-141 119,-122 196,-122 196,-141\"/>\n",
              "<text text-anchor=\"middle\" x=\"157.5\" y=\"-129\" font-family=\"monospace\" font-size=\"10.00\">TBackward0</text>\n",
              "</g>\n",
              "<!-- 134394889878832&#45;&gt;134394889870912 -->\n",
              "<g id=\"edge3\" class=\"edge\">\n",
              "<title>134394889878832&#45;&gt;134394889870912</title>\n",
              "<path fill=\"none\" stroke=\"black\" d=\"M148.58,-121.75C140.72,-114.03 129.07,-102.6 119.58,-93.28\"/>\n",
              "<polygon fill=\"black\" stroke=\"black\" points=\"121.84,-90.6 112.25,-86.09 116.94,-95.59 121.84,-90.6\"/>\n",
              "</g>\n",
              "<!-- 134394889878016 -->\n",
              "<g id=\"node6\" class=\"node\">\n",
              "<title>134394889878016</title>\n",
              "<polygon fill=\"lightgrey\" stroke=\"black\" points=\"208,-201.5 107,-201.5 107,-182.5 208,-182.5 208,-201.5\"/>\n",
              "<text text-anchor=\"middle\" x=\"157.5\" y=\"-189.5\" font-family=\"monospace\" font-size=\"10.00\">AccumulateGrad</text>\n",
              "</g>\n",
              "<!-- 134394889878016&#45;&gt;134394889878832 -->\n",
              "<g id=\"edge4\" class=\"edge\">\n",
              "<title>134394889878016&#45;&gt;134394889878832</title>\n",
              "<path fill=\"none\" stroke=\"black\" d=\"M157.5,-182.37C157.5,-174.25 157.5,-161.81 157.5,-151.39\"/>\n",
              "<polygon fill=\"black\" stroke=\"black\" points=\"161,-151.17 157.5,-141.17 154,-151.17 161,-151.17\"/>\n",
              "</g>\n",
              "<!-- 134395047677392 -->\n",
              "<g id=\"node7\" class=\"node\">\n",
              "<title>134395047677392</title>\n",
              "<polygon fill=\"lightblue\" stroke=\"black\" points=\"190,-273 125,-273 125,-243 190,-243 190,-273\"/>\n",
              "<text text-anchor=\"middle\" x=\"157.5\" y=\"-261\" font-family=\"monospace\" font-size=\"10.00\">0.weight</text>\n",
              "<text text-anchor=\"middle\" x=\"157.5\" y=\"-250\" font-family=\"monospace\" font-size=\"10.00\"> (1, 3)</text>\n",
              "</g>\n",
              "<!-- 134395047677392&#45;&gt;134394889878016 -->\n",
              "<g id=\"edge5\" class=\"edge\">\n",
              "<title>134395047677392&#45;&gt;134394889878016</title>\n",
              "<path fill=\"none\" stroke=\"black\" d=\"M157.5,-242.8C157.5,-233.7 157.5,-221.79 157.5,-211.9\"/>\n",
              "<polygon fill=\"black\" stroke=\"black\" points=\"161,-211.84 157.5,-201.84 154,-211.84 161,-211.84\"/>\n",
              "</g>\n",
              "</g>\n",
              "</svg>\n"
            ],
            "text/plain": [
              "<graphviz.graphs.Digraph at 0x7a3b4783a4d0>"
            ]
          },
          "execution_count": 28,
          "metadata": {},
          "output_type": "execute_result"
        }
      ],
      "source": [
        "# Visualize computation graph (after training)\n",
        "make_dot(ypred, params=dict(model.named_parameters()))"
      ]
    },
    {
      "cell_type": "markdown",
      "metadata": {},
      "source": [
        "### Nodes\n",
        "- 0.weight (1, 3): Represents the weights of the layer (nn.Linear). The dimensions (1, 3) indicate 1 output neuron and 3 input features.\n",
        "- 0.bias (1): Represents the bias term of the layer. A bias is a scalar value added to the output of the weighted sum.\n",
        "- AccumulateGrad Nodes: These are used to accumulate gradients during backpropagation. Gradients computed for 0.weight and 0.bias during the backward pass are stored here.\n",
        "- TBackward0: This is part of the backward pass for the weight tensor. It represents the gradient of the loss with respect to the weights.\n",
        "- AddmmBackward0: This node handles the matrix multiplication and addition operation during the backward pass. Addmm is short for \"add matrix multiplication,\" \n",
        "which calculates: 𝑌 = 𝑊(𝑇) * 𝑋 + 𝑏\n",
        "    - where: \n",
        "        - 𝑋: X is the input tensor.\n",
        "        - 𝑊: W is the weight tensor.\n",
        "        - 𝑏: b is the bias term.\n",
        "- Output Node (120, 1): Represents the output of the layer. The shape (120, 1) shows there are 120 samples in the batch, each producing 1 output value (because there is 1 neuron in the layer).\n",
        "\n",
        "#### Flow of the Graph:\n",
        "- Forward Pass: \n",
        "    - The input tensor 𝑋 (not shown here) interacts with 0.weight and 0.bias.\n",
        "    - The computation 𝑌 = 𝑊(𝑇) * 𝑋 + 𝑏 produces the output (120, 1).\n",
        "- Backward Pass:\n",
        "    - During backpropagation, gradients of the loss with respect to 0.weight and 0.bias are computed.\n",
        "    - These gradients flow through the AccumulateGrad, TBackward0, and AddmmBackward0 nodes.\n"
      ]
    },
    {
      "cell_type": "markdown",
      "metadata": {
        "id": "TzRwzvwRjN6y"
      },
      "source": [
        "#### Loss vs Epoch"
      ]
    },
    {
      "cell_type": "code",
      "execution_count": 29,
      "metadata": {
        "colab": {
          "base_uri": "https://localhost:8080/",
          "height": 570
        },
        "id": "zMkSLXF9jN6y",
        "outputId": "beed3654-5344-4712-f418-2530d03182f6"
      },
      "outputs": [
        {
          "data": {
            "image/png": "[encoded data removed]",
            "text/plain": [
              "<Figure size 1200x600 with 1 Axes>"
            ]
          },
          "metadata": {},
          "output_type": "display_data"
        }
      ],
      "source": [
        "plt.figure(figsize=(12, 6))\n",
        "plt.plot(np.arange(epochs), losses.detach(), 'm', lw=3)\n",
        "plt.xlabel('Epochs', fontsize=15)\n",
        "plt.ylabel('Loss', fontsize=15)\n",
        "plt.title('Loss vs. Epochs')\n",
        "plt.show()"
      ]
    },
    {
      "cell_type": "markdown",
      "metadata": {
        "id": "KCwFI2sqjN6y"
      },
      "source": [
        "#### Weights and Bias of training model"
      ]
    },
    {
      "cell_type": "code",
      "execution_count": 30,
      "metadata": {
        "colab": {
          "base_uri": "https://localhost:8080/"
        },
        "id": "6kCMKRhwjN6y",
        "outputId": "0160f4c6-2438-4170-d529-abb67fe6758e"
      },
      "outputs": [
        {
          "name": "stdout",
          "output_type": "stream",
          "text": [
            "Trained Weight: [[ 0.3000164  -0.08792764  0.35812864]]\n",
            "Trained Bias: [1.0804738]\n"
          ]
        }
      ],
      "source": [
        "# We have only 1 layer\n",
        "print(f\"Trained Weight: {model[0].weight.detach().numpy()}\")\n",
        "print(f\"Trained Bias: {model[0].bias.detach().numpy()}\")"
      ]
    },
    {
      "cell_type": "markdown",
      "metadata": {
        "id": "IFfCRfv9jN6y"
      },
      "source": [
        "#### Testing and evaluating the model"
      ]
    },
    {
      "cell_type": "code",
      "execution_count": 31,
      "metadata": {
        "id": "NMnOakvTjN6z"
      },
      "outputs": [],
      "source": [
        "y_pred = model(X_test)\n",
        "y_pred = y_pred.detach().numpy()\n",
        "y_test = y_test.detach().numpy()"
      ]
    },
    {
      "cell_type": "code",
      "execution_count": 32,
      "metadata": {
        "colab": {
          "base_uri": "https://localhost:8080/"
        },
        "id": "Bo5zzcy6jN6z",
        "outputId": "a72c52cc-1c7e-4938-f9a9-c2e1897bdf72"
      },
      "outputs": [
        {
          "name": "stdout",
          "output_type": "stream",
          "text": [
            "Training Data RMSE: 0.2738\n",
            "Training Data MAE: 0.2198\n",
            "Training Data R²: 0.8412\n"
          ]
        }
      ],
      "source": [
        "#### Performance\n",
        "from sklearn import metrics\n",
        "print(f'Training Data RMSE: {np.sqrt(metrics.mean_squared_error(y_pred, y_test)):.4f}')\n",
        "print(f'Training Data MAE: {metrics.mean_absolute_error(y_pred, y_test):.4f}')\n",
        "print(f'Training Data R²: {metrics.r2_score(y_pred, y_test):.4f}')"
      ]
    },
    {
      "cell_type": "code",
      "execution_count": 33,
      "metadata": {
        "colab": {
          "base_uri": "https://localhost:8080/",
          "height": 575
        },
        "id": "IZsTVid1jN6z",
        "outputId": "702873cc-c12b-418c-db28-e36d9e2bbfd6"
      },
      "outputs": [
        {
          "data": {
            "image/png": "[encoded data removed]",
            "text/plain": [
              "<Figure size 1200x600 with 1 Axes>"
            ]
          },
          "metadata": {},
          "output_type": "display_data"
        }
      ],
      "source": [
        "plt.figure(figsize=(12, 6))\n",
        "\n",
        "# Scatter actual values in the background\n",
        "plt.scatter(y_test, y_test, c='b', label='Actual (Ground Truth)', alpha=0.6)\n",
        "\n",
        "# Scatter predicted vs actual values\n",
        "plt.scatter(y_test, y_pred, c='r', label='Predicted', alpha=0.8)\n",
        "\n",
        "# Add a hyperplane for y = x (perfect prediction line)\n",
        "min_val = min(y_test.min(), y_pred.min())\n",
        "max_val = max(y_test.max(), y_pred.max())\n",
        "plt.plot([min_val, max_val], [min_val, max_val], 'g--', lw=2, label='Ideal Fit (y = x)')\n",
        "\n",
        "# Customize plot\n",
        "plt.xlabel('Actual', fontsize=15)\n",
        "plt.ylabel('Predicted', fontsize=15)\n",
        "plt.title('Model Predictions with Hyperplane', fontsize=18)\n",
        "plt.legend(fontsize=12)\n",
        "plt.grid(alpha=0.3)\n",
        "plt.show()"
      ]
    },
    {
      "cell_type": "code",
      "execution_count": 33,
      "metadata": {
        "id": "pixB9aIcjN6z"
      },
      "outputs": [],
      "source": []
    }
  ],
  "metadata": {
    "colab": {
      "provenance": []
    },
    "kernelspec": {
      "display_name": "Python 3",
      "language": "python",
      "name": "python3"
    },
    "language_info": {
      "codemirror_mode": {
        "name": "ipython",
        "version": 3
      },
      "file_extension": ".py",
      "mimetype": "text/x-python",
      "name": "python",
      "nbconvert_exporter": "python",
      "pygments_lexer": "ipython3",
      "version": "3.9.21"
    }
  },
  "nbformat": 4,
  "nbformat_minor": 0
}
