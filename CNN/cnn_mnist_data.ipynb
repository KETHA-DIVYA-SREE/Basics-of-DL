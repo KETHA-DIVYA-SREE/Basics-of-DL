{
  "cells": [
    {
      "cell_type": "code",
      "execution_count": null,
      "metadata": {
        "id": "siV9UHp6UD0T"
      },
      "outputs": [],
      "source": [
        "import torch\n",
        "import torch.nn as nn\n",
        "import torch.nn.functional as F\n",
        "from torch.utils.data import DataLoader, TensorDataset\n",
        "from sklearn.model_selection import train_test_split\n",
        "from torchsummary import summary\n",
        "\n",
        "import numpy as np\n",
        "import pandas as pd\n",
        "import matplotlib.pyplot as plt"
      ]
    },
    {
      "cell_type": "code",
      "source": [
        "from google.colab import drive\n",
        "drive.mount('/content/drive')"
      ],
      "metadata": {
        "colab": {
          "base_uri": "https://localhost:8080/"
        },
        "id": "tO15t1N2jHWn",
        "outputId": "3fb5ab50-f15a-4f58-d390-30379e9e177b"
      },
      "execution_count": null,
      "outputs": [
        {
          "output_type": "stream",
          "name": "stdout",
          "text": [
            "Drive already mounted at /content/drive; to attempt to forcibly remount, call drive.mount(\"/content/drive\", force_remount=True).\n"
          ]
        }
      ]
    },
    {
      "cell_type": "code",
      "source": [
        "%cd /content/drive/MyDrive/Divya_2ndSem/Practice/DL Practice"
      ],
      "metadata": {
        "id": "b6rBgcdnUND9",
        "colab": {
          "base_uri": "https://localhost:8080/"
        },
        "outputId": "e1e311d4-86d1-4558-a803-2419887cb237"
      },
      "execution_count": null,
      "outputs": [
        {
          "output_type": "stream",
          "name": "stdout",
          "text": [
            "/content/drive/MyDrive/Divya_2ndSem/Practice/DL Practice\n"
          ]
        }
      ]
    },
    {
      "cell_type": "code",
      "execution_count": null,
      "metadata": {
        "id": "Z9H5jAmcUD0T",
        "outputId": "00434344-2062-422e-9488-b09f333d82b4",
        "colab": {
          "base_uri": "https://localhost:8080/"
        }
      },
      "outputs": [
        {
          "output_type": "execute_result",
          "data": {
            "text/plain": [
              "device(type='cuda', index=0)"
            ]
          },
          "metadata": {},
          "execution_count": 4
        }
      ],
      "source": [
        "device = torch.device('cuda:0' if torch.cuda.is_available() else 'cpu')\n",
        "device"
      ]
    },
    {
      "cell_type": "markdown",
      "metadata": {
        "id": "wQzbxkU8UD0U"
      },
      "source": [
        "#### Load Data"
      ]
    },
    {
      "cell_type": "code",
      "execution_count": null,
      "metadata": {
        "id": "ct_EMv5_UD0U"
      },
      "outputs": [],
      "source": [
        "data = pd.read_csv('mnist_train.csv')\n",
        "# data.head(3), data.shape\n",
        "# X = data.iloc[:, 1:].values\n",
        "# y = data.iloc[:, :1].values\n",
        "# X, y"
      ]
    },
    {
      "cell_type": "code",
      "source": [
        "data = np.array(data)\n",
        "X = data[:,1:]\n",
        "y = data[:,0]"
      ],
      "metadata": {
        "id": "D23R7qcSizYl"
      },
      "execution_count": null,
      "outputs": []
    },
    {
      "cell_type": "code",
      "execution_count": null,
      "metadata": {
        "id": "lqSUS4PHUD0U",
        "outputId": "10d08798-8bb1-413b-febf-da6f5cb74b13",
        "colab": {
          "base_uri": "https://localhost:8080/"
        }
      },
      "outputs": [
        {
          "output_type": "execute_result",
          "data": {
            "text/plain": [
              "((60000, 784), (60000,))"
            ]
          },
          "metadata": {},
          "execution_count": 7
        }
      ],
      "source": [
        "X.shape, y.shape"
      ]
    },
    {
      "cell_type": "markdown",
      "metadata": {
        "id": "1a-RfSPiUD0V"
      },
      "source": [
        "#### Transform to 4D"
      ]
    },
    {
      "cell_type": "code",
      "execution_count": null,
      "metadata": {
        "id": "XTfp3njRUD0V",
        "outputId": "917613a1-75a9-4a65-b0c1-1f07a035f4bd",
        "colab": {
          "base_uri": "https://localhost:8080/"
        }
      },
      "outputs": [
        {
          "output_type": "execute_result",
          "data": {
            "text/plain": [
              "(60000, 1, 28, 28)"
            ]
          },
          "metadata": {},
          "execution_count": 8
        }
      ],
      "source": [
        "X = X.reshape(X.shape[0], 1, 28, 28)\n",
        "X.shape # no. of samples, channels, width, height"
      ]
    },
    {
      "cell_type": "markdown",
      "metadata": {
        "id": "Y_rYIf2QUD0V"
      },
      "source": [
        "#### Steps to use Data in Pytorch"
      ]
    },
    {
      "cell_type": "code",
      "execution_count": null,
      "metadata": {
        "id": "rONKZ0_wUD0V"
      },
      "outputs": [],
      "source": [
        "# Step1: Convert to pytorch tensor\n",
        "X_t = torch.tensor(X, dtype=torch.float32)\n",
        "y_t = torch.tensor(y, dtype=torch.long)\n",
        "\n",
        "# Step2: perform train test split\n",
        "train_data, test_data, train_label, test_label = train_test_split(X_t, y_t, test_size=0.2, random_state=42)\n",
        "train_data = train_data/torch.max(train_data)\n",
        "test_data = test_data/torch.max(test_data)\n",
        "\n",
        "# Convert to pytorch dataset\n",
        "X_train = TensorDataset(train_data, train_label)\n",
        "X_test = TensorDataset(test_data, test_label)\n",
        "\n",
        "# Move data to dataloader objects\n",
        "batchSize = 32\n",
        "train_loader = DataLoader(X_train, batch_size=batchSize, shuffle=True, drop_last=True)\n",
        "test_loader = DataLoader(X_test, batch_size=X_test.tensors[0].shape[0])"
      ]
    },
    {
      "cell_type": "code",
      "execution_count": null,
      "metadata": {
        "id": "0QLGmW9-UD0W",
        "outputId": "3c4174a7-d218-4545-ca3a-11aa44d48acf",
        "colab": {
          "base_uri": "https://localhost:8080/"
        }
      },
      "outputs": [
        {
          "output_type": "execute_result",
          "data": {
            "text/plain": [
              "(torch.Size([32, 1, 28, 28]), torch.Size([32]))"
            ]
          },
          "metadata": {},
          "execution_count": 10
        }
      ],
      "source": [
        "for X,y in train_loader:\n",
        "    break\n",
        "X.shape, y.shape"
      ]
    },
    {
      "cell_type": "markdown",
      "metadata": {
        "id": "jYSkr8d7UD0W"
      },
      "source": [
        "#### Create Convolutional Neural Network"
      ]
    },
    {
      "cell_type": "code",
      "execution_count": null,
      "metadata": {
        "id": "x-UHbZgsUD0W"
      },
      "outputs": [],
      "source": [
        "class CNN(nn.Module):\n",
        "    def __init__(self):\n",
        "        super().__init__()\n",
        "\n",
        "        self.conv1 = nn.Conv2d(1, 10, 5, 1, 1) # 5ip - channel, no. of kernels, kernel size, stride, padding\n",
        "        # w, h after convolution = (((28 - 5) + (2 * 1)) / 1) + 1 = 26 and D = 10\n",
        "        # w, h after max pooling = 26/2 = 13\n",
        "        # 1 channel ---> 10 channels\n",
        "        self.conv2 =  nn.Conv2d(10, 20, 5, 1, 1)\n",
        "        # w, h after convolution = (((13 - 5) + (2 * 1)) / 1) + 1 = 11 and D = 10\n",
        "        # w, h after max pooling = 11/2 =  np.floor(5.5) = 5\n",
        "        # 10 channel ---> 20 channels\n",
        "        # 20 kernels in conv layer before FC layer\n",
        "        # dim of feature map (after conv + maxpool) --> 20 * 5 * 5\n",
        "        # hence 20 feature map each of size (5 x 5)\n",
        "\n",
        "        # Fully connected layer and output layer\n",
        "        # self.fc = nn.Linear(5*5*20, 64)\n",
        "        self.fc = nn.LazyLinear(64)\n",
        "        self.output = nn.Linear(64, 10)\n",
        "\n",
        "    def forward(self, x):\n",
        "        x = self.conv1(x)\n",
        "        x = F.relu(x)\n",
        "        x = F.max_pool2d(x, 2, 2) # 2 --> stride\n",
        "        x = self.conv2(x)\n",
        "        x = F.relu(x)\n",
        "        x = F.max_pool2d(x, 2, 2)\n",
        "        # x = x.view(-1, 5*5*20) # infer the first dimension (flatten)\n",
        "        x = torch.flatten(x, 1)\n",
        "        x = self.fc(x)\n",
        "        x = F.relu(x)\n",
        "        x = self.output(x)\n",
        "        return x"
      ]
    },
    {
      "cell_type": "markdown",
      "metadata": {
        "id": "Y60ZJCwsUD0W"
      },
      "source": [
        "#### Instance of the model"
      ]
    },
    {
      "cell_type": "code",
      "execution_count": null,
      "metadata": {
        "id": "2am5cy1OUD0W",
        "outputId": "1d432783-47af-4d74-a59b-d28ce3eddf98",
        "colab": {
          "base_uri": "https://localhost:8080/"
        }
      },
      "outputs": [
        {
          "output_type": "execute_result",
          "data": {
            "text/plain": [
              "CNN(\n",
              "  (conv1): Conv2d(1, 10, kernel_size=(5, 5), stride=(1, 1), padding=(1, 1))\n",
              "  (conv2): Conv2d(10, 20, kernel_size=(5, 5), stride=(1, 1), padding=(1, 1))\n",
              "  (fc): LazyLinear(in_features=0, out_features=64, bias=True)\n",
              "  (output): Linear(in_features=64, out_features=10, bias=True)\n",
              ")"
            ]
          },
          "metadata": {},
          "execution_count": 12
        }
      ],
      "source": [
        "model = CNN()\n",
        "model"
      ]
    },
    {
      "cell_type": "markdown",
      "metadata": {
        "id": "NUxrVCROUD0W"
      },
      "source": [
        "#### Count the number of parameters in the model"
      ]
    },
    {
      "cell_type": "code",
      "execution_count": null,
      "metadata": {
        "id": "-le2GdpxUD0W",
        "outputId": "ec33e805-f143-4dcc-88b3-e72ba771021d",
        "colab": {
          "base_uri": "https://localhost:8080/"
        }
      },
      "outputs": [
        {
          "output_type": "stream",
          "name": "stdout",
          "text": [
            "----------------------------------------------------------------\n",
            "        Layer (type)               Output Shape         Param #\n",
            "================================================================\n",
            "            Conv2d-1           [-1, 10, 26, 26]             260\n",
            "            Conv2d-2           [-1, 20, 11, 11]           5,020\n",
            "            Linear-3                   [-1, 64]          32,064\n",
            "            Linear-4                   [-1, 10]             650\n",
            "================================================================\n",
            "Total params: 37,994\n",
            "Trainable params: 37,994\n",
            "Non-trainable params: 0\n",
            "----------------------------------------------------------------\n",
            "Input size (MB): 0.00\n",
            "Forward/backward pass size (MB): 0.07\n",
            "Params size (MB): 0.14\n",
            "Estimated Total Size (MB): 0.22\n",
            "----------------------------------------------------------------\n"
          ]
        }
      ],
      "source": [
        "summary(model.cuda(), (1, 28, 28))"
      ]
    },
    {
      "cell_type": "markdown",
      "source": [
        "- Parameters in 1st layer\n",
        "  - channel * filter_dim * output_dim(depth of feature map) + bias(no. of kernels)\n",
        "  - 1 * 5*5 * 10 + 10 = 260\n",
        "- Parameters in 2nd layer\n",
        "  - channel * filter_dim * output_dim(depth of feature map) + bias(no. of kernels)\n",
        "  - 10 * 5*5 * 20 + 20 = 5020\n",
        "- Parameters in fully connected layer\n",
        "  - no. of features * feature map * output feature + bias\n",
        "  - 20 * 5*5 * 64 + 64 = 32064\n",
        "- Parameters in o/p layer\n",
        "  - 64 * 10 * 10 = 650\n",
        "- Total parameters\n",
        "  - 260 + 5,020 + 32,064 + 650 = 37,994"
      ],
      "metadata": {
        "id": "DwjUubs-V5ZW"
      }
    },
    {
      "cell_type": "markdown",
      "source": [
        "#### Training and testing the model"
      ],
      "metadata": {
        "id": "oqdUEL0xYZs4"
      }
    },
    {
      "cell_type": "code",
      "execution_count": null,
      "metadata": {
        "id": "MsQCAy21UD0X",
        "colab": {
          "base_uri": "https://localhost:8080/"
        },
        "outputId": "e4c9ea9b-3b06-4064-c48c-60a85a48b2ec"
      },
      "outputs": [
        {
          "output_type": "execute_result",
          "data": {
            "text/plain": [
              "CNN(\n",
              "  (conv1): Conv2d(1, 10, kernel_size=(5, 5), stride=(1, 1), padding=(1, 1))\n",
              "  (conv2): Conv2d(10, 20, kernel_size=(5, 5), stride=(1, 1), padding=(1, 1))\n",
              "  (fc): Linear(in_features=500, out_features=64, bias=True)\n",
              "  (output): Linear(in_features=64, out_features=10, bias=True)\n",
              ")"
            ]
          },
          "metadata": {},
          "execution_count": 14
        }
      ],
      "source": [
        "learningRate = 0.01\n",
        "momentum = 0.9\n",
        "lossfc = nn.CrossEntropyLoss()\n",
        "optimizer = torch.optim.SGD(model.parameters(), momentum=momentum, lr=learningRate)\n",
        "\n",
        "model.to(device)"
      ]
    },
    {
      "cell_type": "code",
      "source": [
        "epochs = 250\n",
        "losses    = torch.zeros(epochs)\n",
        "trainAcc  = []\n",
        "testAcc   = []\n",
        "\n",
        "for epoch in range(epochs):\n",
        "    model.train()\n",
        "    batchAcc = []\n",
        "    batchLoss = []\n",
        "    for X, y in train_loader:\n",
        "        X, y = X.to(device), y.to(device)  # Move to device\n",
        "        ypred = model(X)\n",
        "        loss = lossfc(ypred, y)\n",
        "        optimizer.zero_grad()\n",
        "        loss.backward()\n",
        "        optimizer.step()\n",
        "        batchLoss.append(loss.item())\n",
        "\n",
        "        ypred = ypred.cpu()  # Move back to CPU\n",
        "        y = y.cpu()\n",
        "\n",
        "        acc = 100 * torch.mean((torch.argmax(ypred, dim=1) == y).float())\n",
        "        batchAcc.append(acc)\n",
        "\n",
        "    trainAcc.append(np.mean(batchAcc))\n",
        "    losses[epoch] = np.mean(batchLoss)\n",
        "\n",
        "    model.eval()\n",
        "    X, y = next(iter(test_loader))\n",
        "    X, y = X.to(device), y.to(device)\n",
        "    with torch.no_grad():\n",
        "        ypred = model(X)\n",
        "        ypred = ypred.cpu()\n",
        "        y = y.cpu()\n",
        "        testAcc.append(100 * torch.mean((torch.argmax(ypred, dim=1) == y).float()))\n",
        "\n",
        "    if epoch % 10 == 0:\n",
        "        print(f'Epoch {epoch}/{epochs}, Loss: {loss:.4f}')"
      ],
      "metadata": {
        "colab": {
          "base_uri": "https://localhost:8080/"
        },
        "id": "vdNMlZ91ZH2q",
        "outputId": "7bbc8d5b-a6df-4276-f2cc-6da7884413bc"
      },
      "execution_count": null,
      "outputs": [
        {
          "output_type": "stream",
          "name": "stdout",
          "text": [
            "Epoch 0/250, Loss: 0.0123\n",
            "Epoch 10/250, Loss: 0.0083\n",
            "Epoch 20/250, Loss: 0.0000\n",
            "Epoch 30/250, Loss: 0.0000\n",
            "Epoch 40/250, Loss: 0.0000\n",
            "Epoch 50/250, Loss: 0.0000\n",
            "Epoch 60/250, Loss: 0.0000\n",
            "Epoch 70/250, Loss: 0.0000\n",
            "Epoch 80/250, Loss: 0.0000\n",
            "Epoch 90/250, Loss: 0.0000\n",
            "Epoch 100/250, Loss: 0.0000\n",
            "Epoch 110/250, Loss: 0.0000\n",
            "Epoch 120/250, Loss: 0.0000\n",
            "Epoch 130/250, Loss: 0.0000\n",
            "Epoch 140/250, Loss: 0.0000\n",
            "Epoch 150/250, Loss: 0.0000\n",
            "Epoch 160/250, Loss: 0.0000\n",
            "Epoch 170/250, Loss: 0.0000\n",
            "Epoch 180/250, Loss: 0.0000\n",
            "Epoch 190/250, Loss: 0.0000\n",
            "Epoch 200/250, Loss: 0.0000\n",
            "Epoch 210/250, Loss: 0.0000\n",
            "Epoch 220/250, Loss: 0.0000\n",
            "Epoch 230/250, Loss: 0.0000\n",
            "Epoch 240/250, Loss: 0.0000\n"
          ]
        }
      ]
    },
    {
      "cell_type": "markdown",
      "source": [
        "#### Visualizing the Loss and Accuracies"
      ],
      "metadata": {
        "id": "pX3JJQLucJzC"
      }
    },
    {
      "cell_type": "code",
      "source": [
        "fig,ax = plt.subplots(1,2,figsize=(18,6))\n",
        "\n",
        "ax[0].plot(losses, 'g', lw = 3, label = 'Train')\n",
        "ax[0].set_xlabel('Epochs', fontsize = 15)\n",
        "ax[0].set_ylabel('Loss', fontsize = 15)\n",
        "ax[0].legend(fontsize = 15)\n",
        "ax[0].set_title('Training Loss', fontsize = 15)\n",
        "\n",
        "ax[1].plot(trainAcc, label ='Train', lw = 3)\n",
        "ax[1].plot(testAcc, label ='Test', lw = 3)\n",
        "ax[1].set_xlabel('Epochs', fontsize = 15)\n",
        "ax[1].set_ylabel('Accuracy (%)', fontsize = 15)\n",
        "ax[1].set_ylim([10,110])\n",
        "ax[1].set_title(f'Train Accuracy: {trainAcc[-1]:.2f}% \\n Test Accuracy: {testAcc[-1]:.2f}%', fontsize = 15)\n",
        "ax[1].legend(fontsize = 15)\n",
        "\n",
        "plt.show()"
      ],
      "metadata": {
        "colab": {
          "base_uri": "https://localhost:8080/",
          "height": 262
        },
        "id": "4AQ1ybR7ZKP6",
        "outputId": "25cc11e1-3f22-454b-8542-bed79fa02684"
      },
      "execution_count": null,
      "outputs": [
        {
          "output_type": "display_data",
          "data": {
            "text/plain": [
              "<Figure size 1800x600 with 2 Axes>"
            ],
            "image/png": "[encoded data removed]"
          },
          "metadata": {}
        }
      ]
    },
    {
      "cell_type": "code",
      "source": [],
      "metadata": {
        "id": "Bhk4ifLgcK18"
      },
      "execution_count": null,
      "outputs": []
    }
  ],
  "metadata": {
    "kernelspec": {
      "display_name": "Python 3",
      "name": "python3"
    },
    "language_info": {
      "codemirror_mode": {
        "name": "ipython",
        "version": 3
      },
      "file_extension": ".py",
      "mimetype": "text/x-python",
      "name": "python",
      "nbconvert_exporter": "python",
      "pygments_lexer": "ipython3",
      "version": "3.9.21"
    },
    "colab": {
      "provenance": [],
      "gpuType": "T4"
    },
    "accelerator": "GPU"
  },
  "nbformat": 4,
  "nbformat_minor": 0
}