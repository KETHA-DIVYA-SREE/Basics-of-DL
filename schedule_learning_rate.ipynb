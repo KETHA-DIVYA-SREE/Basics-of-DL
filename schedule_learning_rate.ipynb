{
 "cells": [
  {
   "cell_type": "code",
   "execution_count": 1,
   "metadata": {},
   "outputs": [],
   "source": [
    "import torch\n",
    "import torch.nn as nn\n",
    "import torch.nn.functional as F\n",
    "import numpy as np\n",
    "import pandas as pd\n",
    "import matplotlib.pyplot as plt\n",
    "from torch.utils.data import DataLoader, TensorDataset\n",
    "from sklearn.model_selection import train_test_split\n"
   ]
  },
  {
   "cell_type": "markdown",
   "metadata": {},
   "source": [
    "#### Check the availability of GPU"
   ]
  },
  {
   "cell_type": "code",
   "execution_count": 2,
   "metadata": {},
   "outputs": [
    {
     "data": {
      "text/plain": [
       "False"
      ]
     },
     "execution_count": 2,
     "metadata": {},
     "output_type": "execute_result"
    }
   ],
   "source": [
    "torch.cuda.is_available()"
   ]
  },
  {
   "cell_type": "code",
   "execution_count": 3,
   "metadata": {},
   "outputs": [
    {
     "data": {
      "text/plain": [
       "device(type='cpu')"
      ]
     },
     "execution_count": 3,
     "metadata": {},
     "output_type": "execute_result"
    }
   ],
   "source": [
    "device = torch.device('cuda:0' if torch.cuda.is_available() else 'cpu')\n",
    "device"
   ]
  },
  {
   "cell_type": "markdown",
   "metadata": {},
   "source": [
    "#### Load dataset"
   ]
  },
  {
   "cell_type": "code",
   "execution_count": 4,
   "metadata": {},
   "outputs": [
    {
     "data": {
      "text/plain": [
       "(   label  1x1  1x2  1x3  1x4  1x5  1x6  1x7  1x8  1x9  ...  28x19  28x20  \\\n",
       " 0      5    0    0    0    0    0    0    0    0    0  ...      0      0   \n",
       " 1      0    0    0    0    0    0    0    0    0    0  ...      0      0   \n",
       " 2      4    0    0    0    0    0    0    0    0    0  ...      0      0   \n",
       " 3      1    0    0    0    0    0    0    0    0    0  ...      0      0   \n",
       " 4      9    0    0    0    0    0    0    0    0    0  ...      0      0   \n",
       " \n",
       "    28x21  28x22  28x23  28x24  28x25  28x26  28x27  28x28  \n",
       " 0      0      0      0      0      0      0      0      0  \n",
       " 1      0      0      0      0      0      0      0      0  \n",
       " 2      0      0      0      0      0      0      0      0  \n",
       " 3      0      0      0      0      0      0      0      0  \n",
       " 4      0      0      0      0      0      0      0      0  \n",
       " \n",
       " [5 rows x 785 columns],\n",
       " pandas.core.frame.DataFrame,\n",
       " (60000, 785))"
      ]
     },
     "execution_count": 4,
     "metadata": {},
     "output_type": "execute_result"
    }
   ],
   "source": [
    "data = pd.read_csv('Clasification/mnist_train.csv')\n",
    "data.head(), type(data), data.shape"
   ]
  },
  {
   "cell_type": "markdown",
   "metadata": {},
   "source": [
    "#### MNIST dataset\n",
    "- Contains images of handwritten digits (0-9)\n",
    "- size of each image is 28 x 28 (pixels) and is gray scale\n",
    "    - So the input features = 1 x 28 x 28 = 784 pixels\n",
    "    - the classes (0-9) = 10 classes"
   ]
  },
  {
   "cell_type": "markdown",
   "metadata": {},
   "source": [
    "#### Transform data to numpy"
   ]
  },
  {
   "cell_type": "code",
   "execution_count": 5,
   "metadata": {},
   "outputs": [],
   "source": [
    "data = np.array(data)"
   ]
  },
  {
   "cell_type": "code",
   "execution_count": 6,
   "metadata": {},
   "outputs": [
    {
     "data": {
      "text/plain": [
       "((60000, 784), (60000,), numpy.ndarray, numpy.ndarray)"
      ]
     },
     "execution_count": 6,
     "metadata": {},
     "output_type": "execute_result"
    }
   ],
   "source": [
    "X = data[:, 1:]\n",
    "y = data[:, 0]\n",
    "\n",
    "X.shape, y.shape, type(X), type(y)"
   ]
  },
  {
   "cell_type": "markdown",
   "metadata": {},
   "source": [
    "#### Train test split"
   ]
  },
  {
   "cell_type": "code",
   "execution_count": 7,
   "metadata": {},
   "outputs": [],
   "source": [
    "X_train, X_test, y_train, y_test = train_test_split(X, y, test_size=0.2, random_state=42)"
   ]
  },
  {
   "cell_type": "markdown",
   "metadata": {},
   "source": [
    "#### Convert to tensor"
   ]
  },
  {
   "cell_type": "code",
   "execution_count": 8,
   "metadata": {},
   "outputs": [],
   "source": [
    "X_t = torch.tensor(X_train, dtype=torch.float32)\n",
    "y_t = torch.tensor(y_train, dtype=torch.long)\n",
    "\n",
    "X_train = X_t\n",
    "y_train = y_t\n",
    "X_test = torch.tensor(X_test, dtype=torch.float32)\n",
    "y_test = torch.tensor(y_test, dtype=torch.long)"
   ]
  },
  {
   "cell_type": "markdown",
   "metadata": {},
   "source": [
    "#### Normalize the data"
   ]
  },
  {
   "cell_type": "code",
   "execution_count": 9,
   "metadata": {},
   "outputs": [],
   "source": [
    "X_train = X_train/torch.max(X_train)\n",
    "X_test = X_test/torch.max(X_test)"
   ]
  },
  {
   "cell_type": "markdown",
   "metadata": {},
   "source": [
    "#### Convert to pytorch dataset"
   ]
  },
  {
   "cell_type": "code",
   "execution_count": 10,
   "metadata": {},
   "outputs": [],
   "source": [
    "X_train = TensorDataset(X_train, y_train)\n",
    "X_test = TensorDataset(X_test, y_test)"
   ]
  },
  {
   "cell_type": "markdown",
   "metadata": {},
   "source": [
    "#### Move data into dataloader objects"
   ]
  },
  {
   "cell_type": "code",
   "execution_count": 11,
   "metadata": {},
   "outputs": [],
   "source": [
    "batchSize = 32\n",
    "train_loader = DataLoader(X_train, batch_size=batchSize, shuffle=True, drop_last=True)\n",
    "test_loader = DataLoader(X_test, batch_size=X_test.tensors[0].shape[0])"
   ]
  },
  {
   "cell_type": "code",
   "execution_count": 12,
   "metadata": {},
   "outputs": [
    {
     "name": "stdout",
     "output_type": "stream",
     "text": [
      "torch.Size([32, 784]) torch.Size([32])\n"
     ]
    }
   ],
   "source": [
    "for X, y in train_loader:\n",
    "    print(X.shape, y.shape)\n",
    "    break"
   ]
  },
  {
   "cell_type": "markdown",
   "metadata": {},
   "source": [
    "#### Visualize"
   ]
  },
  {
   "cell_type": "code",
   "execution_count": 13,
   "metadata": {},
   "outputs": [
    {
     "data": {
      "image/png": "[encoded data removed]",
      "text/plain": [
       "<Figure size 1200x200 with 12 Axes>"
      ]
     },
     "metadata": {},
     "output_type": "display_data"
    }
   ],
   "source": [
    "fig, axs = plt.subplots(1, 12,figsize=(12,2))\n",
    "for i in range(12):\n",
    "    axs[i].imshow(X_t[i,:].view(28, 28).detach(), cmap='gray')\n",
    "    axs[i].set_xticks([])\n",
    "    axs[i].set_yticks([])\n",
    "plt.suptitle('Data images')\n",
    "plt.show()"
   ]
  },
  {
   "cell_type": "markdown",
   "metadata": {},
   "source": [
    "#### Create neural network"
   ]
  },
  {
   "cell_type": "code",
   "execution_count": 14,
   "metadata": {},
   "outputs": [],
   "source": [
    "class NN_Classifier(nn.Module):\n",
    "    def __init__(self):\n",
    "        super().__init__()\n",
    "        self.input = nn.Linear(784, 64)\n",
    "        self.fc1 = nn.Linear(64, 32)\n",
    "        self.fc2 = nn.Linear(32, 32)\n",
    "        \n",
    "        # classification or output layer\n",
    "        self.output = nn.Linear(32, 10)\n",
    "    # Forward pass\n",
    "    def forward(self, x):\n",
    "        x = self.input(x)\n",
    "        x = self.fc1(x)\n",
    "        x = F.relu(x)\n",
    "        x = self.fc2(x)\n",
    "        x = F.relu(x)\n",
    "        # output layer\n",
    "        x = self.output(x)\n",
    "        \n",
    "        return x\n",
    "model = NN_Classifier()"
   ]
  },
  {
   "cell_type": "markdown",
   "metadata": {},
   "source": [
    "## Train Model"
   ]
  },
  {
   "cell_type": "markdown",
   "metadata": {},
   "source": [
    "##### Calculate step size for scheduling learning rate"
   ]
  },
  {
   "cell_type": "code",
   "execution_count": 15,
   "metadata": {},
   "outputs": [
    {
     "data": {
      "text/plain": [
       "1500"
      ]
     },
     "execution_count": 15,
     "metadata": {},
     "output_type": "execute_result"
    }
   ],
   "source": [
    "len(train_loader) # (60000*0.8)/32 = 1500 --> number of itr to complete 1 epoch"
   ]
  },
  {
   "cell_type": "code",
   "execution_count": 16,
   "metadata": {},
   "outputs": [
    {
     "data": {
      "text/plain": [
       "15000"
      ]
     },
     "execution_count": 16,
     "metadata": {},
     "output_type": "execute_result"
    }
   ],
   "source": [
    "stepsize = 10 * len(train_loader) # equals to 10 epochs\n",
    "stepsize # --> learning rate changes after every 10th epoch (and is dependent on decay size)"
   ]
  },
  {
   "cell_type": "code",
   "execution_count": 17,
   "metadata": {},
   "outputs": [
    {
     "data": {
      "text/plain": [
       "NN_Classifier(\n",
       "  (input): Linear(in_features=784, out_features=64, bias=True)\n",
       "  (fc1): Linear(in_features=64, out_features=32, bias=True)\n",
       "  (fc2): Linear(in_features=32, out_features=32, bias=True)\n",
       "  (output): Linear(in_features=32, out_features=10, bias=True)\n",
       ")"
      ]
     },
     "execution_count": 17,
     "metadata": {},
     "output_type": "execute_result"
    }
   ],
   "source": [
    "learningRate = 0.01 # starting learning rate\n",
    "momentum = 0.9\n",
    "lossfc = nn.CrossEntropyLoss()\n",
    "optimizer = torch.optim.SGD(model.parameters(), momentum=momentum, lr=learningRate)\n",
    "\n",
    "scheduler = torch.optim.lr_scheduler.StepLR(optimizer, step_size=stepsize, gamma=0.5)\n",
    "\n",
    "model.to(device)"
   ]
  },
  {
   "cell_type": "code",
   "execution_count": 18,
   "metadata": {},
   "outputs": [
    {
     "name": "stdout",
     "output_type": "stream",
     "text": [
      " epochs : 0  loss :  0.20 learning Reate: 0.01\n",
      " epochs : 1  loss :  0.21 learning Reate: 0.01\n",
      " epochs : 2  loss :  0.13 learning Reate: 0.01\n",
      " epochs : 3  loss :  0.20 learning Reate: 0.01\n",
      " epochs : 4  loss :  0.18 learning Reate: 0.01\n",
      " epochs : 5  loss :  0.03 learning Reate: 0.01\n",
      " epochs : 6  loss :  0.02 learning Reate: 0.01\n",
      " epochs : 7  loss :  0.04 learning Reate: 0.01\n",
      " epochs : 8  loss :  0.15 learning Reate: 0.01\n",
      " epochs : 9  loss :  0.20 learning Reate: 0.005\n",
      " epochs : 10  loss :  0.18 learning Reate: 0.005\n",
      " epochs : 11  loss :  0.04 learning Reate: 0.005\n",
      " epochs : 12  loss :  0.05 learning Reate: 0.005\n",
      " epochs : 13  loss :  0.02 learning Reate: 0.005\n",
      " epochs : 14  loss :  0.14 learning Reate: 0.005\n",
      " epochs : 15  loss :  0.01 learning Reate: 0.005\n",
      " epochs : 16  loss :  0.01 learning Reate: 0.005\n",
      " epochs : 17  loss :  0.01 learning Reate: 0.005\n",
      " epochs : 18  loss :  0.00 learning Reate: 0.005\n",
      " epochs : 19  loss :  0.04 learning Reate: 0.0025\n",
      " epochs : 20  loss :  0.02 learning Reate: 0.0025\n",
      " epochs : 21  loss :  0.07 learning Reate: 0.0025\n",
      " epochs : 22  loss :  0.00 learning Reate: 0.0025\n",
      " epochs : 23  loss :  0.00 learning Reate: 0.0025\n",
      " epochs : 24  loss :  0.00 learning Reate: 0.0025\n",
      " epochs : 25  loss :  0.01 learning Reate: 0.0025\n",
      " epochs : 26  loss :  0.11 learning Reate: 0.0025\n",
      " epochs : 27  loss :  0.01 learning Reate: 0.0025\n",
      " epochs : 28  loss :  0.00 learning Reate: 0.0025\n",
      " epochs : 29  loss :  0.00 learning Reate: 0.00125\n",
      " epochs : 30  loss :  0.01 learning Reate: 0.00125\n",
      " epochs : 31  loss :  0.03 learning Reate: 0.00125\n",
      " epochs : 32  loss :  0.00 learning Reate: 0.00125\n",
      " epochs : 33  loss :  0.00 learning Reate: 0.00125\n",
      " epochs : 34  loss :  0.00 learning Reate: 0.00125\n",
      " epochs : 35  loss :  0.01 learning Reate: 0.00125\n",
      " epochs : 36  loss :  0.01 learning Reate: 0.00125\n",
      " epochs : 37  loss :  0.00 learning Reate: 0.00125\n",
      " epochs : 38  loss :  0.00 learning Reate: 0.00125\n",
      " epochs : 39  loss :  0.00 learning Reate: 0.000625\n",
      " epochs : 40  loss :  0.01 learning Reate: 0.000625\n",
      " epochs : 41  loss :  0.01 learning Reate: 0.000625\n",
      " epochs : 42  loss :  0.00 learning Reate: 0.000625\n",
      " epochs : 43  loss :  0.00 learning Reate: 0.000625\n",
      " epochs : 44  loss :  0.01 learning Reate: 0.000625\n",
      " epochs : 45  loss :  0.01 learning Reate: 0.000625\n",
      " epochs : 46  loss :  0.00 learning Reate: 0.000625\n",
      " epochs : 47  loss :  0.01 learning Reate: 0.000625\n",
      " epochs : 48  loss :  0.01 learning Reate: 0.000625\n",
      " epochs : 49  loss :  0.02 learning Reate: 0.0003125\n",
      " epochs : 50  loss :  0.00 learning Reate: 0.0003125\n",
      " epochs : 51  loss :  0.00 learning Reate: 0.0003125\n",
      " epochs : 52  loss :  0.00 learning Reate: 0.0003125\n",
      " epochs : 53  loss :  0.02 learning Reate: 0.0003125\n",
      " epochs : 54  loss :  0.00 learning Reate: 0.0003125\n",
      " epochs : 55  loss :  0.00 learning Reate: 0.0003125\n",
      " epochs : 56  loss :  0.01 learning Reate: 0.0003125\n",
      " epochs : 57  loss :  0.00 learning Reate: 0.0003125\n",
      " epochs : 58  loss :  0.00 learning Reate: 0.0003125\n",
      " epochs : 59  loss :  0.01 learning Reate: 0.00015625\n",
      " epochs : 60  loss :  0.00 learning Reate: 0.00015625\n",
      " epochs : 61  loss :  0.00 learning Reate: 0.00015625\n",
      " epochs : 62  loss :  0.00 learning Reate: 0.00015625\n",
      " epochs : 63  loss :  0.00 learning Reate: 0.00015625\n",
      " epochs : 64  loss :  0.00 learning Reate: 0.00015625\n",
      " epochs : 65  loss :  0.00 learning Reate: 0.00015625\n",
      " epochs : 66  loss :  0.00 learning Reate: 0.00015625\n",
      " epochs : 67  loss :  0.02 learning Reate: 0.00015625\n",
      " epochs : 68  loss :  0.00 learning Reate: 0.00015625\n",
      " epochs : 69  loss :  0.01 learning Reate: 7.8125e-05\n",
      " epochs : 70  loss :  0.01 learning Reate: 7.8125e-05\n",
      " epochs : 71  loss :  0.00 learning Reate: 7.8125e-05\n",
      " epochs : 72  loss :  0.00 learning Reate: 7.8125e-05\n",
      " epochs : 73  loss :  0.00 learning Reate: 7.8125e-05\n",
      " epochs : 74  loss :  0.00 learning Reate: 7.8125e-05\n",
      " epochs : 75  loss :  0.00 learning Reate: 7.8125e-05\n",
      " epochs : 76  loss :  0.01 learning Reate: 7.8125e-05\n",
      " epochs : 77  loss :  0.00 learning Reate: 7.8125e-05\n",
      " epochs : 78  loss :  0.00 learning Reate: 7.8125e-05\n",
      " epochs : 79  loss :  0.00 learning Reate: 3.90625e-05\n",
      " epochs : 80  loss :  0.00 learning Reate: 3.90625e-05\n",
      " epochs : 81  loss :  0.15 learning Reate: 3.90625e-05\n",
      " epochs : 82  loss :  0.00 learning Reate: 3.90625e-05\n",
      " epochs : 83  loss :  0.01 learning Reate: 3.90625e-05\n",
      " epochs : 84  loss :  0.06 learning Reate: 3.90625e-05\n",
      " epochs : 85  loss :  0.00 learning Reate: 3.90625e-05\n",
      " epochs : 86  loss :  0.00 learning Reate: 3.90625e-05\n",
      " epochs : 87  loss :  0.00 learning Reate: 3.90625e-05\n",
      " epochs : 88  loss :  0.00 learning Reate: 3.90625e-05\n",
      " epochs : 89  loss :  0.00 learning Reate: 1.953125e-05\n",
      " epochs : 90  loss :  0.00 learning Reate: 1.953125e-05\n",
      " epochs : 91  loss :  0.00 learning Reate: 1.953125e-05\n",
      " epochs : 92  loss :  0.00 learning Reate: 1.953125e-05\n",
      " epochs : 93  loss :  0.00 learning Reate: 1.953125e-05\n",
      " epochs : 94  loss :  0.00 learning Reate: 1.953125e-05\n",
      " epochs : 95  loss :  0.00 learning Reate: 1.953125e-05\n",
      " epochs : 96  loss :  0.00 learning Reate: 1.953125e-05\n",
      " epochs : 97  loss :  0.00 learning Reate: 1.953125e-05\n",
      " epochs : 98  loss :  0.01 learning Reate: 1.953125e-05\n",
      " epochs : 99  loss :  0.02 learning Reate: 9.765625e-06\n",
      " epochs : 100  loss :  0.00 learning Reate: 9.765625e-06\n",
      " epochs : 101  loss :  0.00 learning Reate: 9.765625e-06\n",
      " epochs : 102  loss :  0.00 learning Reate: 9.765625e-06\n",
      " epochs : 103  loss :  0.00 learning Reate: 9.765625e-06\n",
      " epochs : 104  loss :  0.00 learning Reate: 9.765625e-06\n",
      " epochs : 105  loss :  0.00 learning Reate: 9.765625e-06\n",
      " epochs : 106  loss :  0.00 learning Reate: 9.765625e-06\n",
      " epochs : 107  loss :  0.00 learning Reate: 9.765625e-06\n",
      " epochs : 108  loss :  0.00 learning Reate: 9.765625e-06\n",
      " epochs : 109  loss :  0.01 learning Reate: 4.8828125e-06\n",
      " epochs : 110  loss :  0.02 learning Reate: 4.8828125e-06\n",
      " epochs : 111  loss :  0.00 learning Reate: 4.8828125e-06\n",
      " epochs : 112  loss :  0.00 learning Reate: 4.8828125e-06\n",
      " epochs : 113  loss :  0.00 learning Reate: 4.8828125e-06\n",
      " epochs : 114  loss :  0.00 learning Reate: 4.8828125e-06\n",
      " epochs : 115  loss :  0.00 learning Reate: 4.8828125e-06\n",
      " epochs : 116  loss :  0.00 learning Reate: 4.8828125e-06\n",
      " epochs : 117  loss :  0.00 learning Reate: 4.8828125e-06\n",
      " epochs : 118  loss :  0.00 learning Reate: 4.8828125e-06\n",
      " epochs : 119  loss :  0.00 learning Reate: 2.44140625e-06\n",
      " epochs : 120  loss :  0.00 learning Reate: 2.44140625e-06\n",
      " epochs : 121  loss :  0.00 learning Reate: 2.44140625e-06\n",
      " epochs : 122  loss :  0.00 learning Reate: 2.44140625e-06\n",
      " epochs : 123  loss :  0.00 learning Reate: 2.44140625e-06\n",
      " epochs : 124  loss :  0.00 learning Reate: 2.44140625e-06\n",
      " epochs : 125  loss :  0.00 learning Reate: 2.44140625e-06\n",
      " epochs : 126  loss :  0.00 learning Reate: 2.44140625e-06\n",
      " epochs : 127  loss :  0.00 learning Reate: 2.44140625e-06\n",
      " epochs : 128  loss :  0.01 learning Reate: 2.44140625e-06\n",
      " epochs : 129  loss :  0.01 learning Reate: 1.220703125e-06\n",
      " epochs : 130  loss :  0.00 learning Reate: 1.220703125e-06\n",
      " epochs : 131  loss :  0.00 learning Reate: 1.220703125e-06\n",
      " epochs : 132  loss :  0.00 learning Reate: 1.220703125e-06\n",
      " epochs : 133  loss :  0.01 learning Reate: 1.220703125e-06\n",
      " epochs : 134  loss :  0.02 learning Reate: 1.220703125e-06\n",
      " epochs : 135  loss :  0.00 learning Reate: 1.220703125e-06\n",
      " epochs : 136  loss :  0.00 learning Reate: 1.220703125e-06\n",
      " epochs : 137  loss :  0.00 learning Reate: 1.220703125e-06\n",
      " epochs : 138  loss :  0.00 learning Reate: 1.220703125e-06\n",
      " epochs : 139  loss :  0.00 learning Reate: 6.103515625e-07\n",
      " epochs : 140  loss :  0.00 learning Reate: 6.103515625e-07\n",
      " epochs : 141  loss :  0.01 learning Reate: 6.103515625e-07\n",
      " epochs : 142  loss :  0.00 learning Reate: 6.103515625e-07\n",
      " epochs : 143  loss :  0.00 learning Reate: 6.103515625e-07\n",
      " epochs : 144  loss :  0.01 learning Reate: 6.103515625e-07\n",
      " epochs : 145  loss :  0.00 learning Reate: 6.103515625e-07\n",
      " epochs : 146  loss :  0.00 learning Reate: 6.103515625e-07\n",
      " epochs : 147  loss :  0.00 learning Reate: 6.103515625e-07\n",
      " epochs : 148  loss :  0.00 learning Reate: 6.103515625e-07\n",
      " epochs : 149  loss :  0.00 learning Reate: 3.0517578125e-07\n",
      " epochs : 150  loss :  0.00 learning Reate: 3.0517578125e-07\n",
      " epochs : 151  loss :  0.00 learning Reate: 3.0517578125e-07\n",
      " epochs : 152  loss :  0.00 learning Reate: 3.0517578125e-07\n",
      " epochs : 153  loss :  0.00 learning Reate: 3.0517578125e-07\n",
      " epochs : 154  loss :  0.04 learning Reate: 3.0517578125e-07\n",
      " epochs : 155  loss :  0.00 learning Reate: 3.0517578125e-07\n",
      " epochs : 156  loss :  0.01 learning Reate: 3.0517578125e-07\n",
      " epochs : 157  loss :  0.01 learning Reate: 3.0517578125e-07\n",
      " epochs : 158  loss :  0.00 learning Reate: 3.0517578125e-07\n",
      " epochs : 159  loss :  0.01 learning Reate: 1.52587890625e-07\n",
      " epochs : 160  loss :  0.01 learning Reate: 1.52587890625e-07\n",
      " epochs : 161  loss :  0.01 learning Reate: 1.52587890625e-07\n",
      " epochs : 162  loss :  0.00 learning Reate: 1.52587890625e-07\n",
      " epochs : 163  loss :  0.00 learning Reate: 1.52587890625e-07\n",
      " epochs : 164  loss :  0.01 learning Reate: 1.52587890625e-07\n",
      " epochs : 165  loss :  0.00 learning Reate: 1.52587890625e-07\n",
      " epochs : 166  loss :  0.00 learning Reate: 1.52587890625e-07\n",
      " epochs : 167  loss :  0.00 learning Reate: 1.52587890625e-07\n",
      " epochs : 168  loss :  0.01 learning Reate: 1.52587890625e-07\n",
      " epochs : 169  loss :  0.00 learning Reate: 7.62939453125e-08\n",
      " epochs : 170  loss :  0.01 learning Reate: 7.62939453125e-08\n",
      " epochs : 171  loss :  0.00 learning Reate: 7.62939453125e-08\n",
      " epochs : 172  loss :  0.01 learning Reate: 7.62939453125e-08\n",
      " epochs : 173  loss :  0.01 learning Reate: 7.62939453125e-08\n",
      " epochs : 174  loss :  0.00 learning Reate: 7.62939453125e-08\n",
      " epochs : 175  loss :  0.01 learning Reate: 7.62939453125e-08\n",
      " epochs : 176  loss :  0.01 learning Reate: 7.62939453125e-08\n",
      " epochs : 177  loss :  0.00 learning Reate: 7.62939453125e-08\n",
      " epochs : 178  loss :  0.01 learning Reate: 7.62939453125e-08\n",
      " epochs : 179  loss :  0.00 learning Reate: 3.814697265625e-08\n",
      " epochs : 180  loss :  0.00 learning Reate: 3.814697265625e-08\n",
      " epochs : 181  loss :  0.00 learning Reate: 3.814697265625e-08\n",
      " epochs : 182  loss :  0.01 learning Reate: 3.814697265625e-08\n",
      " epochs : 183  loss :  0.00 learning Reate: 3.814697265625e-08\n",
      " epochs : 184  loss :  0.01 learning Reate: 3.814697265625e-08\n",
      " epochs : 185  loss :  0.00 learning Reate: 3.814697265625e-08\n",
      " epochs : 186  loss :  0.00 learning Reate: 3.814697265625e-08\n",
      " epochs : 187  loss :  0.02 learning Reate: 3.814697265625e-08\n",
      " epochs : 188  loss :  0.00 learning Reate: 3.814697265625e-08\n",
      " epochs : 189  loss :  0.00 learning Reate: 1.9073486328125e-08\n",
      " epochs : 190  loss :  0.00 learning Reate: 1.9073486328125e-08\n",
      " epochs : 191  loss :  0.02 learning Reate: 1.9073486328125e-08\n",
      " epochs : 192  loss :  0.00 learning Reate: 1.9073486328125e-08\n",
      " epochs : 193  loss :  0.01 learning Reate: 1.9073486328125e-08\n",
      " epochs : 194  loss :  0.01 learning Reate: 1.9073486328125e-08\n",
      " epochs : 195  loss :  0.00 learning Reate: 1.9073486328125e-08\n",
      " epochs : 196  loss :  0.01 learning Reate: 1.9073486328125e-08\n",
      " epochs : 197  loss :  0.00 learning Reate: 1.9073486328125e-08\n",
      " epochs : 198  loss :  0.00 learning Reate: 1.9073486328125e-08\n",
      " epochs : 199  loss :  0.00 learning Reate: 9.5367431640625e-09\n",
      " epochs : 200  loss :  0.00 learning Reate: 9.5367431640625e-09\n",
      " epochs : 201  loss :  0.00 learning Reate: 9.5367431640625e-09\n",
      " epochs : 202  loss :  0.00 learning Reate: 9.5367431640625e-09\n",
      " epochs : 203  loss :  0.00 learning Reate: 9.5367431640625e-09\n",
      " epochs : 204  loss :  0.00 learning Reate: 9.5367431640625e-09\n",
      " epochs : 205  loss :  0.00 learning Reate: 9.5367431640625e-09\n",
      " epochs : 206  loss :  0.00 learning Reate: 9.5367431640625e-09\n",
      " epochs : 207  loss :  0.00 learning Reate: 9.5367431640625e-09\n",
      " epochs : 208  loss :  0.01 learning Reate: 9.5367431640625e-09\n",
      " epochs : 209  loss :  0.01 learning Reate: 4.76837158203125e-09\n",
      " epochs : 210  loss :  0.00 learning Reate: 4.76837158203125e-09\n",
      " epochs : 211  loss :  0.00 learning Reate: 4.76837158203125e-09\n",
      " epochs : 212  loss :  0.00 learning Reate: 4.76837158203125e-09\n",
      " epochs : 213  loss :  0.02 learning Reate: 4.76837158203125e-09\n",
      " epochs : 214  loss :  0.01 learning Reate: 4.76837158203125e-09\n",
      " epochs : 215  loss :  0.00 learning Reate: 4.76837158203125e-09\n",
      " epochs : 216  loss :  0.00 learning Reate: 4.76837158203125e-09\n",
      " epochs : 217  loss :  0.00 learning Reate: 4.76837158203125e-09\n",
      " epochs : 218  loss :  0.00 learning Reate: 4.76837158203125e-09\n",
      " epochs : 219  loss :  0.00 learning Reate: 2.384185791015625e-09\n",
      " epochs : 220  loss :  0.00 learning Reate: 2.384185791015625e-09\n",
      " epochs : 221  loss :  0.01 learning Reate: 2.384185791015625e-09\n",
      " epochs : 222  loss :  0.05 learning Reate: 2.384185791015625e-09\n",
      " epochs : 223  loss :  0.00 learning Reate: 2.384185791015625e-09\n",
      " epochs : 224  loss :  0.00 learning Reate: 2.384185791015625e-09\n",
      " epochs : 225  loss :  0.00 learning Reate: 2.384185791015625e-09\n",
      " epochs : 226  loss :  0.00 learning Reate: 2.384185791015625e-09\n",
      " epochs : 227  loss :  0.00 learning Reate: 2.384185791015625e-09\n",
      " epochs : 228  loss :  0.05 learning Reate: 2.384185791015625e-09\n",
      " epochs : 229  loss :  0.00 learning Reate: 1.1920928955078125e-09\n",
      " epochs : 230  loss :  0.00 learning Reate: 1.1920928955078125e-09\n",
      " epochs : 231  loss :  0.01 learning Reate: 1.1920928955078125e-09\n",
      " epochs : 232  loss :  0.00 learning Reate: 1.1920928955078125e-09\n",
      " epochs : 233  loss :  0.00 learning Reate: 1.1920928955078125e-09\n",
      " epochs : 234  loss :  0.02 learning Reate: 1.1920928955078125e-09\n",
      " epochs : 235  loss :  0.00 learning Reate: 1.1920928955078125e-09\n",
      " epochs : 236  loss :  0.00 learning Reate: 1.1920928955078125e-09\n",
      " epochs : 237  loss :  0.02 learning Reate: 1.1920928955078125e-09\n",
      " epochs : 238  loss :  0.00 learning Reate: 1.1920928955078125e-09\n",
      " epochs : 239  loss :  0.00 learning Reate: 5.960464477539063e-10\n",
      " epochs : 240  loss :  0.00 learning Reate: 5.960464477539063e-10\n",
      " epochs : 241  loss :  0.00 learning Reate: 5.960464477539063e-10\n",
      " epochs : 242  loss :  0.00 learning Reate: 5.960464477539063e-10\n",
      " epochs : 243  loss :  0.00 learning Reate: 5.960464477539063e-10\n",
      " epochs : 244  loss :  0.00 learning Reate: 5.960464477539063e-10\n",
      " epochs : 245  loss :  0.00 learning Reate: 5.960464477539063e-10\n",
      " epochs : 246  loss :  0.01 learning Reate: 5.960464477539063e-10\n",
      " epochs : 247  loss :  0.00 learning Reate: 5.960464477539063e-10\n",
      " epochs : 248  loss :  0.02 learning Reate: 5.960464477539063e-10\n",
      " epochs : 249  loss :  0.00 learning Reate: 2.9802322387695313e-10\n"
     ]
    }
   ],
   "source": [
    "epochs = 250\n",
    "losses    = torch.zeros(epochs)\n",
    "trainAcc  = []\n",
    "testAcc   = []\n",
    "\n",
    "for epoch in range(epochs):\n",
    "    model.train()\n",
    "    # Loop for training in batches\n",
    "    batchAcc  = []\n",
    "    batchLoss = []\n",
    "    for X,y in train_loader:\n",
    "        X = X.to(device) # Placing features on device\n",
    "        y = y.to(device) # placing labels on device\n",
    "        ypred = model(X)\n",
    "        loss = lossfc(ypred,y)\n",
    "        # Backpropagation\n",
    "        optimizer.zero_grad()\n",
    "        loss.backward()\n",
    "        optimizer.step()\n",
    "        scheduler.step() # FOR SCHEDULE LEARNING RATE\n",
    "        # Append batchloss\n",
    "        batchLoss.append(loss.item())\n",
    "        ypred = ypred.cpu() # Back to cpu\n",
    "        y = y.cpu()\n",
    "        # compute batch accuracy\n",
    "        acc = 100 * torch.mean((torch.argmax(ypred, dim=1) == y).float())\n",
    "        batchAcc.append(acc)\n",
    "    # Average training accuracy (Outside the batchloop)\n",
    "    trainAcc.append(np.mean(batchAcc))\n",
    "    # Losses through epochs\n",
    "    losses[epoch] = np.mean(batchLoss)\n",
    "    \n",
    "    \n",
    "    # TESTING the model\n",
    "    model.eval()\n",
    "    X,y = next(iter(test_loader))\n",
    "    X = X.to(device)\n",
    "    y = y.to(device)\n",
    "    with torch.no_grad(): #This step  Deactivating autogradient\n",
    "        ypred = model(X)\n",
    "        ypred = ypred.cpu()\n",
    "        y = y.cpu()\n",
    "        # Appending test accuracy\n",
    "        testAcc.append(100 * torch.mean((torch.argmax(ypred,dim=1)==y).float()))\n",
    "        print(f' epochs : {epoch}  loss : {loss : 2.2f} learning Reate: {scheduler.get_last_lr()[0]}')\n",
    "\n"
   ]
  },
  {
   "cell_type": "markdown",
   "metadata": {},
   "source": [
    "# Visualizing the Loss and Accuracies"
   ]
  },
  {
   "cell_type": "code",
   "execution_count": 19,
   "metadata": {},
   "outputs": [
    {
     "data": {
      "image/png": "[encoded data removed]",
      "text/plain": [
       "<Figure size 1800x600 with 2 Axes>"
      ]
     },
     "metadata": {},
     "output_type": "display_data"
    }
   ],
   "source": [
    "fig,ax = plt.subplots(1,2,figsize=(18,6))\n",
    "\n",
    "ax[0].plot(losses, 'g', lw = 3, label = 'Train')\n",
    "ax[0].set_xlabel('Epochs', fontsize = 15)\n",
    "ax[0].set_ylabel('Loss', fontsize = 15)\n",
    "ax[0].legend(fontsize = 15)\n",
    "ax[0].set_title('Training Loss', fontsize = 15)\n",
    "\n",
    "ax[1].plot(trainAcc, label ='Train', lw = 3)\n",
    "ax[1].plot(testAcc, label ='Test', lw = 3)\n",
    "ax[1].set_xlabel('Epochs', fontsize = 15)\n",
    "ax[1].set_ylabel('Accuracy (%)', fontsize = 15)\n",
    "ax[1].set_ylim([10,110])\n",
    "ax[1].set_title(f'Train Accuracy: {trainAcc[-1]:.2f}% \\n Test Accuracy: {testAcc[-1]:.2f}%', fontsize = 15)\n",
    "ax[1].legend(fontsize = 15)\n",
    "\n",
    "plt.show()"
   ]
  },
  {
   "cell_type": "code",
   "execution_count": 20,
   "metadata": {},
   "outputs": [
    {
     "data": {
      "text/plain": [
       "tensor([[ -6.9611,  -5.7081,   5.2896,  ...,  20.6930,  -8.2786,   3.0823],\n",
       "        [-26.6504,  14.5228,  -1.4190,  ...,   8.3056, -10.9634,  11.0467],\n",
       "        [  1.6910,   2.0909,   1.1161,  ..., -10.2094,  26.6086,  -1.8633],\n",
       "        ...,\n",
       "        [-10.0736,  -7.6524,  -9.4356,  ...,  -1.1202,   5.6773,  15.2127],\n",
       "        [  5.0338,  -9.0291,  -5.3028,  ...,  27.1492, -17.6549,  15.7626],\n",
       "        [  6.5181,   1.0695,  25.8167,  ...,   3.7550,  -2.1013, -12.3355]],\n",
       "       grad_fn=<AddmmBackward0>)"
      ]
     },
     "execution_count": 20,
     "metadata": {},
     "output_type": "execute_result"
    }
   ],
   "source": [
    "ypred_1 = model(X)\n",
    "ypred_1"
   ]
  },
  {
   "cell_type": "markdown",
   "metadata": {},
   "source": [
    "#### Save the model (Method 1)"
   ]
  },
  {
   "cell_type": "code",
   "execution_count": 21,
   "metadata": {},
   "outputs": [],
   "source": [
    "torch.save(model.state_dict(), 'nn_mnist_classification.pt')"
   ]
  },
  {
   "cell_type": "markdown",
   "metadata": {},
   "source": [
    "#### Load the saved model"
   ]
  },
  {
   "cell_type": "code",
   "execution_count": 22,
   "metadata": {},
   "outputs": [
    {
     "name": "stderr",
     "output_type": "stream",
     "text": [
      "C:\\Users\\divya\\AppData\\Local\\Temp\\ipykernel_388\\2984902057.py:1: FutureWarning: You are using `torch.load` with `weights_only=False` (the current default value), which uses the default pickle module implicitly. It is possible to construct malicious pickle data which will execute arbitrary code during unpickling (See https://github.com/pytorch/pytorch/blob/main/SECURITY.md#untrusted-models for more details). In a future release, the default value for `weights_only` will be flipped to `True`. This limits the functions that could be executed during unpickling. Arbitrary objects will no longer be allowed to be loaded via this mode unless they are explicitly allowlisted by the user via `torch.serialization.add_safe_globals`. We recommend you start setting `weights_only=True` for any use case where you don't have full control of the loaded file. Please open an issue on GitHub for any issues related to this experimental feature.\n",
      "  model.load_state_dict(torch.load('nn_mnist_classification.pt'))\n"
     ]
    },
    {
     "data": {
      "text/plain": [
       "<All keys matched successfully>"
      ]
     },
     "execution_count": 22,
     "metadata": {},
     "output_type": "execute_result"
    }
   ],
   "source": [
    "model.load_state_dict(torch.load('nn_mnist_classification.pt'))"
   ]
  },
  {
   "cell_type": "markdown",
   "metadata": {},
   "source": [
    "#### Test loaded model"
   ]
  },
  {
   "cell_type": "code",
   "execution_count": 23,
   "metadata": {},
   "outputs": [
    {
     "name": "stdout",
     "output_type": "stream",
     "text": [
      "tensor([[0., 0., 0.,  ..., 0., 0., 0.],\n",
      "        [0., 0., 0.,  ..., 0., 0., 0.],\n",
      "        [0., 0., 0.,  ..., 0., 0., 0.],\n",
      "        ...,\n",
      "        [0., 0., 0.,  ..., 0., 0., 0.],\n",
      "        [0., 0., 0.,  ..., 0., 0., 0.],\n",
      "        [0., 0., 0.,  ..., 0., 0., 0.]]) tensor([7, 3, 8,  ..., 9, 7, 2])\n",
      "tensor(97.1833)\n"
     ]
    }
   ],
   "source": [
    "model.to(device)\n",
    "X, y = next(iter(test_loader))\n",
    "X = X.to(device)\n",
    "y = y.to(device)\n",
    "\n",
    "print(X, y)\n",
    "with torch.no_grad(): #This step  Deactivating autogradient\n",
    "    ypred = model(X)\n",
    "    ypred = ypred.cpu()\n",
    "    y = y.cpu()\n",
    "acc = 100 * torch.mean((torch.argmax(ypred,dim=1)==y).float())\n",
    "print(acc)"
   ]
  },
  {
   "cell_type": "markdown",
   "metadata": {},
   "source": [
    "#### Save the model (Method 2)"
   ]
  },
  {
   "cell_type": "code",
   "execution_count": 24,
   "metadata": {},
   "outputs": [],
   "source": [
    "NewModel = NN_Classifier()"
   ]
  },
  {
   "cell_type": "markdown",
   "metadata": {},
   "source": [
    "#### Transfer weights of the trained model to new model"
   ]
  },
  {
   "cell_type": "code",
   "execution_count": 25,
   "metadata": {},
   "outputs": [
    {
     "name": "stderr",
     "output_type": "stream",
     "text": [
      "C:\\Users\\divya\\AppData\\Local\\Temp\\ipykernel_388\\2399522477.py:1: FutureWarning: You are using `torch.load` with `weights_only=False` (the current default value), which uses the default pickle module implicitly. It is possible to construct malicious pickle data which will execute arbitrary code during unpickling (See https://github.com/pytorch/pytorch/blob/main/SECURITY.md#untrusted-models for more details). In a future release, the default value for `weights_only` will be flipped to `True`. This limits the functions that could be executed during unpickling. Arbitrary objects will no longer be allowed to be loaded via this mode unless they are explicitly allowlisted by the user via `torch.serialization.add_safe_globals`. We recommend you start setting `weights_only=True` for any use case where you don't have full control of the loaded file. Please open an issue on GitHub for any issues related to this experimental feature.\n",
      "  NewModel.load_state_dict(torch.load('nn_mnist_classification.pt'))\n"
     ]
    },
    {
     "data": {
      "text/plain": [
       "<All keys matched successfully>"
      ]
     },
     "execution_count": 25,
     "metadata": {},
     "output_type": "execute_result"
    }
   ],
   "source": [
    "NewModel.load_state_dict(torch.load('nn_mnist_classification.pt'))"
   ]
  },
  {
   "cell_type": "code",
   "execution_count": 26,
   "metadata": {},
   "outputs": [
    {
     "data": {
      "text/plain": [
       "tensor(97.1833)"
      ]
     },
     "execution_count": 26,
     "metadata": {},
     "output_type": "execute_result"
    }
   ],
   "source": [
    "NewModel.to(device)\n",
    "X, y = next(iter(test_loader))\n",
    "X = X.to(device)\n",
    "y = y.to(device)\n",
    "\n",
    "with torch.no_grad(): #This step  Deactivating autogradient\n",
    "    ypred = NewModel(X)\n",
    "    ypred = ypred.cpu()\n",
    "    y = y.cpu()\n",
    "    # Appending test accuracy\n",
    "acc = 100 * torch.mean((torch.argmax(ypred,dim=1)==y).float())\n",
    "acc"
   ]
  },
  {
   "cell_type": "code",
   "execution_count": null,
   "metadata": {},
   "outputs": [],
   "source": []
  },
  {
   "cell_type": "code",
   "execution_count": null,
   "metadata": {},
   "outputs": [],
   "source": []
  }
 ],
 "metadata": {
  "kernelspec": {
   "display_name": "Python 3",
   "language": "python",
   "name": "python3"
  },
  "language_info": {
   "codemirror_mode": {
    "name": "ipython",
    "version": 3
   },
   "file_extension": ".py",
   "mimetype": "text/x-python",
   "name": "python",
   "nbconvert_exporter": "python",
   "pygments_lexer": "ipython3",
   "version": "3.9.21"
  }
 },
 "nbformat": 4,
 "nbformat_minor": 2
}
